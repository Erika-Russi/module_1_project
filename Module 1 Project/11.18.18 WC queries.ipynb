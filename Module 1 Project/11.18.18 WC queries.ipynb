{
 "cells": [
  {
   "cell_type": "code",
   "execution_count": 1,
   "metadata": {},
   "outputs": [],
   "source": [
    "import requests\n",
    "url = 'https://worldcup.sfg.io/matches'\n",
    "r = requests.get(url)\n",
    "all_games = r.json()"
   ]
  },
  {
   "cell_type": "code",
   "execution_count": 2,
   "metadata": {},
   "outputs": [],
   "source": [
    "from datetime import datetime as dt\n",
    "from sqlalchemy import Column, Integer, String, ForeignKey, DateTime, create_engine\n",
    "from sqlalchemy.ext.declarative import declarative_base\n",
    "from sqlalchemy.orm import sessionmaker, relationship, backref\n",
    "\n",
    "Base = declarative_base()\n",
    "\n",
    "class Game(Base):\n",
    "    __tablename__ = 'games'\n",
    "    id = Column(Integer, primary_key=True)\n",
    "    venue = Column(String)\n",
    "    winner = Column(String)\n",
    "    statistics = relationship('Statistics', back_populates=\"game\")\n",
    "    teams = relationship(\n",
    "        'Team',\n",
    "        secondary='statistics',\n",
    "        back_populates='games'\n",
    "    )\n",
    "\n",
    "class Team(Base):\n",
    "    __tablename__ = 'teams'\n",
    "    id = Column(Integer, primary_key=True)\n",
    "    country = Column(String)\n",
    "    statistics = relationship('Statistics', back_populates=\"team\")\n",
    "    games = relationship(\n",
    "        'Game',\n",
    "        secondary='statistics',\n",
    "        back_populates='teams'\n",
    "    )\n",
    "\n",
    "class Statistics(Base):\n",
    "    __tablename__ = 'statistics'\n",
    "    id = Column(Integer, primary_key=True)\n",
    "    name = Column(String)\n",
    "    game_id = Column(Integer, ForeignKey('games.id'))\n",
    "    team_id = Column(Integer, ForeignKey('teams.id'))\n",
    "    goals = Column(Integer)\n",
    "    game = relationship('Game', back_populates='statistics')\n",
    "    team = relationship('Team', back_populates='statistics')\n",
    "    ball_possession=Column(Integer)\n",
    "    distance_covered=Column(Integer)\n",
    "    on_target=Column(Integer)\n",
    "    pass_accuracy=Column(Integer)\n",
    "\n",
    "engine = create_engine('sqlite:///worldcup.db')\n",
    "Base.metadata.create_all(engine)\n",
    "Session = sessionmaker(bind=engine)\n",
    "session = Session()"
   ]
  },
  {
   "cell_type": "code",
   "execution_count": 3,
   "metadata": {},
   "outputs": [],
   "source": [
    "all_games_tuples= [(game['venue'], game['home_team_country'], game['away_team_country'], game['winner']) for game in all_games]"
   ]
  },
  {
   "cell_type": "code",
   "execution_count": 4,
   "metadata": {},
   "outputs": [],
   "source": [
    "h_teams = set([t[1] for t in all_games_tuples])\n",
    "a_teams = set([t[2] for t in all_games_tuples])\n",
    "teams = h_teams.union(a_teams)"
   ]
  },
  {
   "cell_type": "code",
   "execution_count": 5,
   "metadata": {},
   "outputs": [
    {
     "data": {
      "text/plain": [
       "32"
      ]
     },
     "execution_count": 5,
     "metadata": {},
     "output_type": "execute_result"
    }
   ],
   "source": [
    "team_objects = [Team(country = t) for t in teams]\n",
    "len(team_objects)"
   ]
  },
  {
   "cell_type": "code",
   "execution_count": 6,
   "metadata": {},
   "outputs": [],
   "source": [
    "session.add_all(team_objects)\n",
    "session.commit()"
   ]
  },
  {
   "cell_type": "code",
   "execution_count": 7,
   "metadata": {
    "scrolled": true
   },
   "outputs": [],
   "source": [
    "all_game_objects = []\n",
    "all_stats = []\n",
    "for game in all_games:\n",
    "    h_team = session.query(Team).filter(Team.country == game['home_team_statistics']['country']).one()\n",
    "    a_team = session.query(Team).filter(Team.country == game['away_team_statistics']['country']).one()\n",
    "    game_object = Game(venue= game['venue'],\n",
    "                       winner = game['winner'])\n",
    "    all_game_objects.append(game_object)\n",
    "\n",
    "\n",
    "    h_name = game['home_team']['country']\n",
    "    a_name = game['away_team']['country']\n",
    "    h_goals = game['home_team']['goals']\n",
    "    h_ball_possession = game['home_team_statistics']['ball_possession']\n",
    "    a_goals = game['away_team']['goals']\n",
    "    a_ball_possession = game['away_team_statistics']['ball_possession']\n",
    "    h_distance_covered = game['home_team_statistics']['distance_covered']\n",
    "    a_distance_covered = game['away_team_statistics']['distance_covered']\n",
    "    h_pass_accuracy = game['home_team_statistics']['pass_accuracy']\n",
    "    a_pass_accuracy = game['away_team_statistics']['pass_accuracy']\n",
    "    h_on_target = game['home_team_statistics']['on_target']\n",
    "    a_on_target = game['away_team_statistics']['on_target']\n",
    "\n",
    "\n",
    "    h_stats = Statistics(game = game_object,\n",
    "                         name= h_name,\n",
    "                         team = h_team,\n",
    "                        ball_possession =h_ball_possession,\n",
    "                        goals = h_goals,\n",
    "                        distance_covered = h_distance_covered,\n",
    "                        pass_accuracy = h_pass_accuracy,\n",
    "                        on_target = h_on_target)\n",
    "    a_stats = Statistics(game = game_object,\n",
    "                         name= a_name,\n",
    "                        team = a_team,\n",
    "                        ball_possession =a_ball_possession,\n",
    "                        goals = a_goals,\n",
    "                        distance_covered = a_distance_covered,\n",
    "                        pass_accuracy = a_pass_accuracy,\n",
    "                        on_target = a_on_target)\n",
    "    all_stats.append(h_stats)\n",
    "    all_stats.append(a_stats)\n"
   ]
  },
  {
   "cell_type": "code",
   "execution_count": 8,
   "metadata": {},
   "outputs": [
    {
     "data": {
      "text/plain": [
       "64"
      ]
     },
     "execution_count": 8,
     "metadata": {},
     "output_type": "execute_result"
    }
   ],
   "source": [
    "len(all_game_objects)"
   ]
  },
  {
   "cell_type": "code",
   "execution_count": 9,
   "metadata": {},
   "outputs": [
    {
     "data": {
      "text/plain": [
       "128"
      ]
     },
     "execution_count": 9,
     "metadata": {},
     "output_type": "execute_result"
    }
   ],
   "source": [
    "len(all_stats)"
   ]
  },
  {
   "cell_type": "code",
   "execution_count": 10,
   "metadata": {},
   "outputs": [],
   "source": [
    "session.add_all(all_game_objects)\n",
    "session.add_all(all_stats)\n",
    "session.commit()"
   ]
  },
  {
   "cell_type": "code",
   "execution_count": 11,
   "metadata": {},
   "outputs": [
    {
     "data": {
      "text/plain": [
       "[<__main__.Statistics at 0x11040fda0>,\n",
       " <__main__.Statistics at 0x110445e80>,\n",
       " <__main__.Statistics at 0x110457cf8>,\n",
       " <__main__.Statistics at 0x11046f128>,\n",
       " <__main__.Statistics at 0x110464ac8>]"
      ]
     },
     "execution_count": 11,
     "metadata": {},
     "output_type": "execute_result"
    }
   ],
   "source": [
    "#all statistics objects where russia played\n",
    "session.query(Statistics).join(Team).filter(Team.country == 'Russia').all()"
   ]
  },
  {
   "cell_type": "code",
   "execution_count": 14,
   "metadata": {},
   "outputs": [],
   "source": [
    "from sqlalchemy.sql import func"
   ]
  },
  {
   "cell_type": "code",
   "execution_count": 46,
   "metadata": {},
   "outputs": [
    {
     "data": {
      "text/plain": [
       "[('Russia', 125.0),\n",
       " ('Croatia', 116.71428571428571),\n",
       " ('England', 116.42857142857143),\n",
       " ('Denmark', 115.5),\n",
       " ('Serbia', 112.0),\n",
       " ('Spain', 112.0),\n",
       " ('Germany', 111.33333333333333),\n",
       " ('Australia', 109.66666666666667)]"
      ]
     },
     "execution_count": 46,
     "metadata": {},
     "output_type": "execute_result"
    }
   ],
   "source": [
    "def top_eight_average_dc_per_game_desc():\n",
    "    return session.query(Team.country, func.avg(Statistics.distance_covered)).group_by(Statistics.name).order_by(func.avg(Statistics.distance_covered).desc()).join(Statistics)[0:8]\n",
    "\n",
    "top_eight_average_dc_per_game_desc()"
   ]
  },
  {
   "cell_type": "code",
   "execution_count": 60,
   "metadata": {},
   "outputs": [
    {
     "data": {
      "text/plain": [
       "[('Ekaterinburg', 1.125),\n",
       " ('Kaliningrad', 1.25),\n",
       " ('Kazan', 1.5833333333333333),\n",
       " ('Moscow', 1.4166666666666667),\n",
       " ('Nizhny Novgorod', 1.5833333333333333),\n",
       " ('Rostov-On-Don', 1.4),\n",
       " ('Samara', 0.9166666666666666),\n",
       " ('Saransk', 1.125),\n",
       " ('Sochi', 1.75),\n",
       " ('St. Petersburg', 1.0),\n",
       " ('Volgograd', 1.125)]"
      ]
     },
     "execution_count": 60,
     "metadata": {},
     "output_type": "execute_result"
    }
   ],
   "source": [
    "def return_venue_by_avg_goals_desc():\n",
    "    return session.query(Game.venue, func.avg(Statistics.goals)).join(Statistics).group_by(Game.venue).order_by(Game.venue).all()\n",
    "\n",
    "return_venue_by_avg_goals_desc()"
   ]
  },
  {
   "cell_type": "code",
   "execution_count": 63,
   "metadata": {},
   "outputs": [
    {
     "data": {
      "text/plain": [
       "[('Ekaterinburg', 9),\n",
       " ('Kaliningrad', 10),\n",
       " ('Kazan', 19),\n",
       " ('Moscow', 34),\n",
       " ('Nizhny Novgorod', 19),\n",
       " ('Rostov-On-Don', 14),\n",
       " ('Samara', 11),\n",
       " ('Saransk', 9),\n",
       " ('Sochi', 21),\n",
       " ('St. Petersburg', 14),\n",
       " ('Volgograd', 9)]"
      ]
     },
     "execution_count": 63,
     "metadata": {},
     "output_type": "execute_result"
    }
   ],
   "source": [
    "def return_venue_by_sum_goals_desc():\n",
    "    return session.query(Game.venue, func.sum(Statistics.goals)).join(Statistics).group_by(Game.venue).order_by(Game.venue).all()\n",
    "\n",
    "return_venue_by_sum_goals_desc()"
   ]
  },
  {
   "cell_type": "code",
   "execution_count": 68,
   "metadata": {
    "scrolled": true
   },
   "outputs": [
    {
     "data": {
      "text/plain": [
       "[('Draw', 9),\n",
       " ('Belgium', 6),\n",
       " ('Croatia', 6),\n",
       " ('France', 6),\n",
       " ('England', 4),\n",
       " ('Uruguay', 4),\n",
       " ('Brazil', 3),\n",
       " ('Russia', 3),\n",
       " ('Sweden', 3),\n",
       " ('Colombia', 2),\n",
       " ('Mexico', 2),\n",
       " ('Argentina', 1),\n",
       " ('Denmark', 1),\n",
       " ('Germany', 1),\n",
       " ('Iran', 1),\n",
       " ('Japan', 1),\n",
       " ('Korea Republic', 1),\n",
       " ('Nigeria', 1),\n",
       " ('Peru', 1),\n",
       " ('Poland', 1),\n",
       " ('Portugal', 1),\n",
       " ('Saudi Arabia', 1),\n",
       " ('Senegal', 1),\n",
       " ('Serbia', 1),\n",
       " ('Spain', 1),\n",
       " ('Switzerland', 1),\n",
       " ('Tunisia', 1)]"
      ]
     },
     "execution_count": 68,
     "metadata": {},
     "output_type": "execute_result"
    }
   ],
   "source": [
    "\n",
    "def return_game_winners_by_goals_desc():\n",
    "    return session.query(Game.winner, func.count(Game.winner)).group_by(Game.winner).order_by(func.count(Game.winner).desc()).all()\n",
    "return_game_winners_by_goals_desc()"
   ]
  },
  {
   "cell_type": "code",
   "execution_count": 70,
   "metadata": {},
   "outputs": [
    {
     "data": {
      "text/plain": [
       "[('Belgium', 6),\n",
       " ('Croatia', 6),\n",
       " ('France', 6),\n",
       " ('England', 4),\n",
       " ('Uruguay', 4),\n",
       " ('Brazil', 3),\n",
       " ('Russia', 3),\n",
       " ('Sweden', 3)]"
      ]
     },
     "execution_count": 70,
     "metadata": {},
     "output_type": "execute_result"
    }
   ],
   "source": [
    "def return_top_eight_teams_by_num_wins():\n",
    "    return session.query(Game.winner, func.count(Game.winner)).group_by(Game.winner).order_by(func.count(Game.winner).desc())[1:9]\n",
    "return_top_eight_teams_by_num_wins()"
   ]
  },
  {
   "cell_type": "code",
   "execution_count": null,
   "metadata": {},
   "outputs": [],
   "source": []
  }
 ],
 "metadata": {
  "kernelspec": {
   "display_name": "Python 3",
   "language": "python",
   "name": "python3"
  },
  "language_info": {
   "codemirror_mode": {
    "name": "ipython",
    "version": 3
   },
   "file_extension": ".py",
   "mimetype": "text/x-python",
   "name": "python",
   "nbconvert_exporter": "python",
   "pygments_lexer": "ipython3",
   "version": "3.7.0"
  }
 },
 "nbformat": 4,
 "nbformat_minor": 2
}

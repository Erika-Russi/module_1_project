{
 "cells": [
  {
   "cell_type": "code",
   "execution_count": 1,
   "metadata": {},
   "outputs": [],
   "source": [
    "import requests\n",
    "url = 'https://worldcup.sfg.io/matches'\n",
    "r = requests.get(url)\n",
    "all_games = r.json()"
   ]
  },
  {
   "cell_type": "code",
   "execution_count": 4,
   "metadata": {},
   "outputs": [
    {
     "data": {
      "text/plain": [
       "'2018-06-14T15:00:00Z'"
      ]
     },
     "execution_count": 4,
     "metadata": {},
     "output_type": "execute_result"
    }
   ],
   "source": [
    "# all_games[0]['datetime']"
   ]
  },
  {
   "cell_type": "code",
   "execution_count": 104,
   "metadata": {},
   "outputs": [
    {
     "data": {
      "text/plain": [
       "{'venue': 'Moscow',\n",
       " 'location': 'Luzhniki Stadium',\n",
       " 'status': 'completed',\n",
       " 'time': 'full-time',\n",
       " 'fifa_id': '300331503',\n",
       " 'weather': {'humidity': '43',\n",
       "  'temp_celsius': '17',\n",
       "  'temp_farenheit': '49',\n",
       "  'wind_speed': '6',\n",
       "  'description': 'Partly Cloudy'},\n",
       " 'attendance': '78011',\n",
       " 'officials': ['Nestor PITANA',\n",
       "  'Hernan MAIDANA',\n",
       "  'Juan Pablo BELATTI',\n",
       "  'Sandro RICCI',\n",
       "  'Massimiliano IRRATI',\n",
       "  'Carlos ASTROZA',\n",
       "  'Mauro VIGLIANO',\n",
       "  'Daniele ORSATO',\n",
       "  'Emerson DE CARVALHO'],\n",
       " 'stage_name': 'First stage',\n",
       " 'home_team_country': 'Russia',\n",
       " 'away_team_country': 'Saudi Arabia',\n",
       " 'datetime': '2018-06-14T15:00:00Z',\n",
       " 'winner': 'Russia',\n",
       " 'winner_code': 'RUS',\n",
       " 'home_team': {'country': 'Russia', 'code': 'RUS', 'goals': 5, 'penalties': 0},\n",
       " 'away_team': {'country': 'Saudi Arabia',\n",
       "  'code': 'KSA',\n",
       "  'goals': 0,\n",
       "  'penalties': 0},\n",
       " 'home_team_events': [{'id': 5,\n",
       "   'type_of_event': 'goal',\n",
       "   'player': 'Iury GAZINSKY',\n",
       "   'time': \"12'\"},\n",
       "  {'id': 1,\n",
       "   'type_of_event': 'substitution-in',\n",
       "   'player': 'Denis CHERYSHEV',\n",
       "   'time': \"24'\"},\n",
       "  {'id': 320,\n",
       "   'type_of_event': 'substitution-out',\n",
       "   'player': 'Alan DZAGOEV',\n",
       "   'time': \"24'\"},\n",
       "  {'id': 2,\n",
       "   'type_of_event': 'goal',\n",
       "   'player': 'Denis CHERYSHEV',\n",
       "   'time': \"43'\"},\n",
       "  {'id': 4,\n",
       "   'type_of_event': 'substitution-in',\n",
       "   'player': 'Daler KUZIAEV',\n",
       "   'time': \"64'\"},\n",
       "  {'id': 322,\n",
       "   'type_of_event': 'substitution-out',\n",
       "   'player': 'Alexander SAMEDOV',\n",
       "   'time': \"64'\"},\n",
       "  {'id': 8,\n",
       "   'type_of_event': 'substitution-in',\n",
       "   'player': 'Artem DZYUBA',\n",
       "   'time': \"70'\"},\n",
       "  {'id': 321,\n",
       "   'type_of_event': 'substitution-out',\n",
       "   'player': 'Fedor SMOLOV',\n",
       "   'time': \"70'\"},\n",
       "  {'id': 9, 'type_of_event': 'goal', 'player': 'Artem DZYUBA', 'time': \"71'\"},\n",
       "  {'id': 6,\n",
       "   'type_of_event': 'yellow-card',\n",
       "   'player': 'Aleksandr GOLOVIN',\n",
       "   'time': \"88'\"},\n",
       "  {'id': 3,\n",
       "   'type_of_event': 'goal',\n",
       "   'player': 'Denis CHERYSHEV',\n",
       "   'time': \"90'+1'\"},\n",
       "  {'id': 7,\n",
       "   'type_of_event': 'goal',\n",
       "   'player': 'Aleksandr GOLOVIN',\n",
       "   'time': \"90'+4'\"}],\n",
       " 'away_team_events': [{'id': 12,\n",
       "   'type_of_event': 'substitution-in',\n",
       "   'player': 'FAHAD ALMUWALLAD',\n",
       "   'time': \"64'\"},\n",
       "  {'id': 325,\n",
       "   'type_of_event': 'substitution-out',\n",
       "   'player': 'ABDULLAH OTAYF',\n",
       "   'time': \"64'\"},\n",
       "  {'id': 10,\n",
       "   'type_of_event': 'substitution-in',\n",
       "   'player': 'HATAN BAHBIR',\n",
       "   'time': \"72'\"},\n",
       "  {'id': 323,\n",
       "   'type_of_event': 'substitution-out',\n",
       "   'player': 'YAHIA ALSHEHRI',\n",
       "   'time': \"72'\"},\n",
       "  {'id': 326,\n",
       "   'type_of_event': 'substitution-in',\n",
       "   'player': 'HATAN BAHBRI',\n",
       "   'time': \"72'\"},\n",
       "  {'id': 13,\n",
       "   'type_of_event': 'substitution-in',\n",
       "   'player': 'MUHANNAD ASIRI',\n",
       "   'time': \"85'\"},\n",
       "  {'id': 324,\n",
       "   'type_of_event': 'substitution-out',\n",
       "   'player': 'MOHAMMED ALSAHLAWI',\n",
       "   'time': \"85'\"},\n",
       "  {'id': 11,\n",
       "   'type_of_event': 'yellow-card',\n",
       "   'player': 'TAISEER ALJASSAM',\n",
       "   'time': \"90'+3'\"}],\n",
       " 'home_team_statistics': {'country': 'Russia',\n",
       "  'attempts_on_goal': 13,\n",
       "  'on_target': 7,\n",
       "  'off_target': 3,\n",
       "  'blocked': 3,\n",
       "  'woodwork': 0,\n",
       "  'corners': 6,\n",
       "  'offsides': 3,\n",
       "  'ball_possession': 40,\n",
       "  'pass_accuracy': 78,\n",
       "  'num_passes': 306,\n",
       "  'passes_completed': 240,\n",
       "  'distance_covered': 118,\n",
       "  'balls_recovered': 53,\n",
       "  'tackles': 9,\n",
       "  'clearances': 19,\n",
       "  'yellow_cards': 1,\n",
       "  'red_cards': 0,\n",
       "  'fouls_committed': 22,\n",
       "  'tactics': '4-2-3-1',\n",
       "  'starting_eleven': [{'name': 'Igor AKINFEEV',\n",
       "    'captain': True,\n",
       "    'shirt_number': 1,\n",
       "    'position': 'Goalie'},\n",
       "   {'name': 'MARIO FERNANDES',\n",
       "    'captain': False,\n",
       "    'shirt_number': 2,\n",
       "    'position': 'Defender'},\n",
       "   {'name': 'Ilya KUTEPOV',\n",
       "    'captain': False,\n",
       "    'shirt_number': 3,\n",
       "    'position': 'Defender'},\n",
       "   {'name': 'Sergey IGNASHEVICH',\n",
       "    'captain': False,\n",
       "    'shirt_number': 4,\n",
       "    'position': 'Defender'},\n",
       "   {'name': 'Iury GAZINSKY',\n",
       "    'captain': False,\n",
       "    'shirt_number': 8,\n",
       "    'position': 'Midfield'},\n",
       "   {'name': 'Alan DZAGOEV',\n",
       "    'captain': False,\n",
       "    'shirt_number': 9,\n",
       "    'position': 'Midfield'},\n",
       "   {'name': 'Fedor SMOLOV',\n",
       "    'captain': False,\n",
       "    'shirt_number': 10,\n",
       "    'position': 'Forward'},\n",
       "   {'name': 'Roman ZOBNIN',\n",
       "    'captain': False,\n",
       "    'shirt_number': 11,\n",
       "    'position': 'Midfield'},\n",
       "   {'name': 'Aleksandr GOLOVIN',\n",
       "    'captain': False,\n",
       "    'shirt_number': 17,\n",
       "    'position': 'Midfield'},\n",
       "   {'name': 'Yury ZHIRKOV',\n",
       "    'captain': False,\n",
       "    'shirt_number': 18,\n",
       "    'position': 'Midfield'},\n",
       "   {'name': 'Alexander SAMEDOV',\n",
       "    'captain': False,\n",
       "    'shirt_number': 19,\n",
       "    'position': 'Midfield'}],\n",
       "  'substitutes': [{'name': 'Andrey SEMENOV',\n",
       "    'captain': False,\n",
       "    'shirt_number': 5,\n",
       "    'position': 'Defender'},\n",
       "   {'name': 'Denis CHERYSHEV',\n",
       "    'captain': False,\n",
       "    'shirt_number': 6,\n",
       "    'position': 'Midfield'},\n",
       "   {'name': 'Daler KUZIAEV',\n",
       "    'captain': False,\n",
       "    'shirt_number': 7,\n",
       "    'position': 'Midfield'},\n",
       "   {'name': 'Andrei LUNEV',\n",
       "    'captain': False,\n",
       "    'shirt_number': 12,\n",
       "    'position': 'Goalie'},\n",
       "   {'name': 'Fedor KUDRIASHOV',\n",
       "    'captain': False,\n",
       "    'shirt_number': 13,\n",
       "    'position': 'Defender'},\n",
       "   {'name': 'Vladimir GRANAT',\n",
       "    'captain': False,\n",
       "    'shirt_number': 14,\n",
       "    'position': 'Defender'},\n",
       "   {'name': 'Alexey MIRANCHUK',\n",
       "    'captain': False,\n",
       "    'shirt_number': 15,\n",
       "    'position': 'Midfield'},\n",
       "   {'name': 'Anton MIRANCHUK',\n",
       "    'captain': False,\n",
       "    'shirt_number': 16,\n",
       "    'position': 'Midfield'},\n",
       "   {'name': 'Vladimir GABULOV',\n",
       "    'captain': False,\n",
       "    'shirt_number': 20,\n",
       "    'position': 'Goalie'},\n",
       "   {'name': 'Aleksandr EROKHIN',\n",
       "    'captain': False,\n",
       "    'shirt_number': 21,\n",
       "    'position': 'Midfield'},\n",
       "   {'name': 'Artem DZYUBA',\n",
       "    'captain': False,\n",
       "    'shirt_number': 22,\n",
       "    'position': 'Forward'},\n",
       "   {'name': 'Igor SMOLNIKOV',\n",
       "    'captain': False,\n",
       "    'shirt_number': 23,\n",
       "    'position': 'Defender'}]},\n",
       " 'away_team_statistics': {'country': 'Saudi Arabia',\n",
       "  'attempts_on_goal': 6,\n",
       "  'on_target': 0,\n",
       "  'off_target': 3,\n",
       "  'blocked': 3,\n",
       "  'woodwork': 0,\n",
       "  'corners': 2,\n",
       "  'offsides': 1,\n",
       "  'ball_possession': 60,\n",
       "  'pass_accuracy': 86,\n",
       "  'num_passes': 511,\n",
       "  'passes_completed': 442,\n",
       "  'distance_covered': 105,\n",
       "  'balls_recovered': 48,\n",
       "  'tackles': 16,\n",
       "  'clearances': 31,\n",
       "  'yellow_cards': 1,\n",
       "  'red_cards': 0,\n",
       "  'fouls_committed': 10,\n",
       "  'tactics': '4-5-1',\n",
       "  'starting_eleven': [{'name': 'ABDULLAH ALMUAIOUF',\n",
       "    'captain': False,\n",
       "    'shirt_number': 1,\n",
       "    'position': 'Goalie'},\n",
       "   {'name': 'OSAMA HAWSAWI',\n",
       "    'captain': True,\n",
       "    'shirt_number': 3,\n",
       "    'position': 'Defender'},\n",
       "   {'name': 'OMAR HAWSAWI',\n",
       "    'captain': False,\n",
       "    'shirt_number': 5,\n",
       "    'position': 'Defender'},\n",
       "   {'name': 'MOHAMMED ALBURAYK',\n",
       "    'captain': False,\n",
       "    'shirt_number': 6,\n",
       "    'position': 'Defender'},\n",
       "   {'name': 'SALMAN ALFARAJ',\n",
       "    'captain': False,\n",
       "    'shirt_number': 7,\n",
       "    'position': 'Midfield'},\n",
       "   {'name': 'YAHIA ALSHEHRI',\n",
       "    'captain': False,\n",
       "    'shirt_number': 8,\n",
       "    'position': 'Midfield'},\n",
       "   {'name': 'MOHAMMED ALSAHLAWI',\n",
       "    'captain': False,\n",
       "    'shirt_number': 10,\n",
       "    'position': 'Forward'},\n",
       "   {'name': 'YASSER ALSHAHRANI',\n",
       "    'captain': False,\n",
       "    'shirt_number': 13,\n",
       "    'position': 'Defender'},\n",
       "   {'name': 'ABDULLAH OTAYF',\n",
       "    'captain': False,\n",
       "    'shirt_number': 14,\n",
       "    'position': 'Midfield'},\n",
       "   {'name': 'TAISEER ALJASSAM',\n",
       "    'captain': False,\n",
       "    'shirt_number': 17,\n",
       "    'position': 'Midfield'},\n",
       "   {'name': 'SALEM ALDAWSARI',\n",
       "    'captain': False,\n",
       "    'shirt_number': 18,\n",
       "    'position': 'Midfield'}],\n",
       "  'substitutes': [{'name': 'MANSOUR ALHARBI',\n",
       "    'captain': False,\n",
       "    'shirt_number': 2,\n",
       "    'position': 'Defender'},\n",
       "   {'name': 'ALI ALBULAYHI',\n",
       "    'captain': False,\n",
       "    'shirt_number': 4,\n",
       "    'position': 'Defender'},\n",
       "   {'name': 'HATAN BAHBRI',\n",
       "    'captain': False,\n",
       "    'shirt_number': 9,\n",
       "    'position': 'Midfield'},\n",
       "   {'name': 'ABDULMALEK ALKHAIBRI',\n",
       "    'captain': False,\n",
       "    'shirt_number': 11,\n",
       "    'position': 'Midfield'},\n",
       "   {'name': 'MOHAMED KANNO',\n",
       "    'captain': False,\n",
       "    'shirt_number': 12,\n",
       "    'position': 'Midfield'},\n",
       "   {'name': 'ABDULLAH ALKHAIBARI',\n",
       "    'captain': False,\n",
       "    'shirt_number': 15,\n",
       "    'position': 'Midfield'},\n",
       "   {'name': 'HUSSAIN ALMOQAHWI',\n",
       "    'captain': False,\n",
       "    'shirt_number': 16,\n",
       "    'position': 'Midfield'},\n",
       "   {'name': 'FAHAD ALMUWALLAD',\n",
       "    'captain': False,\n",
       "    'shirt_number': 19,\n",
       "    'position': 'Forward'},\n",
       "   {'name': 'MUHANNAD ASIRI',\n",
       "    'captain': False,\n",
       "    'shirt_number': 20,\n",
       "    'position': 'Forward'},\n",
       "   {'name': 'YASSER ALMOSAILEM',\n",
       "    'captain': False,\n",
       "    'shirt_number': 21,\n",
       "    'position': 'Goalie'},\n",
       "   {'name': 'MOHAMMED ALOWAIS',\n",
       "    'captain': False,\n",
       "    'shirt_number': 22,\n",
       "    'position': 'Goalie'},\n",
       "   {'name': 'MOTAZ HAWSAWI',\n",
       "    'captain': False,\n",
       "    'shirt_number': 23,\n",
       "    'position': 'Defender'}]},\n",
       " 'last_event_update_at': '2018-06-21T02:36:44Z',\n",
       " 'last_score_update_at': None}"
      ]
     },
     "execution_count": 104,
     "metadata": {},
     "output_type": "execute_result"
    }
   ],
   "source": [
    "all_games[0]"
   ]
  },
  {
   "cell_type": "code",
   "execution_count": 111,
   "metadata": {},
   "outputs": [],
   "source": [
    "def find_country_name(game):\n",
    "    return game['home_team_statistics']['country']"
   ]
  },
  {
   "cell_type": "code",
   "execution_count": null,
   "metadata": {},
   "outputs": [],
   "source": [
    "#1. Just statistics objects\n",
    "#2. Go through all of the stats objects\n",
    "    all_stats = session.query(Stat).all()\n",
    "    for stat in all_stats:\n",
    "        name = stat.country_name\n",
    "        team = session.query(Team).filter_by(name=name)\n",
    "#         stat.team_id = team.id\n",
    "        stat.team = team\n",
    "        session.commit()\n",
    "        \n",
    "        \n",
    "\n",
    "for stat in all_statistics:\n",
    "    name = find_country_name(stat)\n",
    "    team = session.query(Team).filter_by(name=name)\n",
    "    stat.team_id = team.id\n",
    "    "
   ]
  },
  {
   "cell_type": "code",
   "execution_count": 112,
   "metadata": {},
   "outputs": [],
   "source": [
    "# extract first 10 digits\n",
    "# def make_date(number):\n",
    "#     return number[0:10]"
   ]
  },
  {
   "cell_type": "code",
   "execution_count": 113,
   "metadata": {},
   "outputs": [],
   "source": [
    "game = all_games[0]"
   ]
  },
  {
   "cell_type": "code",
   "execution_count": 114,
   "metadata": {},
   "outputs": [
    {
     "data": {
      "text/plain": [
       "'Russia'"
      ]
     },
     "execution_count": 114,
     "metadata": {},
     "output_type": "execute_result"
    }
   ],
   "source": [
    "find_country_name(game)"
   ]
  },
  {
   "cell_type": "code",
   "execution_count": 11,
   "metadata": {},
   "outputs": [
    {
     "data": {
      "text/plain": [
       "'2018-06-14'"
      ]
     },
     "execution_count": 11,
     "metadata": {},
     "output_type": "execute_result"
    }
   ],
   "source": [
    "# for game in all_game_times:\n",
    "#     (all_games_times[0])"
   ]
  },
  {
   "cell_type": "code",
   "execution_count": 2,
   "metadata": {},
   "outputs": [],
   "source": [
    "from datetime import datetime as dt\n",
    "from sqlalchemy import Column, Integer, String, ForeignKey, DateTime, create_engine\n",
    "from sqlalchemy.ext.declarative import declarative_base\n",
    "from sqlalchemy.orm import sessionmaker, relationship, backref\n",
    "\n",
    "Base = declarative_base()\n",
    "\n",
    "# Write your classes below\n",
    "class Game(Base):\n",
    "    __tablename__ = 'games'\n",
    "    id = Column(Integer, primary_key=True)\n",
    "    venue = Column(String)\n",
    "    winner = Column(String)\n",
    "    statistics = relationship('Statistics', back_populates=\"game\")\n",
    "    teams = relationship(\n",
    "        'Team',\n",
    "        secondary='statistics',\n",
    "        back_populates='games'\n",
    "    )\n",
    "\n",
    "#home_team = relationship('Team',secondary='statistics', back_populates='games')\n",
    "#away_team = relationship('Team',secondary='statistics', back_populates='games')\n",
    "\n",
    "class Team(Base):\n",
    "    __tablename__ = 'teams'\n",
    "    id = Column(Integer, primary_key=True)\n",
    "    country = Column(String)\n",
    "    statistics = relationship('Statistics', back_populates=\"team\")\n",
    "    games = relationship(\n",
    "        'Game',\n",
    "        secondary='statistics',\n",
    "        back_populates='teams'\n",
    "    )\n",
    "\n",
    "class Statistics(Base):\n",
    "    __tablename__ = 'statistics'\n",
    "    id = Column(Integer, primary_key=True)\n",
    "    game_id = Column(Integer, ForeignKey('games.id'))\n",
    "    team_id = Column(Integer, ForeignKey('teams.id'))\n",
    "    name = Column(String)\n",
    "    goals = Column(Integer)\n",
    "    game = relationship('Game', back_populates='statistics')\n",
    "    team = relationship('Team', back_populates='statistics')\n",
    "\n",
    "#     ball_possession=Column(Integer)\n",
    "#     distance_covered=Column(Integer)\n",
    "#     on_target=Column(Integer)\n",
    "#     pass_accuracy=Column(Integer)\n",
    "# #     goals=Column(Integer)\n",
    "    \n",
    "#     game = relationship('Game', back_populates='statistics')\n",
    "#     team = relationship('Team', back_populates='statistics')    \n",
    "\n",
    "engine = create_engine('sqlite:///:memory:')\n",
    "Base.metadata.create_all(engine)\n"
   ]
  },
  {
   "cell_type": "code",
   "execution_count": 31,
   "metadata": {},
   "outputs": [
    {
     "ename": "SyntaxError",
     "evalue": "invalid syntax (<ipython-input-31-a5ebfccbae0b>, line 9)",
     "output_type": "error",
     "traceback": [
      "\u001b[0;36m  File \u001b[0;32m\"<ipython-input-31-a5ebfccbae0b>\"\u001b[0;36m, line \u001b[0;32m9\u001b[0m\n\u001b[0;31m    return game_stats = country,ball_poss, goals,distance,pass_accur,on_net\u001b[0m\n\u001b[0m                      ^\u001b[0m\n\u001b[0;31mSyntaxError\u001b[0m\u001b[0;31m:\u001b[0m invalid syntax\n"
     ]
    }
   ],
   "source": [
    "# def findgamestats(game):\n",
    "#     if game['home_team']['country']==game[teams].country:\n",
    "#         country=game['home_team']['country']\n",
    "#         ball_poss= game[\"home_team_statistics\"][\"ball_possession\"]\n",
    "#         goals= game['home']['goals']\n",
    "#         distance= game[\"home\"][\"distance_covered\"]\n",
    "#         pass_accur= game[\"home\"][\"pass_accuracy\"]\n",
    "#         on_net=game[\"home\"][\"on_target\"]\n",
    "#         return game_stats = country,ball_poss, goals,distance,pass_accur,on_net\n",
    "#     if game['away_team']['country']==game[teams].country:\n",
    "#         country=game['away_team']['country']\n",
    "#         ball_poss= game[\"away_team_statistics\"][\"ball_possession\"]\n",
    "#         goals= game['away']['goals']\n",
    "#         distance= game[\"away\"][\"distance_covered\"]\n",
    "#         pass_accur= game[\"away\"][\"pass_accuracy\"]\n",
    "#         on_net=game[\"away\"][\"on_target\"]\n",
    "#         return game_stats = country,ball_poss, goals,distance,pass_accur,on_net\n",
    "#     else:\n",
    "#         return \"Broken\""
   ]
  },
  {
   "cell_type": "code",
   "execution_count": null,
   "metadata": {},
   "outputs": [],
   "source": [
    "# all_games[0]['home_team_statistics'].values()"
   ]
  },
  {
   "cell_type": "code",
   "execution_count": 3,
   "metadata": {},
   "outputs": [],
   "source": [
    "all_games_tuples= [(game['venue'], game['home_team_country'], game['away_team_country']) for game in all_games]"
   ]
  },
  {
   "cell_type": "code",
   "execution_count": 4,
   "metadata": {},
   "outputs": [
    {
     "data": {
      "text/plain": [
       "('Moscow', 'Russia', 'Saudi Arabia')"
      ]
     },
     "execution_count": 4,
     "metadata": {},
     "output_type": "execute_result"
    }
   ],
   "source": [
    "all_games_tuples[0]\n",
    "    "
   ]
  },
  {
   "cell_type": "code",
   "execution_count": 6,
   "metadata": {},
   "outputs": [],
   "source": [
    "all_games_objects= [Game(venue=t[0], teams = [Team(country=t[1]),Team(country = t[2])]) for t in all_games_tuples]\n",
    "#                           , \n",
    "# #, winner=t[4]\n",
    "# ,"
   ]
  },
  {
   "cell_type": "code",
   "execution_count": 37,
   "metadata": {},
   "outputs": [
    {
     "data": {
      "text/plain": [
       "<__main__.Game at 0x10aac7eb8>"
      ]
     },
     "execution_count": 37,
     "metadata": {},
     "output_type": "execute_result"
    }
   ],
   "source": [
    "all_games_objects[0]"
   ]
  },
  {
   "cell_type": "code",
   "execution_count": 38,
   "metadata": {},
   "outputs": [
    {
     "data": {
      "text/plain": [
       "[<__main__.Team at 0x10aac7da0>, <__main__.Team at 0x10aac7e48>]"
      ]
     },
     "execution_count": 38,
     "metadata": {},
     "output_type": "execute_result"
    }
   ],
   "source": [
    "all_games_objects[0].teams"
   ]
  },
  {
   "cell_type": "code",
   "execution_count": 40,
   "metadata": {},
   "outputs": [
    {
     "data": {
      "text/plain": [
       "'Russia'"
      ]
     },
     "execution_count": 40,
     "metadata": {},
     "output_type": "execute_result"
    }
   ],
   "source": [
    "all_games_objects[0].teams[0].country"
   ]
  },
  {
   "cell_type": "code",
   "execution_count": 24,
   "metadata": {},
   "outputs": [
    {
     "data": {
      "text/plain": [
       "True"
      ]
     },
     "execution_count": 24,
     "metadata": {},
     "output_type": "execute_result"
    }
   ],
   "source": [
    " all_games[0]['home_team_country'] ==all_games_objects[0].teams[0].country"
   ]
  },
  {
   "cell_type": "code",
   "execution_count": 36,
   "metadata": {},
   "outputs": [],
   "source": [
    "all_homes = [g['home_team_country'] for g in all_games]\n",
    "all_aways = [g['away_team_country'] for g in all_games]\n"
   ]
  },
  {
   "cell_type": "code",
   "execution_count": 90,
   "metadata": {},
   "outputs": [],
   "source": [
    "home_stats = Statistics(name = 'some_home_stats', goals = 14)\n",
    "away_stats = Statistics(name = 'some_away_stats', goals = 0)"
   ]
  },
  {
   "cell_type": "code",
   "execution_count": 85,
   "metadata": {},
   "outputs": [],
   "source": [
    "def match_to_stats(x):\n",
    "#     for game in all_games:\n",
    "        if all_homes[x] == all_games_objects[x].teams[0].country:\n",
    "            all_games_objects[x][0].teams[0].statistics.append(home_stats)\n",
    "        else:\n",
    "            all_games_objects[x][0].teams[1].statistics.append(away_stats)\n",
    "\n"
   ]
  },
  {
   "cell_type": "code",
   "execution_count": 94,
   "metadata": {},
   "outputs": [
    {
     "data": {
      "text/plain": [
       "[<__main__.Statistics at 0x10abc07f0>,\n",
       " <__main__.Statistics at 0x10abc07f0>,\n",
       " <__main__.Statistics at 0x10ac00be0>,\n",
       " <__main__.Statistics at 0x10ac00be0>,\n",
       " <__main__.Statistics at 0x10ac00be0>,\n",
       " <__main__.Statistics at 0x10ac00be0>,\n",
       " <__main__.Statistics at 0x10abd6630>,\n",
       " <__main__.Statistics at 0x10abd6630>,\n",
       " <__main__.Statistics at 0x10abd6dd8>,\n",
       " <__main__.Statistics at 0x10abd6dd8>]"
      ]
     },
     "execution_count": 94,
     "metadata": {},
     "output_type": "execute_result"
    }
   ],
   "source": [
    "all_games_objects[0].teams[0].statistics"
   ]
  },
  {
   "cell_type": "code",
   "execution_count": 91,
   "metadata": {},
   "outputs": [
    {
     "data": {
      "text/plain": [
       "'some_home_stats'"
      ]
     },
     "execution_count": 91,
     "metadata": {},
     "output_type": "execute_result"
    }
   ],
   "source": [
    "all_games_objects[0].teams[0].statistics.append(home_stats)\n",
    "all_games_objects[0].teams[0].statistics[0].name"
   ]
  },
  {
   "cell_type": "code",
   "execution_count": 92,
   "metadata": {},
   "outputs": [],
   "source": [
    "\n",
    "if all_homes[0] ==all_games_objects[0].teams[0].country:\n",
    "    all_games_objects[0].teams[0].statistics.append(home_stats)\n",
    "else:\n",
    "    all_games_objects[0].teams[1].statistics.append(away_stats)\n",
    "\n",
    "\n"
   ]
  },
  {
   "cell_type": "code",
   "execution_count": 97,
   "metadata": {},
   "outputs": [
    {
     "data": {
      "text/plain": [
       "(64, 64)"
      ]
     },
     "execution_count": 97,
     "metadata": {},
     "output_type": "execute_result"
    }
   ],
   "source": [
    "len(all_homes),len(all_games_objects)"
   ]
  },
  {
   "cell_type": "code",
   "execution_count": 102,
   "metadata": {},
   "outputs": [],
   "source": [
    "for i in range(64):\n",
    "    if  all_homes[i]== all_games_objects[i].teams[0].country:\n",
    "        all_games_objects[i].teams[0].statistics.append(home_stats)\n",
    "    \n",
    "    else:\n",
    "        all_games_objects[i].teams[1].statistics.append(away_stats)\n",
    "        "
   ]
  },
  {
   "cell_type": "code",
   "execution_count": 93,
   "metadata": {},
   "outputs": [
    {
     "data": {
      "text/plain": [
       "[<__main__.Statistics at 0x10abc07f0>,\n",
       " <__main__.Statistics at 0x10abc07f0>,\n",
       " <__main__.Statistics at 0x10ac00be0>,\n",
       " <__main__.Statistics at 0x10ac00be0>,\n",
       " <__main__.Statistics at 0x10ac00be0>,\n",
       " <__main__.Statistics at 0x10ac00be0>,\n",
       " <__main__.Statistics at 0x10abd6630>,\n",
       " <__main__.Statistics at 0x10abd6630>,\n",
       " <__main__.Statistics at 0x10abd6dd8>,\n",
       " <__main__.Statistics at 0x10abd6dd8>]"
      ]
     },
     "execution_count": 93,
     "metadata": {},
     "output_type": "execute_result"
    }
   ],
   "source": [
    "all_games_objects[7].teams[0].statistics"
   ]
  },
  {
   "cell_type": "code",
   "execution_count": null,
   "metadata": {},
   "outputs": [],
   "source": []
  },
  {
   "cell_type": "code",
   "execution_count": null,
   "metadata": {},
   "outputs": [],
   "source": []
  },
  {
   "cell_type": "code",
   "execution_count": null,
   "metadata": {},
   "outputs": [],
   "source": []
  },
  {
   "cell_type": "code",
   "execution_count": 21,
   "metadata": {},
   "outputs": [
    {
     "ename": "TypeError",
     "evalue": "list indices must be integers or slices, not dict",
     "output_type": "error",
     "traceback": [
      "\u001b[0;31m---------------------------------------------------------------------------\u001b[0m",
      "\u001b[0;31mTypeError\u001b[0m                                 Traceback (most recent call last)",
      "\u001b[0;32m<ipython-input-21-a583adfbbdbe>\u001b[0m in \u001b[0;36m<module>\u001b[0;34m()\u001b[0m\n\u001b[1;32m      1\u001b[0m \u001b[0;32mfor\u001b[0m \u001b[0mgame\u001b[0m \u001b[0;32min\u001b[0m \u001b[0mall_games\u001b[0m\u001b[0;34m:\u001b[0m\u001b[0;34m\u001b[0m\u001b[0m\n\u001b[0;32m----> 2\u001b[0;31m     \u001b[0;32mif\u001b[0m \u001b[0mgame\u001b[0m\u001b[0;34m[\u001b[0m\u001b[0;34m'home_team_country'\u001b[0m\u001b[0;34m]\u001b[0m \u001b[0;34m==\u001b[0m \u001b[0mall_games_objects\u001b[0m\u001b[0;34m[\u001b[0m\u001b[0mgame\u001b[0m\u001b[0;34m]\u001b[0m\u001b[0;34m.\u001b[0m\u001b[0mteams\u001b[0m\u001b[0;34m[\u001b[0m\u001b[0;36m0\u001b[0m\u001b[0;34m]\u001b[0m\u001b[0;34m.\u001b[0m\u001b[0mcountry\u001b[0m\u001b[0;34m:\u001b[0m\u001b[0;34m\u001b[0m\u001b[0m\n\u001b[0m\u001b[1;32m      3\u001b[0m         \u001b[0mall_games_objects\u001b[0m\u001b[0;34m[\u001b[0m\u001b[0mgame\u001b[0m\u001b[0;34m]\u001b[0m\u001b[0;34m[\u001b[0m\u001b[0;36m0\u001b[0m\u001b[0;34m]\u001b[0m\u001b[0;34m.\u001b[0m\u001b[0mteams\u001b[0m\u001b[0;34m[\u001b[0m\u001b[0;36m0\u001b[0m\u001b[0;34m]\u001b[0m\u001b[0;34m.\u001b[0m\u001b[0mappend\u001b[0m\u001b[0;34m(\u001b[0m\u001b[0;34m'home_team_statistics'\u001b[0m\u001b[0;34m)\u001b[0m\u001b[0;34m\u001b[0m\u001b[0m\n\u001b[1;32m      4\u001b[0m     \u001b[0;32mif\u001b[0m \u001b[0mg\u001b[0m\u001b[0;34m[\u001b[0m\u001b[0;34m'away_team_country'\u001b[0m\u001b[0;34m]\u001b[0m \u001b[0;34m==\u001b[0m \u001b[0mall_games_objects\u001b[0m\u001b[0;34m[\u001b[0m\u001b[0mgame\u001b[0m\u001b[0;34m]\u001b[0m\u001b[0;34m.\u001b[0m\u001b[0mteams\u001b[0m\u001b[0;34m[\u001b[0m\u001b[0;36m1\u001b[0m\u001b[0;34m]\u001b[0m\u001b[0;34m.\u001b[0m\u001b[0mcountry\u001b[0m\u001b[0;34m:\u001b[0m\u001b[0;34m\u001b[0m\u001b[0m\n\u001b[1;32m      5\u001b[0m         \u001b[0mall_games_objects\u001b[0m\u001b[0;34m[\u001b[0m\u001b[0mgame\u001b[0m\u001b[0;34m]\u001b[0m\u001b[0;34m[\u001b[0m\u001b[0;36m0\u001b[0m\u001b[0;34m]\u001b[0m\u001b[0;34m.\u001b[0m\u001b[0mteams\u001b[0m\u001b[0;34m[\u001b[0m\u001b[0;36m1\u001b[0m\u001b[0;34m]\u001b[0m\u001b[0;34m.\u001b[0m\u001b[0mappend\u001b[0m\u001b[0;34m(\u001b[0m\u001b[0;34m'away_team_statistics'\u001b[0m\u001b[0;34m)\u001b[0m\u001b[0;34m\u001b[0m\u001b[0m\n",
      "\u001b[0;31mTypeError\u001b[0m: list indices must be integers or slices, not dict"
     ]
    }
   ],
   "source": [
    "\n"
   ]
  },
  {
   "cell_type": "code",
   "execution_count": 42,
   "metadata": {},
   "outputs": [
    {
     "data": {
      "text/plain": [
       "'Croatia'"
      ]
     },
     "execution_count": 42,
     "metadata": {},
     "output_type": "execute_result"
    }
   ],
   "source": [
    "all_games_objects[63].teams[1].country"
   ]
  },
  {
   "cell_type": "code",
   "execution_count": 30,
   "metadata": {},
   "outputs": [
    {
     "data": {
      "text/plain": [
       "{'_sa_instance_state': <sqlalchemy.orm.state.InstanceState at 0x1108e4f60>,\n",
       " 'venue': 'Moscow',\n",
       " 'teams': [<__main__.Team at 0x1108e4e48>, <__main__.Team at 0x1108e4f28>]}"
      ]
     },
     "execution_count": 30,
     "metadata": {},
     "output_type": "execute_result"
    }
   ],
   "source": [
    "vars(all_games_objects[63])"
   ]
  },
  {
   "cell_type": "code",
   "execution_count": 34,
   "metadata": {},
   "outputs": [
    {
     "data": {
      "text/plain": [
       "[<__main__.Team at 0x1108e4e48>, <__main__.Team at 0x1108e4f28>]"
      ]
     },
     "execution_count": 34,
     "metadata": {},
     "output_type": "execute_result"
    }
   ],
   "source": [
    "all_games_objects[63].teams"
   ]
  },
  {
   "cell_type": "code",
   "execution_count": 2,
   "metadata": {},
   "outputs": [],
   "source": [
    "russia = Team(country=\"Russia\")\n",
    "saudi_arabia = Team(country=\"Saudi Arabia\")\n",
    "\n",
    "\n",
    "\n"
   ]
  },
  {
   "cell_type": "code",
   "execution_count": 10,
   "metadata": {},
   "outputs": [],
   "source": [
    "game_one = Game(venue=\"Moscow\", teams = [russia,saudi_arabia])"
   ]
  },
  {
   "cell_type": "code",
   "execution_count": 11,
   "metadata": {},
   "outputs": [],
   "source": [
    "saudi_stats = Statistics(name=\"Saudi Stats here\",  game = game_one, team = saudi_arabia)\n"
   ]
  },
  {
   "cell_type": "code",
   "execution_count": 6,
   "metadata": {},
   "outputs": [],
   "source": [
    "russia_stats = Statistics(name=\"Russia Stats here\", game = game_one, team = russia )"
   ]
  },
  {
   "cell_type": "code",
   "execution_count": null,
   "metadata": {},
   "outputs": [],
   "source": []
  },
  {
   "cell_type": "code",
   "execution_count": 7,
   "metadata": {},
   "outputs": [
    {
     "data": {
      "text/plain": [
       "[<__main__.Statistics at 0x10f700828>, <__main__.Statistics at 0x10f7007f0>]"
      ]
     },
     "execution_count": 7,
     "metadata": {},
     "output_type": "execute_result"
    }
   ],
   "source": [
    "game_one.statistics"
   ]
  },
  {
   "cell_type": "code",
   "execution_count": 42,
   "metadata": {},
   "outputs": [
    {
     "ename": "NameError",
     "evalue": "name 'game_one' is not defined",
     "output_type": "error",
     "traceback": [
      "\u001b[0;31m---------------------------------------------------------------------------\u001b[0m",
      "\u001b[0;31mNameError\u001b[0m                                 Traceback (most recent call last)",
      "\u001b[0;32m<ipython-input-42-bb31c568efa6>\u001b[0m in \u001b[0;36m<module>\u001b[0;34m()\u001b[0m\n\u001b[0;32m----> 1\u001b[0;31m \u001b[0mgame_one\u001b[0m\u001b[0;34m.\u001b[0m\u001b[0mteams\u001b[0m\u001b[0;34m[\u001b[0m\u001b[0;36m0\u001b[0m\u001b[0;34m]\u001b[0m\u001b[0;34m\u001b[0m\u001b[0m\n\u001b[0m",
      "\u001b[0;31mNameError\u001b[0m: name 'game_one' is not defined"
     ]
    }
   ],
   "source": [
    "game_one.teams[0]"
   ]
  },
  {
   "cell_type": "code",
   "execution_count": 15,
   "metadata": {},
   "outputs": [
    {
     "data": {
      "text/plain": [
       "{'_sa_instance_state': <sqlalchemy.orm.state.InstanceState at 0x10efa7860>,\n",
       " 'country': 'Russia',\n",
       " 'statistics': [<__main__.Statistics at 0x10f7007f0>],\n",
       " 'games': [<__main__.Game at 0x10f75a320>]}"
      ]
     },
     "execution_count": 15,
     "metadata": {},
     "output_type": "execute_result"
    }
   ],
   "source": [
    "vars(game_one.teams[0])"
   ]
  },
  {
   "cell_type": "code",
   "execution_count": null,
   "metadata": {},
   "outputs": [],
   "source": []
  }
 ],
 "metadata": {
  "kernelspec": {
   "display_name": "Python 3",
   "language": "python",
   "name": "python3"
  },
  "language_info": {
   "codemirror_mode": {
    "name": "ipython",
    "version": 3
   },
   "file_extension": ".py",
   "mimetype": "text/x-python",
   "name": "python",
   "nbconvert_exporter": "python",
   "pygments_lexer": "ipython3",
   "version": "3.7.0"
  }
 },
 "nbformat": 4,
 "nbformat_minor": 2
}

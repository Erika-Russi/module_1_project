{
 "cells": [
  {
   "cell_type": "code",
   "execution_count": 1,
   "metadata": {},
   "outputs": [],
   "source": [
    "import requests\n",
    "url = 'https://worldcup.sfg.io/matches'\n",
    "r = requests.get(url)\n",
    "all_games = r.json()"
   ]
  },
  {
   "cell_type": "code",
   "execution_count": 2,
   "metadata": {},
   "outputs": [],
   "source": [
    "from datetime import datetime as dt\n",
    "from sqlalchemy import Column, Integer, String, ForeignKey, DateTime, create_engine\n",
    "from sqlalchemy.ext.declarative import declarative_base\n",
    "from sqlalchemy.orm import sessionmaker, relationship, backref\n",
    "\n",
    "Base = declarative_base()\n",
    "\n",
    "class Game(Base):\n",
    "    __tablename__ = 'games'\n",
    "    id = Column(Integer, primary_key=True)\n",
    "    venue = Column(String)\n",
    "    winner = Column(String)\n",
    "    statistics = relationship('Statistics', back_populates=\"game\")\n",
    "    teams = relationship(\n",
    "        'Team',\n",
    "        secondary='statistics',\n",
    "        back_populates='games'\n",
    "    )\n",
    "\n",
    "class Team(Base):\n",
    "    __tablename__ = 'teams'\n",
    "    id = Column(Integer, primary_key=True)\n",
    "    country = Column(String)\n",
    "    statistics = relationship('Statistics', back_populates=\"team\")\n",
    "    games = relationship(\n",
    "        'Game',\n",
    "        secondary='statistics',\n",
    "        back_populates='teams'\n",
    "    )\n",
    "\n",
    "class Statistics(Base):\n",
    "    __tablename__ = 'statistics'\n",
    "    id = Column(Integer, primary_key=True)\n",
    "    game_id = Column(Integer, ForeignKey('games.id'))\n",
    "    team_id = Column(Integer, ForeignKey('teams.id'))\n",
    "    goals = Column(Integer)\n",
    "    game = relationship('Game', back_populates='statistics')\n",
    "    team = relationship('Team', back_populates='statistics')\n",
    "    ball_possession=Column(Integer)\n",
    "    distance_covered=Column(Integer)\n",
    "    on_target=Column(Integer)\n",
    "    pass_accuracy=Column(Integer)\n",
    "\n",
    "engine = create_engine('sqlite:///worldcup.db')\n",
    "Base.metadata.create_all(engine)\n",
    "Session = sessionmaker(bind=engine)\n",
    "session = Session()"
   ]
  },
  {
   "cell_type": "code",
   "execution_count": 3,
   "metadata": {},
   "outputs": [],
   "source": [
    "all_games_tuples= [(game['venue'], game['home_team_country'], game['away_team_country'], game['winner']) for game in all_games]"
   ]
  },
  {
   "cell_type": "code",
   "execution_count": 4,
   "metadata": {},
   "outputs": [],
   "source": [
    "h_teams = set([t[1] for t in all_games_tuples])\n",
    "a_teams = set([t[2] for t in all_games_tuples])\n",
    "teams = h_teams.union(a_teams)"
   ]
  },
  {
   "cell_type": "code",
   "execution_count": 5,
   "metadata": {},
   "outputs": [
    {
     "data": {
      "text/plain": [
       "32"
      ]
     },
     "execution_count": 5,
     "metadata": {},
     "output_type": "execute_result"
    }
   ],
   "source": [
    "team_objects = [Team(country = t) for t in teams]\n",
    "len(team_objects)"
   ]
  },
  {
   "cell_type": "code",
   "execution_count": 6,
   "metadata": {},
   "outputs": [],
   "source": [
    "session.add_all(team_objects)\n",
    "session.commit()"
   ]
  },
  {
   "cell_type": "code",
   "execution_count": 7,
   "metadata": {
    "scrolled": true
   },
   "outputs": [],
   "source": [
    "all_game_objects = []\n",
    "all_stats = []\n",
    "for game in all_games:\n",
    "    h_team = session.query(Team).filter(Team.country == game['home_team_statistics']['country']).one()\n",
    "    a_team = session.query(Team).filter(Team.country == game['away_team_statistics']['country']).one()\n",
    "    game_object = Game(venue= game['venue'],\n",
    "                       teams = [h_team, a_team],\n",
    "                       winner = game['winner'])\n",
    "    all_game_objects.append(game_object)\n",
    "    \n",
    "    \n",
    "    h_goals = game['home_team']['goals']\n",
    "    \n",
    "    h_ball_possession = game['home_team_statistics']['ball_possession']\n",
    "    a_goals = game['away_team']['goals']\n",
    "    a_ball_possession = game['away_team_statistics']['ball_possession']\n",
    "    h_distance_covered = game['home_team_statistics']['distance_covered']\n",
    "    a_distance_covered = game['away_team_statistics']['distance_covered']\n",
    "    h_pass_accuracy = game['home_team_statistics']['pass_accuracy']\n",
    "    a_pass_accuracy = game['away_team_statistics']['pass_accuracy']\n",
    "    h_on_target = game['home_team_statistics']['on_target']\n",
    "    a_on_target = game['away_team_statistics']['on_target']\n",
    "\n",
    "# #     game = session.query(Game).filter(Game.teams[0].country == ['home_team_statistics']['country']).filter(Game.teams[1].country == ['away_team_statistics']['country']).one()\n",
    "# # # # tried: game = session.query(Game).filter(Game.teams[0].country == stat[1]['country']).filter(Game.team[1].country == stat[3]['country']).one()\n",
    "# # # #    \n",
    "# # # this was a test. still need to get the correct game ; game = session.query(Game).filter(Game.venue == 'Moscow').all()[0]\n",
    "   \n",
    "    h_stats = Statistics(game = game_object,\n",
    "                         team = h_team, \n",
    "                        ball_possession =h_ball_possession,\n",
    "                        goals = h_goals,\n",
    "                        distance_covered = h_distance_covered,\n",
    "                        pass_accuracy = h_pass_accuracy,\n",
    "                        on_target = h_on_target)\n",
    "    a_stats = Statistics(game = game_object,\n",
    "                        team = a_team,\n",
    "                        ball_possession =a_ball_possession,\n",
    "                        goals = a_goals,\n",
    "                        distance_covered = a_distance_covered,\n",
    "                        pass_accuracy = a_pass_accuracy,\n",
    "                        on_target = a_on_target)\n",
    "    all_stats.append(h_stats)\n",
    "    all_stats.append(a_stats) "
   ]
  },
  {
   "cell_type": "code",
   "execution_count": 37,
   "metadata": {},
   "outputs": [
    {
     "data": {
      "text/plain": [
       "'Saudi Arabia'"
      ]
     },
     "execution_count": 37,
     "metadata": {},
     "output_type": "execute_result"
    }
   ],
   "source": [
    "all_game_objects[0].teams[1].country "
   ]
  },
  {
   "cell_type": "code",
   "execution_count": 7,
   "metadata": {},
   "outputs": [
    {
     "data": {
      "text/plain": [
       "<__main__.Team at 0x106e86198>"
      ]
     },
     "execution_count": 7,
     "metadata": {},
     "output_type": "execute_result"
    }
   ],
   "source": [
    "# session.query(Team).filter(Team.country == 'Russia').one()"
   ]
  },
  {
   "cell_type": "code",
   "execution_count": 40,
   "metadata": {},
   "outputs": [
    {
     "data": {
      "text/plain": [
       "{'country': 'Russia',\n",
       " 'attempts_on_goal': 13,\n",
       " 'on_target': 7,\n",
       " 'off_target': 3,\n",
       " 'blocked': 3,\n",
       " 'woodwork': 0,\n",
       " 'corners': 6,\n",
       " 'offsides': 3,\n",
       " 'ball_possession': 40,\n",
       " 'pass_accuracy': 78,\n",
       " 'num_passes': 306,\n",
       " 'passes_completed': 240,\n",
       " 'distance_covered': 118,\n",
       " 'balls_recovered': 53,\n",
       " 'tackles': 9,\n",
       " 'clearances': 19,\n",
       " 'yellow_cards': 1,\n",
       " 'red_cards': 0,\n",
       " 'fouls_committed': 22,\n",
       " 'tactics': '4-2-3-1',\n",
       " 'starting_eleven': [{'name': 'Igor AKINFEEV',\n",
       "   'captain': True,\n",
       "   'shirt_number': 1,\n",
       "   'position': 'Goalie'},\n",
       "  {'name': 'MARIO FERNANDES',\n",
       "   'captain': False,\n",
       "   'shirt_number': 2,\n",
       "   'position': 'Defender'},\n",
       "  {'name': 'Ilya KUTEPOV',\n",
       "   'captain': False,\n",
       "   'shirt_number': 3,\n",
       "   'position': 'Defender'},\n",
       "  {'name': 'Sergey IGNASHEVICH',\n",
       "   'captain': False,\n",
       "   'shirt_number': 4,\n",
       "   'position': 'Defender'},\n",
       "  {'name': 'Iury GAZINSKY',\n",
       "   'captain': False,\n",
       "   'shirt_number': 8,\n",
       "   'position': 'Midfield'},\n",
       "  {'name': 'Alan DZAGOEV',\n",
       "   'captain': False,\n",
       "   'shirt_number': 9,\n",
       "   'position': 'Midfield'},\n",
       "  {'name': 'Fedor SMOLOV',\n",
       "   'captain': False,\n",
       "   'shirt_number': 10,\n",
       "   'position': 'Forward'},\n",
       "  {'name': 'Roman ZOBNIN',\n",
       "   'captain': False,\n",
       "   'shirt_number': 11,\n",
       "   'position': 'Midfield'},\n",
       "  {'name': 'Aleksandr GOLOVIN',\n",
       "   'captain': False,\n",
       "   'shirt_number': 17,\n",
       "   'position': 'Midfield'},\n",
       "  {'name': 'Yury ZHIRKOV',\n",
       "   'captain': False,\n",
       "   'shirt_number': 18,\n",
       "   'position': 'Midfield'},\n",
       "  {'name': 'Alexander SAMEDOV',\n",
       "   'captain': False,\n",
       "   'shirt_number': 19,\n",
       "   'position': 'Midfield'}],\n",
       " 'substitutes': [{'name': 'Andrey SEMENOV',\n",
       "   'captain': False,\n",
       "   'shirt_number': 5,\n",
       "   'position': 'Defender'},\n",
       "  {'name': 'Denis CHERYSHEV',\n",
       "   'captain': False,\n",
       "   'shirt_number': 6,\n",
       "   'position': 'Midfield'},\n",
       "  {'name': 'Daler KUZIAEV',\n",
       "   'captain': False,\n",
       "   'shirt_number': 7,\n",
       "   'position': 'Midfield'},\n",
       "  {'name': 'Andrei LUNEV',\n",
       "   'captain': False,\n",
       "   'shirt_number': 12,\n",
       "   'position': 'Goalie'},\n",
       "  {'name': 'Fedor KUDRIASHOV',\n",
       "   'captain': False,\n",
       "   'shirt_number': 13,\n",
       "   'position': 'Defender'},\n",
       "  {'name': 'Vladimir GRANAT',\n",
       "   'captain': False,\n",
       "   'shirt_number': 14,\n",
       "   'position': 'Defender'},\n",
       "  {'name': 'Alexey MIRANCHUK',\n",
       "   'captain': False,\n",
       "   'shirt_number': 15,\n",
       "   'position': 'Midfield'},\n",
       "  {'name': 'Anton MIRANCHUK',\n",
       "   'captain': False,\n",
       "   'shirt_number': 16,\n",
       "   'position': 'Midfield'},\n",
       "  {'name': 'Vladimir GABULOV',\n",
       "   'captain': False,\n",
       "   'shirt_number': 20,\n",
       "   'position': 'Goalie'},\n",
       "  {'name': 'Aleksandr EROKHIN',\n",
       "   'captain': False,\n",
       "   'shirt_number': 21,\n",
       "   'position': 'Midfield'},\n",
       "  {'name': 'Artem DZYUBA',\n",
       "   'captain': False,\n",
       "   'shirt_number': 22,\n",
       "   'position': 'Forward'},\n",
       "  {'name': 'Igor SMOLNIKOV',\n",
       "   'captain': False,\n",
       "   'shirt_number': 23,\n",
       "   'position': 'Defender'}]}"
      ]
     },
     "execution_count": 40,
     "metadata": {},
     "output_type": "execute_result"
    }
   ],
   "source": [
    "all_games[0]['home_team_statistics']"
   ]
  },
  {
   "cell_type": "code",
   "execution_count": 38,
   "metadata": {},
   "outputs": [
    {
     "ename": "NotImplementedError",
     "evalue": "<built-in function getitem>",
     "output_type": "error",
     "traceback": [
      "\u001b[0;31m---------------------------------------------------------------------------\u001b[0m",
      "\u001b[0;31mNotImplementedError\u001b[0m                       Traceback (most recent call last)",
      "\u001b[0;32m<ipython-input-38-66e0b55eae2a>\u001b[0m in \u001b[0;36m<module>\u001b[0;34m()\u001b[0m\n\u001b[1;32m     11\u001b[0m     \u001b[0mh_on_target\u001b[0m \u001b[0;34m=\u001b[0m \u001b[0mgame\u001b[0m\u001b[0;34m[\u001b[0m\u001b[0;34m'home_team_statistics'\u001b[0m\u001b[0;34m]\u001b[0m\u001b[0;34m[\u001b[0m\u001b[0;34m'on_target'\u001b[0m\u001b[0;34m]\u001b[0m\u001b[0;34m\u001b[0m\u001b[0m\n\u001b[1;32m     12\u001b[0m     \u001b[0ma_on_target\u001b[0m \u001b[0;34m=\u001b[0m \u001b[0mgame\u001b[0m\u001b[0;34m[\u001b[0m\u001b[0;34m'away_team_statistics'\u001b[0m\u001b[0;34m]\u001b[0m\u001b[0;34m[\u001b[0m\u001b[0;34m'on_target'\u001b[0m\u001b[0;34m]\u001b[0m\u001b[0;34m\u001b[0m\u001b[0m\n\u001b[0;32m---> 13\u001b[0;31m     game = session.query(Game).filter(Game.teams[0].country == g['home_team_statistics']['country'],\n\u001b[0m\u001b[1;32m     14\u001b[0m                                       Game.teams[1].country == g['away_team_statistics']['country'])\n\u001b[1;32m     15\u001b[0m \u001b[0;31m# # # # tried: game = session.query(Game).filter(Game.teams[0].country ==\u001b[0m\u001b[0;34m\u001b[0m\u001b[0;34m\u001b[0m\u001b[0m\n",
      "\u001b[0;32m/anaconda3/lib/python3.7/site-packages/sqlalchemy/sql/operators.py\u001b[0m in \u001b[0;36m__getitem__\u001b[0;34m(self, index)\u001b[0m\n\u001b[1;32m    409\u001b[0m \u001b[0;34m\u001b[0m\u001b[0m\n\u001b[1;32m    410\u001b[0m         \"\"\"\n\u001b[0;32m--> 411\u001b[0;31m         \u001b[0;32mreturn\u001b[0m \u001b[0mself\u001b[0m\u001b[0;34m.\u001b[0m\u001b[0moperate\u001b[0m\u001b[0;34m(\u001b[0m\u001b[0mgetitem\u001b[0m\u001b[0;34m,\u001b[0m \u001b[0mindex\u001b[0m\u001b[0;34m)\u001b[0m\u001b[0;34m\u001b[0m\u001b[0m\n\u001b[0m\u001b[1;32m    412\u001b[0m \u001b[0;34m\u001b[0m\u001b[0m\n\u001b[1;32m    413\u001b[0m     \u001b[0;32mdef\u001b[0m \u001b[0m__lshift__\u001b[0m\u001b[0;34m(\u001b[0m\u001b[0mself\u001b[0m\u001b[0;34m,\u001b[0m \u001b[0mother\u001b[0m\u001b[0;34m)\u001b[0m\u001b[0;34m:\u001b[0m\u001b[0;34m\u001b[0m\u001b[0m\n",
      "\u001b[0;32m/anaconda3/lib/python3.7/site-packages/sqlalchemy/orm/attributes.py\u001b[0m in \u001b[0;36moperate\u001b[0;34m(self, op, *other, **kwargs)\u001b[0m\n\u001b[1;32m    178\u001b[0m \u001b[0;34m\u001b[0m\u001b[0m\n\u001b[1;32m    179\u001b[0m     \u001b[0;32mdef\u001b[0m \u001b[0moperate\u001b[0m\u001b[0;34m(\u001b[0m\u001b[0mself\u001b[0m\u001b[0;34m,\u001b[0m \u001b[0mop\u001b[0m\u001b[0;34m,\u001b[0m \u001b[0;34m*\u001b[0m\u001b[0mother\u001b[0m\u001b[0;34m,\u001b[0m \u001b[0;34m**\u001b[0m\u001b[0mkwargs\u001b[0m\u001b[0;34m)\u001b[0m\u001b[0;34m:\u001b[0m\u001b[0;34m\u001b[0m\u001b[0m\n\u001b[0;32m--> 180\u001b[0;31m         \u001b[0;32mreturn\u001b[0m \u001b[0mop\u001b[0m\u001b[0;34m(\u001b[0m\u001b[0mself\u001b[0m\u001b[0;34m.\u001b[0m\u001b[0mcomparator\u001b[0m\u001b[0;34m,\u001b[0m \u001b[0;34m*\u001b[0m\u001b[0mother\u001b[0m\u001b[0;34m,\u001b[0m \u001b[0;34m**\u001b[0m\u001b[0mkwargs\u001b[0m\u001b[0;34m)\u001b[0m\u001b[0;34m\u001b[0m\u001b[0m\n\u001b[0m\u001b[1;32m    181\u001b[0m \u001b[0;34m\u001b[0m\u001b[0m\n\u001b[1;32m    182\u001b[0m     \u001b[0;32mdef\u001b[0m \u001b[0mreverse_operate\u001b[0m\u001b[0;34m(\u001b[0m\u001b[0mself\u001b[0m\u001b[0;34m,\u001b[0m \u001b[0mop\u001b[0m\u001b[0;34m,\u001b[0m \u001b[0mother\u001b[0m\u001b[0;34m,\u001b[0m \u001b[0;34m**\u001b[0m\u001b[0mkwargs\u001b[0m\u001b[0;34m)\u001b[0m\u001b[0;34m:\u001b[0m\u001b[0;34m\u001b[0m\u001b[0m\n",
      "\u001b[0;32m/anaconda3/lib/python3.7/site-packages/sqlalchemy/sql/operators.py\u001b[0m in \u001b[0;36m__getitem__\u001b[0;34m(self, index)\u001b[0m\n\u001b[1;32m    409\u001b[0m \u001b[0;34m\u001b[0m\u001b[0m\n\u001b[1;32m    410\u001b[0m         \"\"\"\n\u001b[0;32m--> 411\u001b[0;31m         \u001b[0;32mreturn\u001b[0m \u001b[0mself\u001b[0m\u001b[0;34m.\u001b[0m\u001b[0moperate\u001b[0m\u001b[0;34m(\u001b[0m\u001b[0mgetitem\u001b[0m\u001b[0;34m,\u001b[0m \u001b[0mindex\u001b[0m\u001b[0;34m)\u001b[0m\u001b[0;34m\u001b[0m\u001b[0m\n\u001b[0m\u001b[1;32m    412\u001b[0m \u001b[0;34m\u001b[0m\u001b[0m\n\u001b[1;32m    413\u001b[0m     \u001b[0;32mdef\u001b[0m \u001b[0m__lshift__\u001b[0m\u001b[0;34m(\u001b[0m\u001b[0mself\u001b[0m\u001b[0;34m,\u001b[0m \u001b[0mother\u001b[0m\u001b[0;34m)\u001b[0m\u001b[0;34m:\u001b[0m\u001b[0;34m\u001b[0m\u001b[0m\n",
      "\u001b[0;32m/anaconda3/lib/python3.7/site-packages/sqlalchemy/sql/operators.py\u001b[0m in \u001b[0;36moperate\u001b[0;34m(self, op, *other, **kwargs)\u001b[0m\n\u001b[1;32m    212\u001b[0m \u001b[0;34m\u001b[0m\u001b[0m\n\u001b[1;32m    213\u001b[0m         \"\"\"\n\u001b[0;32m--> 214\u001b[0;31m         \u001b[0;32mraise\u001b[0m \u001b[0mNotImplementedError\u001b[0m\u001b[0;34m(\u001b[0m\u001b[0mstr\u001b[0m\u001b[0;34m(\u001b[0m\u001b[0mop\u001b[0m\u001b[0;34m)\u001b[0m\u001b[0;34m)\u001b[0m\u001b[0;34m\u001b[0m\u001b[0m\n\u001b[0m\u001b[1;32m    215\u001b[0m \u001b[0;34m\u001b[0m\u001b[0m\n\u001b[1;32m    216\u001b[0m     \u001b[0;32mdef\u001b[0m \u001b[0mreverse_operate\u001b[0m\u001b[0;34m(\u001b[0m\u001b[0mself\u001b[0m\u001b[0;34m,\u001b[0m \u001b[0mop\u001b[0m\u001b[0;34m,\u001b[0m \u001b[0mother\u001b[0m\u001b[0;34m,\u001b[0m \u001b[0;34m**\u001b[0m\u001b[0mkwargs\u001b[0m\u001b[0;34m)\u001b[0m\u001b[0;34m:\u001b[0m\u001b[0;34m\u001b[0m\u001b[0m\n",
      "\u001b[0;31mNotImplementedError\u001b[0m: <built-in function getitem>"
     ]
    }
   ],
   "source": [
    "all_stats = []\n",
    "for g in all_games:\n",
    "    h_goals = game['home_team']['goals']\n",
    "    h_ball_possession = game['home_team_statistics']['ball_possession']\n",
    "    a_goals = game['away_team']['goals']\n",
    "    a_ball_possession = game['away_team_statistics']['ball_possession']\n",
    "    h_distance_covered = game['home_team_statistics']['distance_covered']\n",
    "    a_distance_covered = game['away_team_statistics']['distance_covered']\n",
    "    h_pass_accuracy = game['home_team_statistics']['pass_accuracy']\n",
    "    a_pass_accuracy = game['away_team_statistics']['pass_accuracy']\n",
    "    h_on_target = game['home_team_statistics']['on_target']\n",
    "    a_on_target = game['away_team_statistics']['on_target']\n",
    "    game = session.query(Game).filter(Game.teams[0].country == g['home_team_statistics']['country'],\n",
    "                                      Game.teams[1].country == g['away_team_statistics']['country']).one()\n",
    "# # # # tried: game = session.query(Game).filter(Game.teams[0].country == \n",
    "# stat[1]['country']).filter(Game.team[1].country == stat[3]['country']).one()\n",
    "# # # #    \n",
    "# # # this was a test. still need to get the correct game ; game = session.query(Game).filter(Game.venue == 'Moscow').all()[0]\n",
    "   \n",
    "    h_stats = Statistics(game = game_object,\n",
    "                         team = h_team, \n",
    "                        ball_possession =h_ball_possession,\n",
    "                        goals = h_goals,\n",
    "                        distance_covered = h_distance_covered,\n",
    "                        pass_accuracy = h_pass_accuracy,\n",
    "                        on_target = h_on_target)\n",
    "    a_stats = Statistics(game = game_object,\n",
    "                        team = a_team,\n",
    "                        ball_possession =a_ball_possession,\n",
    "                        goals = a_goals,\n",
    "                        distance_covered = a_distance_covered,\n",
    "                        pass_accuracy = a_pass_accuracy,\n",
    "                        on_target = a_on_target)\n",
    "    all_stats.append(h_stats)\n",
    "    all_stats.append(a_stats) "
   ]
  },
  {
   "cell_type": "code",
   "execution_count": 47,
   "metadata": {},
   "outputs": [
    {
     "ename": "InvalidRequestError",
     "evalue": "Can't compare a collection to an object or collection; use contains() to test for membership.",
     "output_type": "error",
     "traceback": [
      "\u001b[0;31m---------------------------------------------------------------------------\u001b[0m",
      "\u001b[0;31mInvalidRequestError\u001b[0m                       Traceback (most recent call last)",
      "\u001b[0;32m<ipython-input-47-5545d007c90d>\u001b[0m in \u001b[0;36m<module>\u001b[0;34m()\u001b[0m\n\u001b[1;32m      1\u001b[0m \u001b[0mteam_test\u001b[0m \u001b[0;34m=\u001b[0m \u001b[0mTeam\u001b[0m\u001b[0;34m(\u001b[0m\u001b[0mcountry\u001b[0m\u001b[0;34m=\u001b[0m\u001b[0;34m'Russia'\u001b[0m\u001b[0;34m)\u001b[0m\u001b[0;34m\u001b[0m\u001b[0m\n\u001b[0;32m----> 2\u001b[0;31m \u001b[0msession\u001b[0m\u001b[0;34m.\u001b[0m\u001b[0mquery\u001b[0m\u001b[0;34m(\u001b[0m\u001b[0mGame\u001b[0m\u001b[0;34m)\u001b[0m\u001b[0;34m.\u001b[0m\u001b[0mfilter\u001b[0m\u001b[0;34m(\u001b[0m\u001b[0mGame\u001b[0m\u001b[0;34m.\u001b[0m\u001b[0mteams\u001b[0m \u001b[0;34m==\u001b[0m \u001b[0mteam_test\u001b[0m\u001b[0;34m)\u001b[0m\u001b[0;34m\u001b[0m\u001b[0m\n\u001b[0m",
      "\u001b[0;32m/anaconda3/lib/python3.7/site-packages/sqlalchemy/sql/operators.py\u001b[0m in \u001b[0;36m__eq__\u001b[0;34m(self, other)\u001b[0m\n\u001b[1;32m    342\u001b[0m \u001b[0;34m\u001b[0m\u001b[0m\n\u001b[1;32m    343\u001b[0m         \"\"\"\n\u001b[0;32m--> 344\u001b[0;31m         \u001b[0;32mreturn\u001b[0m \u001b[0mself\u001b[0m\u001b[0;34m.\u001b[0m\u001b[0moperate\u001b[0m\u001b[0;34m(\u001b[0m\u001b[0meq\u001b[0m\u001b[0;34m,\u001b[0m \u001b[0mother\u001b[0m\u001b[0;34m)\u001b[0m\u001b[0;34m\u001b[0m\u001b[0m\n\u001b[0m\u001b[1;32m    345\u001b[0m \u001b[0;34m\u001b[0m\u001b[0m\n\u001b[1;32m    346\u001b[0m     \u001b[0;32mdef\u001b[0m \u001b[0m__ne__\u001b[0m\u001b[0;34m(\u001b[0m\u001b[0mself\u001b[0m\u001b[0;34m,\u001b[0m \u001b[0mother\u001b[0m\u001b[0;34m)\u001b[0m\u001b[0;34m:\u001b[0m\u001b[0;34m\u001b[0m\u001b[0m\n",
      "\u001b[0;32m/anaconda3/lib/python3.7/site-packages/sqlalchemy/orm/attributes.py\u001b[0m in \u001b[0;36moperate\u001b[0;34m(self, op, *other, **kwargs)\u001b[0m\n\u001b[1;32m    178\u001b[0m \u001b[0;34m\u001b[0m\u001b[0m\n\u001b[1;32m    179\u001b[0m     \u001b[0;32mdef\u001b[0m \u001b[0moperate\u001b[0m\u001b[0;34m(\u001b[0m\u001b[0mself\u001b[0m\u001b[0;34m,\u001b[0m \u001b[0mop\u001b[0m\u001b[0;34m,\u001b[0m \u001b[0;34m*\u001b[0m\u001b[0mother\u001b[0m\u001b[0;34m,\u001b[0m \u001b[0;34m**\u001b[0m\u001b[0mkwargs\u001b[0m\u001b[0;34m)\u001b[0m\u001b[0;34m:\u001b[0m\u001b[0;34m\u001b[0m\u001b[0m\n\u001b[0;32m--> 180\u001b[0;31m         \u001b[0;32mreturn\u001b[0m \u001b[0mop\u001b[0m\u001b[0;34m(\u001b[0m\u001b[0mself\u001b[0m\u001b[0;34m.\u001b[0m\u001b[0mcomparator\u001b[0m\u001b[0;34m,\u001b[0m \u001b[0;34m*\u001b[0m\u001b[0mother\u001b[0m\u001b[0;34m,\u001b[0m \u001b[0;34m**\u001b[0m\u001b[0mkwargs\u001b[0m\u001b[0;34m)\u001b[0m\u001b[0;34m\u001b[0m\u001b[0m\n\u001b[0m\u001b[1;32m    181\u001b[0m \u001b[0;34m\u001b[0m\u001b[0m\n\u001b[1;32m    182\u001b[0m     \u001b[0;32mdef\u001b[0m \u001b[0mreverse_operate\u001b[0m\u001b[0;34m(\u001b[0m\u001b[0mself\u001b[0m\u001b[0;34m,\u001b[0m \u001b[0mop\u001b[0m\u001b[0;34m,\u001b[0m \u001b[0mother\u001b[0m\u001b[0;34m,\u001b[0m \u001b[0;34m**\u001b[0m\u001b[0mkwargs\u001b[0m\u001b[0;34m)\u001b[0m\u001b[0;34m:\u001b[0m\u001b[0;34m\u001b[0m\u001b[0m\n",
      "\u001b[0;32m/anaconda3/lib/python3.7/site-packages/sqlalchemy/orm/relationships.py\u001b[0m in \u001b[0;36m__eq__\u001b[0;34m(self, other)\u001b[0m\n\u001b[1;32m   1032\u001b[0m             \u001b[0;32melif\u001b[0m \u001b[0mself\u001b[0m\u001b[0;34m.\u001b[0m\u001b[0mproperty\u001b[0m\u001b[0;34m.\u001b[0m\u001b[0muselist\u001b[0m\u001b[0;34m:\u001b[0m\u001b[0;34m\u001b[0m\u001b[0m\n\u001b[1;32m   1033\u001b[0m                 raise sa_exc.InvalidRequestError(\n\u001b[0;32m-> 1034\u001b[0;31m                     \u001b[0;34m\"Can't compare a collection to an object or collection; \"\u001b[0m\u001b[0;34m\u001b[0m\u001b[0m\n\u001b[0m\u001b[1;32m   1035\u001b[0m                     \"use contains() to test for membership.\")\n\u001b[1;32m   1036\u001b[0m             \u001b[0;32melse\u001b[0m\u001b[0;34m:\u001b[0m\u001b[0;34m\u001b[0m\u001b[0m\n",
      "\u001b[0;31mInvalidRequestError\u001b[0m: Can't compare a collection to an object or collection; use contains() to test for membership."
     ]
    }
   ],
   "source": [
    "team_test = Team(country='Russia') \n",
    "session.query(Game).filter(Game.teams == team_test)"
   ]
  },
  {
   "cell_type": "code",
   "execution_count": 48,
   "metadata": {},
   "outputs": [
    {
     "ename": "AttributeError",
     "evalue": "Neither 'InstrumentedAttribute' object nor 'Comparator' object associated with Game.teams has an attribute 'country'",
     "output_type": "error",
     "traceback": [
      "\u001b[0;31m---------------------------------------------------------------------------\u001b[0m",
      "\u001b[0;31mAttributeError\u001b[0m                            Traceback (most recent call last)",
      "\u001b[0;32m/anaconda3/lib/python3.7/site-packages/sqlalchemy/orm/attributes.py\u001b[0m in \u001b[0;36m__getattr__\u001b[0;34m(self, key)\u001b[0m\n\u001b[1;32m    189\u001b[0m         \u001b[0;32mtry\u001b[0m\u001b[0;34m:\u001b[0m\u001b[0;34m\u001b[0m\u001b[0m\n\u001b[0;32m--> 190\u001b[0;31m             \u001b[0;32mreturn\u001b[0m \u001b[0mgetattr\u001b[0m\u001b[0;34m(\u001b[0m\u001b[0mself\u001b[0m\u001b[0;34m.\u001b[0m\u001b[0mcomparator\u001b[0m\u001b[0;34m,\u001b[0m \u001b[0mkey\u001b[0m\u001b[0;34m)\u001b[0m\u001b[0;34m\u001b[0m\u001b[0m\n\u001b[0m\u001b[1;32m    191\u001b[0m         \u001b[0;32mexcept\u001b[0m \u001b[0mAttributeError\u001b[0m\u001b[0;34m:\u001b[0m\u001b[0;34m\u001b[0m\u001b[0m\n",
      "\u001b[0;31mAttributeError\u001b[0m: 'Comparator' object has no attribute 'country'",
      "\nDuring handling of the above exception, another exception occurred:\n",
      "\u001b[0;31mAttributeError\u001b[0m                            Traceback (most recent call last)",
      "\u001b[0;32m<ipython-input-48-5c44ad404031>\u001b[0m in \u001b[0;36m<module>\u001b[0;34m()\u001b[0m\n\u001b[0;32m----> 1\u001b[0;31m \u001b[0msession\u001b[0m\u001b[0;34m.\u001b[0m\u001b[0mquery\u001b[0m\u001b[0;34m(\u001b[0m\u001b[0mGame\u001b[0m\u001b[0;34m)\u001b[0m\u001b[0;34m.\u001b[0m\u001b[0mfilter\u001b[0m\u001b[0;34m(\u001b[0m\u001b[0mGame\u001b[0m\u001b[0;34m.\u001b[0m\u001b[0mteams\u001b[0m\u001b[0;34m.\u001b[0m\u001b[0mcountry\u001b[0m\u001b[0;34m.\u001b[0m\u001b[0mall\u001b[0m\u001b[0;34m(\u001b[0m\u001b[0;34m)\u001b[0m \u001b[0;34m==\u001b[0m \u001b[0;34m[\u001b[0m\u001b[0;34m'home_team_statistics'\u001b[0m\u001b[0;34m]\u001b[0m\u001b[0;34m[\u001b[0m\u001b[0;34m'country'\u001b[0m\u001b[0;34m]\u001b[0m\u001b[0;34m,\u001b[0m \u001b[0;34m[\u001b[0m\u001b[0;34m'away_team_statistics'\u001b[0m\u001b[0;34m]\u001b[0m\u001b[0;34m[\u001b[0m\u001b[0;34m'country'\u001b[0m\u001b[0;34m]\u001b[0m\u001b[0;34m)\u001b[0m\u001b[0;34m\u001b[0m\u001b[0m\n\u001b[0m",
      "\u001b[0;32m/anaconda3/lib/python3.7/site-packages/sqlalchemy/orm/attributes.py\u001b[0m in \u001b[0;36m__getattr__\u001b[0;34m(self, key)\u001b[0m\n\u001b[1;32m    196\u001b[0m                     \u001b[0mtype\u001b[0m\u001b[0;34m(\u001b[0m\u001b[0mself\u001b[0m\u001b[0;34m.\u001b[0m\u001b[0mcomparator\u001b[0m\u001b[0;34m)\u001b[0m\u001b[0;34m.\u001b[0m\u001b[0m__name__\u001b[0m\u001b[0;34m,\u001b[0m\u001b[0;34m\u001b[0m\u001b[0m\n\u001b[1;32m    197\u001b[0m                     \u001b[0mself\u001b[0m\u001b[0;34m,\u001b[0m\u001b[0;34m\u001b[0m\u001b[0m\n\u001b[0;32m--> 198\u001b[0;31m                     key)\n\u001b[0m\u001b[1;32m    199\u001b[0m             )\n\u001b[1;32m    200\u001b[0m \u001b[0;34m\u001b[0m\u001b[0m\n",
      "\u001b[0;31mAttributeError\u001b[0m: Neither 'InstrumentedAttribute' object nor 'Comparator' object associated with Game.teams has an attribute 'country'"
     ]
    }
   ],
   "source": [
    "session.query(Game).filter(Game.teams.country.all() == ['home_team_statistics']['country'], ['away_team_statistics']['country'])"
   ]
  },
  {
   "cell_type": "code",
   "execution_count": 35,
   "metadata": {},
   "outputs": [
    {
     "data": {
      "text/plain": [
       "['Saudi Arabia',\n",
       " 'Uruguay',\n",
       " 'Iran',\n",
       " 'Spain',\n",
       " 'Australia',\n",
       " 'Iceland',\n",
       " 'Denmark',\n",
       " 'Nigeria',\n",
       " 'Serbia',\n",
       " 'Mexico',\n",
       " 'Switzerland',\n",
       " 'Korea Republic',\n",
       " 'Panama',\n",
       " 'England',\n",
       " 'Japan',\n",
       " 'Senegal',\n",
       " 'Egypt',\n",
       " 'Morocco',\n",
       " 'Saudi Arabia',\n",
       " 'Spain',\n",
       " 'Australia',\n",
       " 'Peru',\n",
       " 'Croatia',\n",
       " 'Costa Rica',\n",
       " 'Iceland',\n",
       " 'Switzerland',\n",
       " 'Tunisia',\n",
       " 'Mexico',\n",
       " 'Sweden',\n",
       " 'Panama',\n",
       " 'Senegal',\n",
       " 'Colombia',\n",
       " 'Russia',\n",
       " 'Egypt',\n",
       " 'Morocco',\n",
       " 'Portugal',\n",
       " 'France',\n",
       " 'Peru',\n",
       " 'Croatia',\n",
       " 'Argentina',\n",
       " 'Germany',\n",
       " 'Sweden',\n",
       " 'Costa Rica',\n",
       " 'Brazil',\n",
       " 'Poland',\n",
       " 'Colombia',\n",
       " 'Belgium',\n",
       " 'Tunisia',\n",
       " 'Argentina',\n",
       " 'Portugal',\n",
       " 'Russia',\n",
       " 'Denmark',\n",
       " 'Mexico',\n",
       " 'Japan',\n",
       " 'Switzerland',\n",
       " 'England',\n",
       " 'France',\n",
       " 'Belgium',\n",
       " 'England',\n",
       " 'Croatia',\n",
       " 'Belgium',\n",
       " 'England',\n",
       " 'England',\n",
       " 'Croatia']"
      ]
     },
     "execution_count": 35,
     "metadata": {},
     "output_type": "execute_result"
    }
   ],
   "source": [
    "all_hs = [game['home_team_statistics']['country'] for game in all_games]\n",
    "all_as = [game['away_team_statistics']['country'] for game in all_games]\n",
    "all_as"
   ]
  },
  {
   "cell_type": "code",
   "execution_count": 14,
   "metadata": {},
   "outputs": [
    {
     "data": {
      "text/plain": [
       "'Russia'"
      ]
     },
     "execution_count": 14,
     "metadata": {},
     "output_type": "execute_result"
    }
   ],
   "source": [
    "game= all_game_objects[0]\n",
    "#session.query(Game).filter(Game.teams[0].country == session.query(Team).filter(Team.country == game['home_team_statistics']['country']).one()['country'])\n",
    "#session.query(Game).filter(Game.teams[0].country == 'Russia')\n",
    "game.teams[0].country\n"
   ]
  },
  {
   "cell_type": "code",
   "execution_count": 10,
   "metadata": {},
   "outputs": [
    {
     "data": {
      "text/plain": [
       "128"
      ]
     },
     "execution_count": 10,
     "metadata": {},
     "output_type": "execute_result"
    }
   ],
   "source": [
    "# len(all_stats)"
   ]
  },
  {
   "cell_type": "code",
   "execution_count": 20,
   "metadata": {},
   "outputs": [
    {
     "data": {
      "text/plain": [
       "64"
      ]
     },
     "execution_count": 20,
     "metadata": {},
     "output_type": "execute_result"
    }
   ],
   "source": [
    "len(all_game_objects)"
   ]
  },
  {
   "cell_type": "code",
   "execution_count": 10,
   "metadata": {},
   "outputs": [],
   "source": [
    "# assert(len(all_game_objects)==64)"
   ]
  },
  {
   "cell_type": "code",
   "execution_count": 8,
   "metadata": {},
   "outputs": [],
   "source": [
    "session.add_all(all_game_objects)\n",
    "session.add_all(all_stats)\n",
    "session.commit()"
   ]
  },
  {
   "cell_type": "code",
   "execution_count": 12,
   "metadata": {},
   "outputs": [
    {
     "data": {
      "text/plain": [
       "'Morocco'"
      ]
     },
     "execution_count": 12,
     "metadata": {},
     "output_type": "execute_result"
    }
   ],
   "source": [
    "session.query(Game).filter(Game.venue == 'St. Petersburg').all()[0].teams[0].country"
   ]
  },
  {
   "cell_type": "code",
   "execution_count": 13,
   "metadata": {},
   "outputs": [
    {
     "data": {
      "text/plain": [
       "5"
      ]
     },
     "execution_count": 13,
     "metadata": {},
     "output_type": "execute_result"
    }
   ],
   "source": [
    "all_games[0]['home_team']['goals']"
   ]
  },
  {
   "cell_type": "code",
   "execution_count": 14,
   "metadata": {},
   "outputs": [
    {
     "data": {
      "text/plain": [
       "'Saransk'"
      ]
     },
     "execution_count": 14,
     "metadata": {},
     "output_type": "execute_result"
    }
   ],
   "source": [
    "all_stats[29].game.venue"
   ]
  },
  {
   "cell_type": "code",
   "execution_count": 17,
   "metadata": {},
   "outputs": [
    {
     "ename": "SyntaxError",
     "evalue": "unexpected EOF while parsing (<ipython-input-17-4926ae262127>, line 1)",
     "output_type": "error",
     "traceback": [
      "\u001b[0;36m  File \u001b[0;32m\"<ipython-input-17-4926ae262127>\"\u001b[0;36m, line \u001b[0;32m1\u001b[0m\n\u001b[0;31m    len(session.query(Game).join(Statistics).filter_by(Team.country == 'Colombia').first()\u001b[0m\n\u001b[0m                                                                                          ^\u001b[0m\n\u001b[0;31mSyntaxError\u001b[0m\u001b[0;31m:\u001b[0m unexpected EOF while parsing\n"
     ]
    }
   ],
   "source": [
    "len(session.query(Game).join(Statistics).filter_by(Team.country == 'Colombia').first()"
   ]
  },
  {
   "cell_type": "code",
   "execution_count": null,
   "metadata": {},
   "outputs": [],
   "source": [
    "\n",
    "\n",
    "#1. Just statistics objects\n",
    "#2. Go through all of the stats objects\n",
    "    all_stats = session.query(Stat).all()\n",
    "    for stat in all_stats:\n",
    "        name = stat.country_name\n",
    "        team = session.query(Team).filter_by(name=name)\n",
    "#         stat.team_id = team.id\n",
    "        stat.team = team\n",
    "        session.commit()\n",
    "        \n",
    "        \n",
    "\n",
    "for stat in all_statistics:\n",
    "    name = find_country_name(stat)\n",
    "    team = session.query(Team).filter_by(name=name)\n",
    "    stat.team_id = team.id\n",
    "    "
   ]
  }
 ],
 "metadata": {
  "kernelspec": {
   "display_name": "Python 3",
   "language": "python",
   "name": "python3"
  },
  "language_info": {
   "codemirror_mode": {
    "name": "ipython",
    "version": 3
   },
   "file_extension": ".py",
   "mimetype": "text/x-python",
   "name": "python",
   "nbconvert_exporter": "python",
   "pygments_lexer": "ipython3",
   "version": "3.7.0"
  }
 },
 "nbformat": 4,
 "nbformat_minor": 2
}

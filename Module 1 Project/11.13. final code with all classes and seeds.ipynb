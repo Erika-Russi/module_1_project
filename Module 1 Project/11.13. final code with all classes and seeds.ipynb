{
 "cells": [
  {
   "cell_type": "code",
   "execution_count": 1,
   "metadata": {},
   "outputs": [],
   "source": [
    "import requests\n",
    "url = 'https://worldcup.sfg.io/matches'\n",
    "r = requests.get(url)\n",
    "all_games = r.json()"
   ]
  },
  {
   "cell_type": "code",
   "execution_count": 2,
   "metadata": {},
   "outputs": [],
   "source": [
    "from datetime import datetime as dt\n",
    "from sqlalchemy import Column, Integer, String, ForeignKey, DateTime, create_engine\n",
    "from sqlalchemy.ext.declarative import declarative_base\n",
    "from sqlalchemy.orm import sessionmaker, relationship, backref\n",
    "\n",
    "Base = declarative_base()\n",
    "\n",
    "class Game(Base):\n",
    "    __tablename__ = 'games'\n",
    "    id = Column(Integer, primary_key=True)\n",
    "    venue = Column(String)\n",
    "    winner = Column(String)\n",
    "    statistics = relationship('Statistics', back_populates=\"game\")\n",
    "    teams = relationship(\n",
    "        'Team',\n",
    "        secondary='statistics',\n",
    "        back_populates='games'\n",
    "    )\n",
    "\n",
    "class Team(Base):\n",
    "    __tablename__ = 'teams'\n",
    "    id = Column(Integer, primary_key=True)\n",
    "    country = Column(String)\n",
    "    statistics = relationship('Statistics', back_populates=\"team\")\n",
    "    games = relationship(\n",
    "        'Game',\n",
    "        secondary='statistics',\n",
    "        back_populates='teams'\n",
    "    )\n",
    "\n",
    "class Statistics(Base):\n",
    "    __tablename__ = 'statistics'\n",
    "    id = Column(Integer, primary_key=True)\n",
    "    name = Column(String)\n",
    "    game_id = Column(Integer, ForeignKey('games.id'))\n",
    "    team_id = Column(Integer, ForeignKey('teams.id'))\n",
    "    goals = Column(Integer)\n",
    "    game = relationship('Game', back_populates='statistics')\n",
    "    team = relationship('Team', back_populates='statistics')\n",
    "    ball_possession=Column(Integer)\n",
    "    distance_covered=Column(Integer)\n",
    "    on_target=Column(Integer)\n",
    "    pass_accuracy=Column(Integer)\n",
    "\n",
    "engine = create_engine('sqlite:///worldcup.db')\n",
    "Base.metadata.create_all(engine)\n",
    "Session = sessionmaker(bind=engine)\n",
    "session = Session()"
   ]
  },
  {
   "cell_type": "code",
   "execution_count": 3,
   "metadata": {},
   "outputs": [],
   "source": [
    "all_games_tuples= [(game['venue'], game['home_team_country'], game['away_team_country'], game['winner']) for game in all_games]"
   ]
  },
  {
   "cell_type": "code",
   "execution_count": 4,
   "metadata": {},
   "outputs": [],
   "source": [
    "h_teams = set([t[1] for t in all_games_tuples])\n",
    "a_teams = set([t[2] for t in all_games_tuples])\n",
    "teams = h_teams.union(a_teams)"
   ]
  },
  {
   "cell_type": "code",
   "execution_count": 5,
   "metadata": {},
   "outputs": [
    {
     "data": {
      "text/plain": [
       "32"
      ]
     },
     "execution_count": 5,
     "metadata": {},
     "output_type": "execute_result"
    }
   ],
   "source": [
    "team_objects = [Team(country = t) for t in teams]\n",
    "len(team_objects)"
   ]
  },
  {
   "cell_type": "code",
   "execution_count": 6,
   "metadata": {},
   "outputs": [],
   "source": [
    "session.add_all(team_objects)\n",
    "session.commit()"
   ]
  },
  {
   "cell_type": "code",
   "execution_count": 7,
   "metadata": {
    "scrolled": true
   },
   "outputs": [],
   "source": [
    "all_game_objects = []\n",
    "all_stats = []\n",
    "for game in all_games:\n",
    "    h_team = session.query(Team).filter(Team.country == game['home_team_statistics']['country']).one()\n",
    "    a_team = session.query(Team).filter(Team.country == game['away_team_statistics']['country']).one()\n",
    "    game_object = Game(venue= game['venue'],\n",
    "                       winner = game['winner'])\n",
    "    all_game_objects.append(game_object)\n",
    "\n",
    "\n",
    "    h_name = game['home_team']['country']\n",
    "    a_name = game['away_team']['country']\n",
    "    h_goals = game['home_team']['goals']\n",
    "    h_ball_possession = game['home_team_statistics']['ball_possession']\n",
    "    a_goals = game['away_team']['goals']\n",
    "    a_ball_possession = game['away_team_statistics']['ball_possession']\n",
    "    h_distance_covered = game['home_team_statistics']['distance_covered']\n",
    "    a_distance_covered = game['away_team_statistics']['distance_covered']\n",
    "    h_pass_accuracy = game['home_team_statistics']['pass_accuracy']\n",
    "    a_pass_accuracy = game['away_team_statistics']['pass_accuracy']\n",
    "    h_on_target = game['home_team_statistics']['on_target']\n",
    "    a_on_target = game['away_team_statistics']['on_target']\n",
    "\n",
    "\n",
    "    h_stats = Statistics(game = game_object,\n",
    "                         name= h_name,\n",
    "                         team = h_team,\n",
    "                        ball_possession =h_ball_possession,\n",
    "                        goals = h_goals,\n",
    "                        distance_covered = h_distance_covered,\n",
    "                        pass_accuracy = h_pass_accuracy,\n",
    "                        on_target = h_on_target)\n",
    "    a_stats = Statistics(game = game_object,\n",
    "                         name= a_name,\n",
    "                        team = a_team,\n",
    "                        ball_possession =a_ball_possession,\n",
    "                        goals = a_goals,\n",
    "                        distance_covered = a_distance_covered,\n",
    "                        pass_accuracy = a_pass_accuracy,\n",
    "                        on_target = a_on_target)\n",
    "    all_stats.append(h_stats)\n",
    "    all_stats.append(a_stats)\n"
   ]
  },
  {
   "cell_type": "code",
   "execution_count": 8,
   "metadata": {},
   "outputs": [
    {
     "data": {
      "text/plain": [
       "64"
      ]
     },
     "execution_count": 8,
     "metadata": {},
     "output_type": "execute_result"
    }
   ],
   "source": [
    "len(all_game_objects)"
   ]
  },
  {
   "cell_type": "code",
   "execution_count": 9,
   "metadata": {},
   "outputs": [
    {
     "data": {
      "text/plain": [
       "128"
      ]
     },
     "execution_count": 9,
     "metadata": {},
     "output_type": "execute_result"
    }
   ],
   "source": [
    "len(all_stats)"
   ]
  },
  {
   "cell_type": "code",
   "execution_count": 10,
   "metadata": {},
   "outputs": [],
   "source": [
    "session.add_all(all_game_objects)\n",
    "session.add_all(all_stats)\n",
    "session.commit()"
   ]
  },
  {
   "cell_type": "code",
   "execution_count": 11,
   "metadata": {},
   "outputs": [
    {
     "data": {
      "text/plain": [
       "[<__main__.Statistics at 0x109cbcda0>,\n",
       " <__main__.Statistics at 0x109cd4dd8>,\n",
       " <__main__.Statistics at 0x109cf0198>,\n",
       " <__main__.Statistics at 0x109d06240>,\n",
       " <__main__.Statistics at 0x109d00320>]"
      ]
     },
     "execution_count": 11,
     "metadata": {},
     "output_type": "execute_result"
    }
   ],
   "source": [
    "#all statistics objects where russia played\n",
    "session.query(Statistics).join(Team).filter(Team.country == 'Russia').all()"
   ]
  },
  {
   "cell_type": "code",
   "execution_count": 12,
   "metadata": {},
   "outputs": [],
   "source": [
    "#first statistics objects where russia played\n",
    "first_russia_stat = session.query(Statistics).join(Team).filter(Team.country == 'Russia').all()[0]"
   ]
  },
  {
   "cell_type": "code",
   "execution_count": 13,
   "metadata": {},
   "outputs": [
    {
     "data": {
      "text/plain": [
       "40"
      ]
     },
     "execution_count": 13,
     "metadata": {},
     "output_type": "execute_result"
    }
   ],
   "source": [
    "first_russia_stat.ball_possession"
   ]
  },
  {
   "cell_type": "code",
   "execution_count": 14,
   "metadata": {},
   "outputs": [],
   "source": [
    "from sqlalchemy.sql import func"
   ]
  },
  {
   "cell_type": "code",
   "execution_count": 15,
   "metadata": {},
   "outputs": [
    {
     "data": {
      "text/plain": [
       "'Spain'"
      ]
     },
     "execution_count": 15,
     "metadata": {},
     "output_type": "execute_result"
    }
   ],
   "source": [
    "def team_with_highest_ball_poss():\n",
    "    max_bp= session.query(Statistics,func.max(Statistics.ball_possession)).join(Team).first()\n",
    "    return max_bp.Statistics.name\n",
    "team_with_highest_ball_poss()"
   ]
  },
  {
   "cell_type": "code",
   "execution_count": 16,
   "metadata": {},
   "outputs": [
    {
     "data": {
      "text/plain": [
       "'Russia'"
      ]
     },
     "execution_count": 16,
     "metadata": {},
     "output_type": "execute_result"
    }
   ],
   "source": [
    "def team_with_longest_dist_covered():\n",
    "    max_dc= session.query(Statistics,func.max(Statistics.distance_covered)).join(Team).first()\n",
    "    return max_dc.Statistics.name\n",
    "team_with_longest_dist_covered()"
   ]
  },
  {
   "cell_type": "code",
   "execution_count": 17,
   "metadata": {},
   "outputs": [
    {
     "data": {
      "text/plain": [
       "'Poland'"
      ]
     },
     "execution_count": 17,
     "metadata": {},
     "output_type": "execute_result"
    }
   ],
   "source": [
    "def team_with_shortest_dist_covered():\n",
    "    min_dc= session.query(Statistics,func.min(Statistics.distance_covered)).join(Team).first()\n",
    "    return min_dc.Statistics.name\n",
    "team_with_shortest_dist_covered()"
   ]
  },
  {
   "cell_type": "code",
   "execution_count": 18,
   "metadata": {},
   "outputs": [
    {
     "data": {
      "text/plain": [
       "'Russia'"
      ]
     },
     "execution_count": 18,
     "metadata": {},
     "output_type": "execute_result"
    }
   ],
   "source": [
    "def team_with_lowest_ball_poss():\n",
    "    min_bp= session.query(Statistics,func.min(Statistics.ball_possession)).join(Team).first()\n",
    "    return min_bp.Statistics.name\n",
    "team_with_lowest_ball_poss()"
   ]
  },
  {
   "cell_type": "code",
   "execution_count": 19,
   "metadata": {},
   "outputs": [
    {
     "data": {
      "text/plain": [
       "(128)"
      ]
     },
     "execution_count": 19,
     "metadata": {},
     "output_type": "execute_result"
    }
   ],
   "source": [
    "def count_stat_goals(session):\n",
    "    count_statgoals = session.query(func.count(Statistics.goals)).one()\n",
    "    return count_statgoals\n",
    "\n",
    "count_stat_goals(session)"
   ]
  },
  {
   "cell_type": "code",
   "execution_count": 20,
   "metadata": {},
   "outputs": [
    {
     "data": {
      "text/plain": [
       "[('Argentina', 6),\n",
       " ('Australia', 2),\n",
       " ('Belgium', 16),\n",
       " ('Brazil', 8),\n",
       " ('Colombia', 6),\n",
       " ('Costa Rica', 2),\n",
       " ('Croatia', 14),\n",
       " ('Denmark', 3),\n",
       " ('Egypt', 2),\n",
       " ('England', 12),\n",
       " ('France', 14),\n",
       " ('Germany', 2),\n",
       " ('Iceland', 2),\n",
       " ('Iran', 2),\n",
       " ('Japan', 6),\n",
       " ('Korea Republic', 3),\n",
       " ('Mexico', 3),\n",
       " ('Morocco', 2),\n",
       " ('Nigeria', 3),\n",
       " ('Panama', 2),\n",
       " ('Peru', 2),\n",
       " ('Poland', 2),\n",
       " ('Portugal', 6),\n",
       " ('Russia', 11),\n",
       " ('Saudi Arabia', 2),\n",
       " ('Senegal', 4),\n",
       " ('Serbia', 2),\n",
       " ('Spain', 7),\n",
       " ('Sweden', 6),\n",
       " ('Switzerland', 5),\n",
       " ('Tunisia', 5),\n",
       " ('Uruguay', 7)]"
      ]
     },
     "execution_count": 20,
     "metadata": {},
     "output_type": "execute_result"
    }
   ],
   "source": [
    "def return_country_and_its_total_goals():\n",
    "    return session.query(Team.country, func.sum(Statistics.goals)).join(Statistics).group_by(Team.country).all()\n",
    "\n",
    "return_country_and_its_total_goals()"
   ]
  },
  {
   "cell_type": "code",
   "execution_count": 22,
   "metadata": {},
   "outputs": [
    {
     "data": {
      "text/plain": [
       "[('Mexico', 95.25, 3.25),\n",
       " ('Panama', 96.33333333333333, 2.6666666666666665),\n",
       " ('Poland', 98.33333333333333, 2.6666666666666665),\n",
       " ('Japan', 99.0, 4.0),\n",
       " ('Nigeria', 99.0, 3.0),\n",
       " ('Argentina', 99.5, 4.5),\n",
       " ('Iran', 99.66666666666667, 1.3333333333333333),\n",
       " ('France', 99.85714285714286, 4.142857142857143),\n",
       " ('Portugal', 100.0, 3.25),\n",
       " ('Brazil', 100.6, 7.6),\n",
       " ('Senegal', 101.33333333333333, 4.0),\n",
       " ('Peru', 101.66666666666667, 3.6666666666666665),\n",
       " ('Saudi Arabia', 102.0, 3.3333333333333335),\n",
       " ('Tunisia', 103.33333333333333, 4.333333333333333),\n",
       " ('Uruguay', 103.4, 4.4),\n",
       " ('Belgium', 103.85714285714286, 5.714285714285714),\n",
       " ('Iceland', 104.0, 4.0),\n",
       " ('Sweden', 104.2, 4.0),\n",
       " ('Korea Republic', 105.66666666666667, 3.6666666666666665),\n",
       " ('Switzerland', 105.75, 3.5),\n",
       " ('Costa Rica', 106.0, 3.0),\n",
       " ('Morocco', 106.33333333333333, 3.3333333333333335),\n",
       " ('Colombia', 108.75, 3.0),\n",
       " ('Egypt', 109.33333333333333, 1.6666666666666667),\n",
       " ('Australia', 109.66666666666667, 2.6666666666666665),\n",
       " ('Germany', 111.33333333333333, 6.666666666666667),\n",
       " ('Serbia', 112.0, 2.3333333333333335),\n",
       " ('Spain', 112.0, 5.25),\n",
       " ('Denmark', 115.5, 3.0),\n",
       " ('England', 116.42857142857143, 3.5714285714285716),\n",
       " ('Croatia', 116.71428571428571, 4.142857142857143),\n",
       " ('Russia', 125.0, 3.8)]"
      ]
     },
     "execution_count": 22,
     "metadata": {},
     "output_type": "execute_result"
    }
   ],
   "source": [
    "def average_dc_vs_ot_per_game():\n",
    "    return session.query(Team.country, func.avg(Statistics.distance_covered), func.avg(Statistics.on_target)).join(Statistics).group_by(Team.country).order_by(func.avg(Statistics.distance_covered).asc()).all()\n",
    "\n",
    "average_dc_vs_ot_per_game()"
   ]
  },
  {
   "cell_type": "code",
   "execution_count": 23,
   "metadata": {},
   "outputs": [
    {
     "data": {
      "text/plain": [
       "[('Australia', 0.6666666666666666, 109.66666666666667),\n",
       " ('Costa Rica', 0.6666666666666666, 106.0),\n",
       " ('Egypt', 0.6666666666666666, 109.33333333333333),\n",
       " ('Germany', 0.6666666666666666, 111.33333333333333),\n",
       " ('Iceland', 0.6666666666666666, 104.0),\n",
       " ('Iran', 0.6666666666666666, 99.66666666666667),\n",
       " ('Morocco', 0.6666666666666666, 106.33333333333333),\n",
       " ('Panama', 0.6666666666666666, 96.33333333333333),\n",
       " ('Peru', 0.6666666666666666, 101.66666666666667),\n",
       " ('Poland', 0.6666666666666666, 98.33333333333333),\n",
       " ('Saudi Arabia', 0.6666666666666666, 102.0),\n",
       " ('Serbia', 0.6666666666666666, 112.0),\n",
       " ('Denmark', 0.75, 115.5),\n",
       " ('Mexico', 0.75, 95.25),\n",
       " ('Korea Republic', 1.0, 105.66666666666667),\n",
       " ('Nigeria', 1.0, 99.0),\n",
       " ('Sweden', 1.2, 104.2),\n",
       " ('Switzerland', 1.25, 105.75),\n",
       " ('Senegal', 1.3333333333333333, 101.33333333333333),\n",
       " ('Uruguay', 1.4, 103.4),\n",
       " ('Argentina', 1.5, 99.5),\n",
       " ('Colombia', 1.5, 108.75),\n",
       " ('Japan', 1.5, 99.0),\n",
       " ('Portugal', 1.5, 100.0),\n",
       " ('Brazil', 1.6, 100.6),\n",
       " ('Tunisia', 1.6666666666666667, 103.33333333333333),\n",
       " ('England', 1.7142857142857142, 116.42857142857143),\n",
       " ('Spain', 1.75, 112.0),\n",
       " ('Croatia', 2.0, 116.71428571428571),\n",
       " ('France', 2.0, 99.85714285714286),\n",
       " ('Russia', 2.2, 125.0),\n",
       " ('Belgium', 2.2857142857142856, 103.85714285714286)]"
      ]
     },
     "execution_count": 23,
     "metadata": {},
     "output_type": "execute_result"
    }
   ],
   "source": [
    "def average_goals_vs_dc_per_game():\n",
    "    return session.query(Team.country, func.avg(Statistics.goals), func.avg(Statistics.distance_covered)).join(Statistics).group_by(Team.country).order_by(func.avg(Statistics.goals).asc()).all()\n",
    "\n",
    "average_goals_vs_dc_per_game()"
   ]
  },
  {
   "cell_type": "code",
   "execution_count": 24,
   "metadata": {},
   "outputs": [
    {
     "data": {
      "text/plain": [
       "[('Australia', 0.6666666666666666, 51.333333333333336),\n",
       " ('Costa Rica', 0.6666666666666666, 40.333333333333336),\n",
       " ('Egypt', 0.6666666666666666, 45.0),\n",
       " ('Germany', 0.6666666666666666, 66.66666666666667),\n",
       " ('Iceland', 0.6666666666666666, 37.333333333333336),\n",
       " ('Iran', 0.6666666666666666, 32.666666666666664),\n",
       " ('Morocco', 0.6666666666666666, 49.666666666666664),\n",
       " ('Panama', 0.6666666666666666, 39.0),\n",
       " ('Peru', 0.6666666666666666, 51.333333333333336),\n",
       " ('Poland', 0.6666666666666666, 50.0),\n",
       " ('Saudi Arabia', 0.6666666666666666, 58.0),\n",
       " ('Serbia', 0.6666666666666666, 45.0),\n",
       " ('Denmark', 0.75, 45.5),\n",
       " ('Mexico', 0.75, 54.5),\n",
       " ('Korea Republic', 1.0, 40.666666666666664),\n",
       " ('Nigeria', 1.0, 45.666666666666664),\n",
       " ('Sweden', 1.2, 38.6),\n",
       " ('Switzerland', 1.25, 57.75),\n",
       " ('Senegal', 1.3333333333333333, 44.666666666666664),\n",
       " ('Uruguay', 1.4, 48.2),\n",
       " ('Argentina', 1.5, 63.75),\n",
       " ('Colombia', 1.5, 49.75),\n",
       " ('Japan', 1.5, 52.25),\n",
       " ('Portugal', 1.5, 54.0),\n",
       " ('Brazil', 1.6, 56.0),\n",
       " ('Tunisia', 1.6666666666666667, 50.666666666666664),\n",
       " ('England', 1.7142857142857142, 53.857142857142854),\n",
       " ('Spain', 1.75, 68.25),\n",
       " ('Croatia', 2.0, 55.285714285714285),\n",
       " ('France', 2.0, 47.57142857142857),\n",
       " ('Russia', 2.2, 38.6),\n",
       " ('Belgium', 2.2857142857142856, 52.714285714285715)]"
      ]
     },
     "execution_count": 24,
     "metadata": {},
     "output_type": "execute_result"
    }
   ],
   "source": [
    "def average_goals_vs_bp_per_game():\n",
    "    return session.query(Team.country, func.avg(Statistics.goals), func.avg(Statistics.ball_possession)).join(Statistics).group_by(Team.country).order_by(func.avg(Statistics.goals).asc()).all()\n",
    "\n",
    "average_goals_vs_bp_per_game()"
   ]
  },
  {
   "cell_type": "code",
   "execution_count": 26,
   "metadata": {},
   "outputs": [
    {
     "data": {
      "text/plain": [
       "[('Australia', 0.6666666666666666, 84.33333333333333),\n",
       " ('Costa Rica', 0.6666666666666666, 76.0),\n",
       " ('Egypt', 0.6666666666666666, 80.33333333333333),\n",
       " ('Germany', 0.6666666666666666, 87.33333333333333),\n",
       " ('Iceland', 0.6666666666666666, 68.66666666666667),\n",
       " ('Iran', 0.6666666666666666, 68.0),\n",
       " ('Morocco', 0.6666666666666666, 82.33333333333333),\n",
       " ('Panama', 0.6666666666666666, 82.0),\n",
       " ('Peru', 0.6666666666666666, 81.0),\n",
       " ('Poland', 0.6666666666666666, 82.0),\n",
       " ('Saudi Arabia', 0.6666666666666666, 87.33333333333333),\n",
       " ('Serbia', 0.6666666666666666, 78.33333333333333),\n",
       " ('Denmark', 0.75, 80.0),\n",
       " ('Mexico', 0.75, 83.0),\n",
       " ('Korea Republic', 1.0, 76.33333333333333),\n",
       " ('Nigeria', 1.0, 78.66666666666667),\n",
       " ('Sweden', 1.2, 73.2),\n",
       " ('Switzerland', 1.25, 84.25),\n",
       " ('Senegal', 1.3333333333333333, 78.0),\n",
       " ('Uruguay', 1.4, 78.6),\n",
       " ('Argentina', 1.5, 85.25),\n",
       " ('Colombia', 1.5, 80.25),\n",
       " ('Japan', 1.5, 84.0),\n",
       " ('Portugal', 1.5, 83.25),\n",
       " ('Brazil', 1.6, 85.8),\n",
       " ('Tunisia', 1.6666666666666667, 82.33333333333333),\n",
       " ('England', 1.7142857142857142, 85.42857142857143),\n",
       " ('Spain', 1.75, 91.0),\n",
       " ('Croatia', 2.0, 82.0),\n",
       " ('France', 2.0, 81.85714285714286),\n",
       " ('Russia', 2.2, 75.4),\n",
       " ('Belgium', 2.2857142857142856, 86.0)]"
      ]
     },
     "execution_count": 26,
     "metadata": {},
     "output_type": "execute_result"
    }
   ],
   "source": [
    "def average_goals_vs_pa_per_game():\n",
    "    return session.query(Team.country, func.avg(Statistics.goals), func.avg(Statistics.pass_accuracy)).join(Statistics).group_by(Team.country).order_by(func.avg(Statistics.goals).asc()).all()\n",
    "\n",
    "average_goals_vs_pa_per_game()"
   ]
  },
  {
   "cell_type": "code",
   "execution_count": 27,
   "metadata": {},
   "outputs": [
    {
     "data": {
      "text/plain": [
       "[('Australia', 0.6666666666666666, 2.6666666666666665),\n",
       " ('Costa Rica', 0.6666666666666666, 3.0),\n",
       " ('Egypt', 0.6666666666666666, 1.6666666666666667),\n",
       " ('Germany', 0.6666666666666666, 6.666666666666667),\n",
       " ('Iceland', 0.6666666666666666, 4.0),\n",
       " ('Iran', 0.6666666666666666, 1.3333333333333333),\n",
       " ('Morocco', 0.6666666666666666, 3.3333333333333335),\n",
       " ('Panama', 0.6666666666666666, 2.6666666666666665),\n",
       " ('Peru', 0.6666666666666666, 3.6666666666666665),\n",
       " ('Poland', 0.6666666666666666, 2.6666666666666665),\n",
       " ('Saudi Arabia', 0.6666666666666666, 3.3333333333333335),\n",
       " ('Serbia', 0.6666666666666666, 2.3333333333333335),\n",
       " ('Denmark', 0.75, 3.0),\n",
       " ('Mexico', 0.75, 3.25),\n",
       " ('Korea Republic', 1.0, 3.6666666666666665),\n",
       " ('Nigeria', 1.0, 3.0),\n",
       " ('Sweden', 1.2, 4.0),\n",
       " ('Switzerland', 1.25, 3.5),\n",
       " ('Senegal', 1.3333333333333333, 4.0),\n",
       " ('Uruguay', 1.4, 4.4),\n",
       " ('Argentina', 1.5, 4.5),\n",
       " ('Colombia', 1.5, 3.0),\n",
       " ('Japan', 1.5, 4.0),\n",
       " ('Portugal', 1.5, 3.25),\n",
       " ('Brazil', 1.6, 7.6),\n",
       " ('Tunisia', 1.6666666666666667, 4.333333333333333),\n",
       " ('England', 1.7142857142857142, 3.5714285714285716),\n",
       " ('Spain', 1.75, 5.25),\n",
       " ('Croatia', 2.0, 4.142857142857143),\n",
       " ('France', 2.0, 4.142857142857143),\n",
       " ('Russia', 2.2, 3.8),\n",
       " ('Belgium', 2.2857142857142856, 5.714285714285714)]"
      ]
     },
     "execution_count": 27,
     "metadata": {},
     "output_type": "execute_result"
    }
   ],
   "source": [
    "def average_goals_vs_ot_per_game():\n",
    "    return session.query(Team.country, func.avg(Statistics.goals), func.avg(Statistics.on_target)).join(Statistics).group_by(Team.country).order_by(func.avg(Statistics.goals).asc()).all()\n",
    "\n",
    "average_goals_vs_ot_per_game()"
   ]
  },
  {
   "cell_type": "code",
   "execution_count": 28,
   "metadata": {},
   "outputs": [
    {
     "data": {
      "text/plain": [
       "[('Iran', 32.666666666666664, 68.0),\n",
       " ('Iceland', 37.333333333333336, 68.66666666666667),\n",
       " ('Russia', 38.6, 75.4),\n",
       " ('Sweden', 38.6, 73.2),\n",
       " ('Panama', 39.0, 82.0),\n",
       " ('Costa Rica', 40.333333333333336, 76.0),\n",
       " ('Korea Republic', 40.666666666666664, 76.33333333333333),\n",
       " ('Senegal', 44.666666666666664, 78.0),\n",
       " ('Egypt', 45.0, 80.33333333333333),\n",
       " ('Serbia', 45.0, 78.33333333333333),\n",
       " ('Denmark', 45.5, 80.0),\n",
       " ('Nigeria', 45.666666666666664, 78.66666666666667),\n",
       " ('France', 47.57142857142857, 81.85714285714286),\n",
       " ('Uruguay', 48.2, 78.6),\n",
       " ('Morocco', 49.666666666666664, 82.33333333333333),\n",
       " ('Colombia', 49.75, 80.25),\n",
       " ('Poland', 50.0, 82.0),\n",
       " ('Tunisia', 50.666666666666664, 82.33333333333333),\n",
       " ('Australia', 51.333333333333336, 84.33333333333333),\n",
       " ('Peru', 51.333333333333336, 81.0),\n",
       " ('Japan', 52.25, 84.0),\n",
       " ('Belgium', 52.714285714285715, 86.0),\n",
       " ('England', 53.857142857142854, 85.42857142857143),\n",
       " ('Portugal', 54.0, 83.25),\n",
       " ('Mexico', 54.5, 83.0),\n",
       " ('Croatia', 55.285714285714285, 82.0),\n",
       " ('Brazil', 56.0, 85.8),\n",
       " ('Switzerland', 57.75, 84.25),\n",
       " ('Saudi Arabia', 58.0, 87.33333333333333),\n",
       " ('Argentina', 63.75, 85.25),\n",
       " ('Germany', 66.66666666666667, 87.33333333333333),\n",
       " ('Spain', 68.25, 91.0)]"
      ]
     },
     "execution_count": 28,
     "metadata": {},
     "output_type": "execute_result"
    }
   ],
   "source": [
    "def average_bp_vs_pa_per_game():\n",
    "    return session.query(Team.country, func.avg(Statistics.ball_possession), func.avg(Statistics.pass_accuracy)).join(Statistics).group_by(Team.country).order_by(func.avg(Statistics.ball_possession).asc()).all()\n",
    "\n",
    "average_bp_vs_pa_per_game()"
   ]
  },
  {
   "cell_type": "code",
   "execution_count": 29,
   "metadata": {},
   "outputs": [
    {
     "data": {
      "text/plain": [
       "[('Iran', 32.666666666666664, 1.3333333333333333),\n",
       " ('Iceland', 37.333333333333336, 4.0),\n",
       " ('Russia', 38.6, 3.8),\n",
       " ('Sweden', 38.6, 4.0),\n",
       " ('Panama', 39.0, 2.6666666666666665),\n",
       " ('Costa Rica', 40.333333333333336, 3.0),\n",
       " ('Korea Republic', 40.666666666666664, 3.6666666666666665),\n",
       " ('Senegal', 44.666666666666664, 4.0),\n",
       " ('Egypt', 45.0, 1.6666666666666667),\n",
       " ('Serbia', 45.0, 2.3333333333333335),\n",
       " ('Denmark', 45.5, 3.0),\n",
       " ('Nigeria', 45.666666666666664, 3.0),\n",
       " ('France', 47.57142857142857, 4.142857142857143),\n",
       " ('Uruguay', 48.2, 4.4),\n",
       " ('Morocco', 49.666666666666664, 3.3333333333333335),\n",
       " ('Colombia', 49.75, 3.0),\n",
       " ('Poland', 50.0, 2.6666666666666665),\n",
       " ('Tunisia', 50.666666666666664, 4.333333333333333),\n",
       " ('Australia', 51.333333333333336, 2.6666666666666665),\n",
       " ('Peru', 51.333333333333336, 3.6666666666666665),\n",
       " ('Japan', 52.25, 4.0),\n",
       " ('Belgium', 52.714285714285715, 5.714285714285714),\n",
       " ('England', 53.857142857142854, 3.5714285714285716),\n",
       " ('Portugal', 54.0, 3.25),\n",
       " ('Mexico', 54.5, 3.25),\n",
       " ('Croatia', 55.285714285714285, 4.142857142857143),\n",
       " ('Brazil', 56.0, 7.6),\n",
       " ('Switzerland', 57.75, 3.5),\n",
       " ('Saudi Arabia', 58.0, 3.3333333333333335),\n",
       " ('Argentina', 63.75, 4.5),\n",
       " ('Germany', 66.66666666666667, 6.666666666666667),\n",
       " ('Spain', 68.25, 5.25)]"
      ]
     },
     "execution_count": 29,
     "metadata": {},
     "output_type": "execute_result"
    }
   ],
   "source": [
    "def average_bp_vs_ot_per_game():\n",
    "    return session.query(Team.country, func.avg(Statistics.ball_possession), func.avg(Statistics.on_target)).join(Statistics).group_by(Team.country).order_by(func.avg(Statistics.ball_possession).asc()).all()\n",
    "\n",
    "average_bp_vs_ot_per_game()"
   ]
  },
  {
   "cell_type": "code",
   "execution_count": 30,
   "metadata": {},
   "outputs": [
    {
     "data": {
      "text/plain": [
       "[('Iran', 32.666666666666664, 0.6666666666666666),\n",
       " ('Iceland', 37.333333333333336, 0.6666666666666666),\n",
       " ('Russia', 38.6, 2.2),\n",
       " ('Sweden', 38.6, 1.2),\n",
       " ('Panama', 39.0, 0.6666666666666666),\n",
       " ('Costa Rica', 40.333333333333336, 0.6666666666666666),\n",
       " ('Korea Republic', 40.666666666666664, 1.0),\n",
       " ('Senegal', 44.666666666666664, 1.3333333333333333),\n",
       " ('Egypt', 45.0, 0.6666666666666666),\n",
       " ('Serbia', 45.0, 0.6666666666666666),\n",
       " ('Denmark', 45.5, 0.75),\n",
       " ('Nigeria', 45.666666666666664, 1.0),\n",
       " ('France', 47.57142857142857, 2.0),\n",
       " ('Uruguay', 48.2, 1.4),\n",
       " ('Morocco', 49.666666666666664, 0.6666666666666666),\n",
       " ('Colombia', 49.75, 1.5),\n",
       " ('Poland', 50.0, 0.6666666666666666),\n",
       " ('Tunisia', 50.666666666666664, 1.6666666666666667),\n",
       " ('Australia', 51.333333333333336, 0.6666666666666666),\n",
       " ('Peru', 51.333333333333336, 0.6666666666666666),\n",
       " ('Japan', 52.25, 1.5),\n",
       " ('Belgium', 52.714285714285715, 2.2857142857142856),\n",
       " ('England', 53.857142857142854, 1.7142857142857142),\n",
       " ('Portugal', 54.0, 1.5),\n",
       " ('Mexico', 54.5, 0.75),\n",
       " ('Croatia', 55.285714285714285, 2.0),\n",
       " ('Brazil', 56.0, 1.6),\n",
       " ('Switzerland', 57.75, 1.25),\n",
       " ('Saudi Arabia', 58.0, 0.6666666666666666),\n",
       " ('Argentina', 63.75, 1.5),\n",
       " ('Germany', 66.66666666666667, 0.6666666666666666),\n",
       " ('Spain', 68.25, 1.75)]"
      ]
     },
     "execution_count": 30,
     "metadata": {},
     "output_type": "execute_result"
    }
   ],
   "source": [
    "def average_bp_vs_goals_per_game():\n",
    "    return session.query(Team.country, func.avg(Statistics.ball_possession), func.avg(Statistics.goals)).join(Statistics).group_by(Team.country).order_by(func.avg(Statistics.ball_possession).asc()).all()\n",
    "\n",
    "average_bp_vs_goals_per_game()"
   ]
  },
  {
   "cell_type": "code",
   "execution_count": 31,
   "metadata": {},
   "outputs": [
    {
     "data": {
      "text/plain": [
       "[('Iran', 32.666666666666664, 99.66666666666667),\n",
       " ('Iceland', 37.333333333333336, 104.0),\n",
       " ('Russia', 38.6, 125.0),\n",
       " ('Sweden', 38.6, 104.2),\n",
       " ('Panama', 39.0, 96.33333333333333),\n",
       " ('Costa Rica', 40.333333333333336, 106.0),\n",
       " ('Korea Republic', 40.666666666666664, 105.66666666666667),\n",
       " ('Senegal', 44.666666666666664, 101.33333333333333),\n",
       " ('Egypt', 45.0, 109.33333333333333),\n",
       " ('Serbia', 45.0, 112.0),\n",
       " ('Denmark', 45.5, 115.5),\n",
       " ('Nigeria', 45.666666666666664, 99.0),\n",
       " ('France', 47.57142857142857, 99.85714285714286),\n",
       " ('Uruguay', 48.2, 103.4),\n",
       " ('Morocco', 49.666666666666664, 106.33333333333333),\n",
       " ('Colombia', 49.75, 108.75),\n",
       " ('Poland', 50.0, 98.33333333333333),\n",
       " ('Tunisia', 50.666666666666664, 103.33333333333333),\n",
       " ('Australia', 51.333333333333336, 109.66666666666667),\n",
       " ('Peru', 51.333333333333336, 101.66666666666667),\n",
       " ('Japan', 52.25, 99.0),\n",
       " ('Belgium', 52.714285714285715, 103.85714285714286),\n",
       " ('England', 53.857142857142854, 116.42857142857143),\n",
       " ('Portugal', 54.0, 100.0),\n",
       " ('Mexico', 54.5, 95.25),\n",
       " ('Croatia', 55.285714285714285, 116.71428571428571),\n",
       " ('Brazil', 56.0, 100.6),\n",
       " ('Switzerland', 57.75, 105.75),\n",
       " ('Saudi Arabia', 58.0, 102.0),\n",
       " ('Argentina', 63.75, 99.5),\n",
       " ('Germany', 66.66666666666667, 111.33333333333333),\n",
       " ('Spain', 68.25, 112.0)]"
      ]
     },
     "execution_count": 31,
     "metadata": {},
     "output_type": "execute_result"
    }
   ],
   "source": [
    "def average_bp_vs_dc_per_game():\n",
    "    return session.query(Team.country, func.avg(Statistics.ball_possession), func.avg(Statistics.distance_covered)).join(Statistics).group_by(Team.country).order_by(func.avg(Statistics.ball_possession).asc()).all()\n",
    "\n",
    "average_bp_vs_dc_per_game()"
   ]
  },
  {
   "cell_type": "code",
   "execution_count": 32,
   "metadata": {},
   "outputs": [
    {
     "data": {
      "text/plain": [
       "[('Iran', 68.0, 0.6666666666666666),\n",
       " ('Iceland', 68.66666666666667, 0.6666666666666666),\n",
       " ('Sweden', 73.2, 1.2),\n",
       " ('Russia', 75.4, 2.2),\n",
       " ('Costa Rica', 76.0, 0.6666666666666666),\n",
       " ('Korea Republic', 76.33333333333333, 1.0),\n",
       " ('Senegal', 78.0, 1.3333333333333333),\n",
       " ('Serbia', 78.33333333333333, 0.6666666666666666),\n",
       " ('Uruguay', 78.6, 1.4),\n",
       " ('Nigeria', 78.66666666666667, 1.0),\n",
       " ('Denmark', 80.0, 0.75),\n",
       " ('Colombia', 80.25, 1.5),\n",
       " ('Egypt', 80.33333333333333, 0.6666666666666666),\n",
       " ('Peru', 81.0, 0.6666666666666666),\n",
       " ('France', 81.85714285714286, 2.0),\n",
       " ('Croatia', 82.0, 2.0),\n",
       " ('Panama', 82.0, 0.6666666666666666),\n",
       " ('Poland', 82.0, 0.6666666666666666),\n",
       " ('Morocco', 82.33333333333333, 0.6666666666666666),\n",
       " ('Tunisia', 82.33333333333333, 1.6666666666666667),\n",
       " ('Mexico', 83.0, 0.75),\n",
       " ('Portugal', 83.25, 1.5),\n",
       " ('Japan', 84.0, 1.5),\n",
       " ('Switzerland', 84.25, 1.25),\n",
       " ('Australia', 84.33333333333333, 0.6666666666666666),\n",
       " ('Argentina', 85.25, 1.5),\n",
       " ('England', 85.42857142857143, 1.7142857142857142),\n",
       " ('Brazil', 85.8, 1.6),\n",
       " ('Belgium', 86.0, 2.2857142857142856),\n",
       " ('Germany', 87.33333333333333, 0.6666666666666666),\n",
       " ('Saudi Arabia', 87.33333333333333, 0.6666666666666666),\n",
       " ('Spain', 91.0, 1.75)]"
      ]
     },
     "execution_count": 32,
     "metadata": {},
     "output_type": "execute_result"
    }
   ],
   "source": [
    "def average_pa_vs_goals_per_game():\n",
    "    return session.query(Team.country, func.avg(Statistics.pass_accuracy), func.avg(Statistics.goals)).join(Statistics).group_by(Team.country).order_by(func.avg(Statistics.pass_accuracy).asc()).all()\n",
    "\n",
    "average_pa_vs_goals_per_game()"
   ]
  },
  {
   "cell_type": "code",
   "execution_count": 33,
   "metadata": {},
   "outputs": [
    {
     "data": {
      "text/plain": [
       "[('Iran', 68.0, 99.66666666666667),\n",
       " ('Iceland', 68.66666666666667, 104.0),\n",
       " ('Sweden', 73.2, 104.2),\n",
       " ('Russia', 75.4, 125.0),\n",
       " ('Costa Rica', 76.0, 106.0),\n",
       " ('Korea Republic', 76.33333333333333, 105.66666666666667),\n",
       " ('Senegal', 78.0, 101.33333333333333),\n",
       " ('Serbia', 78.33333333333333, 112.0),\n",
       " ('Uruguay', 78.6, 103.4),\n",
       " ('Nigeria', 78.66666666666667, 99.0),\n",
       " ('Denmark', 80.0, 115.5),\n",
       " ('Colombia', 80.25, 108.75),\n",
       " ('Egypt', 80.33333333333333, 109.33333333333333),\n",
       " ('Peru', 81.0, 101.66666666666667),\n",
       " ('France', 81.85714285714286, 99.85714285714286),\n",
       " ('Croatia', 82.0, 116.71428571428571),\n",
       " ('Panama', 82.0, 96.33333333333333),\n",
       " ('Poland', 82.0, 98.33333333333333),\n",
       " ('Morocco', 82.33333333333333, 106.33333333333333),\n",
       " ('Tunisia', 82.33333333333333, 103.33333333333333),\n",
       " ('Mexico', 83.0, 95.25),\n",
       " ('Portugal', 83.25, 100.0),\n",
       " ('Japan', 84.0, 99.0),\n",
       " ('Switzerland', 84.25, 105.75),\n",
       " ('Australia', 84.33333333333333, 109.66666666666667),\n",
       " ('Argentina', 85.25, 99.5),\n",
       " ('England', 85.42857142857143, 116.42857142857143),\n",
       " ('Brazil', 85.8, 100.6),\n",
       " ('Belgium', 86.0, 103.85714285714286),\n",
       " ('Germany', 87.33333333333333, 111.33333333333333),\n",
       " ('Saudi Arabia', 87.33333333333333, 102.0),\n",
       " ('Spain', 91.0, 112.0)]"
      ]
     },
     "execution_count": 33,
     "metadata": {},
     "output_type": "execute_result"
    }
   ],
   "source": [
    "def average_pa_vs_dc_per_game():\n",
    "    return session.query(Team.country, func.avg(Statistics.pass_accuracy), func.avg(Statistics.distance_covered)).join(Statistics).group_by(Team.country).order_by(func.avg(Statistics.pass_accuracy).asc()).all()\n",
    "average_pa_vs_dc_per_game()"
   ]
  },
  {
   "cell_type": "code",
   "execution_count": 35,
   "metadata": {},
   "outputs": [
    {
     "data": {
      "text/plain": [
       "[('Iran', 68.0, 1.3333333333333333),\n",
       " ('Iceland', 68.66666666666667, 4.0),\n",
       " ('Sweden', 73.2, 4.0),\n",
       " ('Russia', 75.4, 3.8),\n",
       " ('Costa Rica', 76.0, 3.0),\n",
       " ('Korea Republic', 76.33333333333333, 3.6666666666666665),\n",
       " ('Senegal', 78.0, 4.0),\n",
       " ('Serbia', 78.33333333333333, 2.3333333333333335),\n",
       " ('Uruguay', 78.6, 4.4),\n",
       " ('Nigeria', 78.66666666666667, 3.0),\n",
       " ('Denmark', 80.0, 3.0),\n",
       " ('Colombia', 80.25, 3.0),\n",
       " ('Egypt', 80.33333333333333, 1.6666666666666667),\n",
       " ('Peru', 81.0, 3.6666666666666665),\n",
       " ('France', 81.85714285714286, 4.142857142857143),\n",
       " ('Croatia', 82.0, 4.142857142857143),\n",
       " ('Panama', 82.0, 2.6666666666666665),\n",
       " ('Poland', 82.0, 2.6666666666666665),\n",
       " ('Morocco', 82.33333333333333, 3.3333333333333335),\n",
       " ('Tunisia', 82.33333333333333, 4.333333333333333),\n",
       " ('Mexico', 83.0, 3.25),\n",
       " ('Portugal', 83.25, 3.25),\n",
       " ('Japan', 84.0, 4.0),\n",
       " ('Switzerland', 84.25, 3.5),\n",
       " ('Australia', 84.33333333333333, 2.6666666666666665),\n",
       " ('Argentina', 85.25, 4.5),\n",
       " ('England', 85.42857142857143, 3.5714285714285716),\n",
       " ('Brazil', 85.8, 7.6),\n",
       " ('Belgium', 86.0, 5.714285714285714),\n",
       " ('Germany', 87.33333333333333, 6.666666666666667),\n",
       " ('Saudi Arabia', 87.33333333333333, 3.3333333333333335),\n",
       " ('Spain', 91.0, 5.25)]"
      ]
     },
     "execution_count": 35,
     "metadata": {},
     "output_type": "execute_result"
    }
   ],
   "source": [
    "def average_pa_vs_ot_per_game():\n",
    "    return session.query(Team.country, func.avg(Statistics.pass_accuracy), func.avg(Statistics.on_target)).join(Statistics).group_by(Team.country).order_by(func.avg(Statistics.pass_accuracy).asc()).all()\n",
    "\n",
    "average_pa_vs_ot_per_game()"
   ]
  },
  {
   "cell_type": "code",
   "execution_count": 36,
   "metadata": {},
   "outputs": [
    {
     "data": {
      "text/plain": [
       "[('Iran', 68.0, 32.666666666666664),\n",
       " ('Iceland', 68.66666666666667, 37.333333333333336),\n",
       " ('Sweden', 73.2, 38.6),\n",
       " ('Russia', 75.4, 38.6),\n",
       " ('Costa Rica', 76.0, 40.333333333333336),\n",
       " ('Korea Republic', 76.33333333333333, 40.666666666666664),\n",
       " ('Senegal', 78.0, 44.666666666666664),\n",
       " ('Serbia', 78.33333333333333, 45.0),\n",
       " ('Uruguay', 78.6, 48.2),\n",
       " ('Nigeria', 78.66666666666667, 45.666666666666664),\n",
       " ('Denmark', 80.0, 45.5),\n",
       " ('Colombia', 80.25, 49.75),\n",
       " ('Egypt', 80.33333333333333, 45.0),\n",
       " ('Peru', 81.0, 51.333333333333336),\n",
       " ('France', 81.85714285714286, 47.57142857142857),\n",
       " ('Croatia', 82.0, 55.285714285714285),\n",
       " ('Panama', 82.0, 39.0),\n",
       " ('Poland', 82.0, 50.0),\n",
       " ('Morocco', 82.33333333333333, 49.666666666666664),\n",
       " ('Tunisia', 82.33333333333333, 50.666666666666664),\n",
       " ('Mexico', 83.0, 54.5),\n",
       " ('Portugal', 83.25, 54.0),\n",
       " ('Japan', 84.0, 52.25),\n",
       " ('Switzerland', 84.25, 57.75),\n",
       " ('Australia', 84.33333333333333, 51.333333333333336),\n",
       " ('Argentina', 85.25, 63.75),\n",
       " ('England', 85.42857142857143, 53.857142857142854),\n",
       " ('Brazil', 85.8, 56.0),\n",
       " ('Belgium', 86.0, 52.714285714285715),\n",
       " ('Germany', 87.33333333333333, 66.66666666666667),\n",
       " ('Saudi Arabia', 87.33333333333333, 58.0),\n",
       " ('Spain', 91.0, 68.25)]"
      ]
     },
     "execution_count": 36,
     "metadata": {},
     "output_type": "execute_result"
    }
   ],
   "source": [
    "def average_pa_vs_bp_per_game():\n",
    "    return session.query(Team.country, func.avg(Statistics.pass_accuracy), func.avg(Statistics.ball_possession)).join(Statistics).group_by(Team.country).order_by(func.avg(Statistics.pass_accuracy).asc()).all()\n",
    "\n",
    "average_pa_vs_bp_per_game()"
   ]
  },
  {
   "cell_type": "code",
   "execution_count": 39,
   "metadata": {},
   "outputs": [
    {
     "data": {
      "text/plain": [
       "[('Iran', 1.3333333333333333, 99.66666666666667),\n",
       " ('Egypt', 1.6666666666666667, 109.33333333333333),\n",
       " ('Serbia', 2.3333333333333335, 112.0),\n",
       " ('Australia', 2.6666666666666665, 109.66666666666667),\n",
       " ('Panama', 2.6666666666666665, 96.33333333333333),\n",
       " ('Poland', 2.6666666666666665, 98.33333333333333),\n",
       " ('Colombia', 3.0, 108.75),\n",
       " ('Costa Rica', 3.0, 106.0),\n",
       " ('Denmark', 3.0, 115.5),\n",
       " ('Nigeria', 3.0, 99.0),\n",
       " ('Mexico', 3.25, 95.25),\n",
       " ('Portugal', 3.25, 100.0),\n",
       " ('Morocco', 3.3333333333333335, 106.33333333333333),\n",
       " ('Saudi Arabia', 3.3333333333333335, 102.0),\n",
       " ('Switzerland', 3.5, 105.75),\n",
       " ('England', 3.5714285714285716, 116.42857142857143),\n",
       " ('Korea Republic', 3.6666666666666665, 105.66666666666667),\n",
       " ('Peru', 3.6666666666666665, 101.66666666666667),\n",
       " ('Russia', 3.8, 125.0),\n",
       " ('Iceland', 4.0, 104.0),\n",
       " ('Japan', 4.0, 99.0),\n",
       " ('Senegal', 4.0, 101.33333333333333),\n",
       " ('Sweden', 4.0, 104.2),\n",
       " ('Croatia', 4.142857142857143, 116.71428571428571),\n",
       " ('France', 4.142857142857143, 99.85714285714286),\n",
       " ('Tunisia', 4.333333333333333, 103.33333333333333),\n",
       " ('Uruguay', 4.4, 103.4),\n",
       " ('Argentina', 4.5, 99.5),\n",
       " ('Spain', 5.25, 112.0),\n",
       " ('Belgium', 5.714285714285714, 103.85714285714286),\n",
       " ('Germany', 6.666666666666667, 111.33333333333333),\n",
       " ('Brazil', 7.6, 100.6)]"
      ]
     },
     "execution_count": 39,
     "metadata": {},
     "output_type": "execute_result"
    }
   ],
   "source": [
    "def average_ot_vs_pa_per_game():\n",
    "    return session.query(Team.country, func.avg(Statistics.on_target), func.avg(Statistics.pass_accuracy)).join(Statistics).group_by(Team.country).order_by(func.avg(Statistics.on_target).asc()).all()\n",
    "\n",
    "def average_ot_vs_bp_per_game():\n",
    "    return session.query(Team.country, func.avg(Statistics.on_target), func.avg(Statistics.ball_possession)).join(Statistics).group_by(Team.country).order_by(func.avg(Statistics.on_target).asc()).all()\n",
    "\n",
    "def average_ot_vs_dc_per_game():\n",
    "    return session.query(Team.country, func.avg(Statistics.on_target), func.avg(Statistics.distance_covered)).join(Statistics).group_by(Team.country).order_by(func.avg(Statistics.on_target).asc()).all()\n",
    "\n",
    "average_ot_vs_pa_per_game()\n"
   ]
  },
  {
   "cell_type": "code",
   "execution_count": 40,
   "metadata": {},
   "outputs": [
    {
     "data": {
      "text/plain": [
       "[('Iran', 1.3333333333333333, 32.666666666666664),\n",
       " ('Egypt', 1.6666666666666667, 45.0),\n",
       " ('Serbia', 2.3333333333333335, 45.0),\n",
       " ('Australia', 2.6666666666666665, 51.333333333333336),\n",
       " ('Panama', 2.6666666666666665, 39.0),\n",
       " ('Poland', 2.6666666666666665, 50.0),\n",
       " ('Colombia', 3.0, 49.75),\n",
       " ('Costa Rica', 3.0, 40.333333333333336),\n",
       " ('Denmark', 3.0, 45.5),\n",
       " ('Nigeria', 3.0, 45.666666666666664),\n",
       " ('Mexico', 3.25, 54.5),\n",
       " ('Portugal', 3.25, 54.0),\n",
       " ('Morocco', 3.3333333333333335, 49.666666666666664),\n",
       " ('Saudi Arabia', 3.3333333333333335, 58.0),\n",
       " ('Switzerland', 3.5, 57.75),\n",
       " ('England', 3.5714285714285716, 53.857142857142854),\n",
       " ('Korea Republic', 3.6666666666666665, 40.666666666666664),\n",
       " ('Peru', 3.6666666666666665, 51.333333333333336),\n",
       " ('Russia', 3.8, 38.6),\n",
       " ('Iceland', 4.0, 37.333333333333336),\n",
       " ('Japan', 4.0, 52.25),\n",
       " ('Senegal', 4.0, 44.666666666666664),\n",
       " ('Sweden', 4.0, 38.6),\n",
       " ('Croatia', 4.142857142857143, 55.285714285714285),\n",
       " ('France', 4.142857142857143, 47.57142857142857),\n",
       " ('Tunisia', 4.333333333333333, 50.666666666666664),\n",
       " ('Uruguay', 4.4, 48.2),\n",
       " ('Argentina', 4.5, 63.75),\n",
       " ('Spain', 5.25, 68.25),\n",
       " ('Belgium', 5.714285714285714, 52.714285714285715),\n",
       " ('Germany', 6.666666666666667, 66.66666666666667),\n",
       " ('Brazil', 7.6, 56.0)]"
      ]
     },
     "execution_count": 40,
     "metadata": {},
     "output_type": "execute_result"
    }
   ],
   "source": [
    "average_ot_vs_bp_per_game()"
   ]
  },
  {
   "cell_type": "code",
   "execution_count": 41,
   "metadata": {},
   "outputs": [
    {
     "data": {
      "text/plain": [
       "[('Iran', 1.3333333333333333, 99.66666666666667),\n",
       " ('Egypt', 1.6666666666666667, 109.33333333333333),\n",
       " ('Serbia', 2.3333333333333335, 112.0),\n",
       " ('Australia', 2.6666666666666665, 109.66666666666667),\n",
       " ('Panama', 2.6666666666666665, 96.33333333333333),\n",
       " ('Poland', 2.6666666666666665, 98.33333333333333),\n",
       " ('Colombia', 3.0, 108.75),\n",
       " ('Costa Rica', 3.0, 106.0),\n",
       " ('Denmark', 3.0, 115.5),\n",
       " ('Nigeria', 3.0, 99.0),\n",
       " ('Mexico', 3.25, 95.25),\n",
       " ('Portugal', 3.25, 100.0),\n",
       " ('Morocco', 3.3333333333333335, 106.33333333333333),\n",
       " ('Saudi Arabia', 3.3333333333333335, 102.0),\n",
       " ('Switzerland', 3.5, 105.75),\n",
       " ('England', 3.5714285714285716, 116.42857142857143),\n",
       " ('Korea Republic', 3.6666666666666665, 105.66666666666667),\n",
       " ('Peru', 3.6666666666666665, 101.66666666666667),\n",
       " ('Russia', 3.8, 125.0),\n",
       " ('Iceland', 4.0, 104.0),\n",
       " ('Japan', 4.0, 99.0),\n",
       " ('Senegal', 4.0, 101.33333333333333),\n",
       " ('Sweden', 4.0, 104.2),\n",
       " ('Croatia', 4.142857142857143, 116.71428571428571),\n",
       " ('France', 4.142857142857143, 99.85714285714286),\n",
       " ('Tunisia', 4.333333333333333, 103.33333333333333),\n",
       " ('Uruguay', 4.4, 103.4),\n",
       " ('Argentina', 4.5, 99.5),\n",
       " ('Spain', 5.25, 112.0),\n",
       " ('Belgium', 5.714285714285714, 103.85714285714286),\n",
       " ('Germany', 6.666666666666667, 111.33333333333333),\n",
       " ('Brazil', 7.6, 100.6)]"
      ]
     },
     "execution_count": 41,
     "metadata": {},
     "output_type": "execute_result"
    }
   ],
   "source": [
    "\n",
    "average_ot_vs_dc_per_game()"
   ]
  },
  {
   "cell_type": "code",
   "execution_count": 38,
   "metadata": {},
   "outputs": [
    {
     "data": {
      "text/plain": [
       "[('Iran', 1.3333333333333333, 0.6666666666666666),\n",
       " ('Egypt', 1.6666666666666667, 0.6666666666666666),\n",
       " ('Serbia', 2.3333333333333335, 0.6666666666666666),\n",
       " ('Australia', 2.6666666666666665, 0.6666666666666666),\n",
       " ('Panama', 2.6666666666666665, 0.6666666666666666),\n",
       " ('Poland', 2.6666666666666665, 0.6666666666666666),\n",
       " ('Colombia', 3.0, 1.5),\n",
       " ('Costa Rica', 3.0, 0.6666666666666666),\n",
       " ('Denmark', 3.0, 0.75),\n",
       " ('Nigeria', 3.0, 1.0),\n",
       " ('Mexico', 3.25, 0.75),\n",
       " ('Portugal', 3.25, 1.5),\n",
       " ('Morocco', 3.3333333333333335, 0.6666666666666666),\n",
       " ('Saudi Arabia', 3.3333333333333335, 0.6666666666666666),\n",
       " ('Switzerland', 3.5, 1.25),\n",
       " ('England', 3.5714285714285716, 1.7142857142857142),\n",
       " ('Korea Republic', 3.6666666666666665, 1.0),\n",
       " ('Peru', 3.6666666666666665, 0.6666666666666666),\n",
       " ('Russia', 3.8, 2.2),\n",
       " ('Iceland', 4.0, 0.6666666666666666),\n",
       " ('Japan', 4.0, 1.5),\n",
       " ('Senegal', 4.0, 1.3333333333333333),\n",
       " ('Sweden', 4.0, 1.2),\n",
       " ('Croatia', 4.142857142857143, 2.0),\n",
       " ('France', 4.142857142857143, 2.0),\n",
       " ('Tunisia', 4.333333333333333, 1.6666666666666667),\n",
       " ('Uruguay', 4.4, 1.4),\n",
       " ('Argentina', 4.5, 1.5),\n",
       " ('Spain', 5.25, 1.75),\n",
       " ('Belgium', 5.714285714285714, 2.2857142857142856),\n",
       " ('Germany', 6.666666666666667, 0.6666666666666666),\n",
       " ('Brazil', 7.6, 1.6)]"
      ]
     },
     "execution_count": 38,
     "metadata": {},
     "output_type": "execute_result"
    }
   ],
   "source": [
    "def average_ot_vs_goals_per_game():\n",
    "    return session.query(Team.country, func.avg(Statistics.on_target), func.avg(Statistics.goals)).join(Statistics).group_by(Team.country).order_by(func.avg(Statistics.on_target).asc()).all()\n",
    "\n",
    "average_ot_vs_goals_per_game()"
   ]
  },
  {
   "cell_type": "code",
   "execution_count": 42,
   "metadata": {},
   "outputs": [
    {
     "data": {
      "text/plain": [
       "[('Argentina', 1.5),\n",
       " ('Australia', 0.6666666666666666),\n",
       " ('Belgium', 2.2857142857142856),\n",
       " ('Brazil', 1.6),\n",
       " ('Colombia', 1.5),\n",
       " ('Costa Rica', 0.6666666666666666),\n",
       " ('Croatia', 2.0),\n",
       " ('Denmark', 0.75),\n",
       " ('Egypt', 0.6666666666666666),\n",
       " ('England', 1.7142857142857142),\n",
       " ('France', 2.0),\n",
       " ('Germany', 0.6666666666666666),\n",
       " ('Iceland', 0.6666666666666666),\n",
       " ('Iran', 0.6666666666666666),\n",
       " ('Japan', 1.5),\n",
       " ('Korea Republic', 1.0),\n",
       " ('Mexico', 0.75),\n",
       " ('Morocco', 0.6666666666666666),\n",
       " ('Nigeria', 1.0),\n",
       " ('Panama', 0.6666666666666666),\n",
       " ('Peru', 0.6666666666666666),\n",
       " ('Poland', 0.6666666666666666),\n",
       " ('Portugal', 1.5),\n",
       " ('Russia', 2.2),\n",
       " ('Saudi Arabia', 0.6666666666666666),\n",
       " ('Senegal', 1.3333333333333333),\n",
       " ('Serbia', 0.6666666666666666),\n",
       " ('Spain', 1.75),\n",
       " ('Sweden', 1.2),\n",
       " ('Switzerland', 1.25),\n",
       " ('Tunisia', 1.6666666666666667),\n",
       " ('Uruguay', 1.4)]"
      ]
     },
     "execution_count": 42,
     "metadata": {},
     "output_type": "execute_result"
    }
   ],
   "source": [
    "def return_average_goals_per_game():\n",
    "    return session.query(Team.country, func.avg(Statistics.goals)).join(Statistics).group_by(Team.country).all()\n",
    "\n",
    "return_average_goals_per_game()"
   ]
  },
  {
   "cell_type": "code",
   "execution_count": null,
   "metadata": {},
   "outputs": [],
   "source": [
    "def return_average_bp_per_game():\n",
    "    return session.query(Team.country, func.avg(Statistics.ball_possession)).join(Statistics).group_by(Team.country).all()\n",
    "\n",
    "return_average_bp_per_game()"
   ]
  },
  {
   "cell_type": "code",
   "execution_count": null,
   "metadata": {},
   "outputs": [],
   "source": [
    "def return_average_ot_per_game():\n",
    "    return session.query(Team.country, func.avg(Statistics.on_target)).join(Statistics).group_by(Team.country).all()\n",
    "\n",
    "return_average_ot_per_game()"
   ]
  },
  {
   "cell_type": "code",
   "execution_count": null,
   "metadata": {},
   "outputs": [],
   "source": [
    "def return_average_pa_per_game():\n",
    "    return session.query(Team.country, func.avg(Statistics.pass_accuracy)).join(Statistics).group_by(Team.country).all()\n",
    "\n",
    "return_average_pa_per_game()"
   ]
  },
  {
   "cell_type": "code",
   "execution_count": null,
   "metadata": {},
   "outputs": [],
   "source": [
    "def average_dc_vs_goals_per_game():\n",
    "    return session.query(Team.country, func.avg(Statistics.distance_covered), func.avg(Statistics.goals)).join(Statistics).group_by(Team.country).order_by(func.avg(Statistics.distance_covered).asc()).all()\n",
    "\n",
    "average_dc_vs_goals_per_game()"
   ]
  },
  {
   "cell_type": "code",
   "execution_count": null,
   "metadata": {},
   "outputs": [],
   "source": [
    "def average_dc_vs_pa_per_game():\n",
    "    return session.query(Team.country, func.avg(Statistics.distance_covered), func.avg(Statistics.pass_accuracy)).join(Statistics).group_by(Team.country).order_by(func.avg(Statistics.distance_covered).asc()).all()\n",
    "\n",
    "average_dc_vs_pa_per_game()"
   ]
  },
  {
   "cell_type": "code",
   "execution_count": null,
   "metadata": {},
   "outputs": [],
   "source": [
    "def average_dc_vs_bp_per_game():\n",
    "    return session.query(Team.country, func.avg(Statistics.distance_covered), func.avg(Statistics.ball_possession)).join(Statistics).group_by(Team.country).order_by(func.avg(Statistics.distance_covered).asc()).all()\n",
    "\n",
    "average_dc_vs_bp_per_game()"
   ]
  },
  {
   "cell_type": "code",
   "execution_count": null,
   "metadata": {},
   "outputs": [],
   "source": [
    "def return_average_dc_per_game_desc():\n",
    "    return session.query(Team.country, func.avg(Statistics.distance_covered)).group_by(Statistics.name).order_by(func.avg(Statistics.distance_covered).desc()).join(Statistics).all()\n",
    "\n",
    "return_average_dc_per_game_desc()"
   ]
  },
  {
   "cell_type": "code",
   "execution_count": null,
   "metadata": {},
   "outputs": [],
   "source": [
    "def top_eight_average_dc_per_game_desc():\n",
    "    return session.query(Team.country, func.avg(Statistics.distance_covered)).group_by(Statistics.name).order_by(func.avg(Statistics.distance_covered).desc()).join(Statistics)[0:8]\n",
    "\n",
    "top_eight_average_dc_per_game_desc()"
   ]
  },
  {
   "cell_type": "code",
   "execution_count": null,
   "metadata": {},
   "outputs": [],
   "source": [
    "def return_most_dc_per_team_desc():\n",
    "    return session.query(Team.country, func.sum(Statistics.distance_covered)).\n",
    "group_by(Statistics.name).order_by(func.sum(Statistics.distance_covered).desc()).join(Statistics).all()\n",
    "\n",
    "return_most_dc_per_team_desc()"
   ]
  },
  {
   "cell_type": "code",
   "execution_count": null,
   "metadata": {},
   "outputs": [],
   "source": [
    "def return_goals_per_team_desc():\n",
    "    return session.query(Team.country, func.sum(Statistics.goals)).group_by(Statistics.name).order_by(func.sum(Statistics.goals).desc()).join(Statistics).all()\n",
    "\n",
    "return_goals_per_team_desc()"
   ]
  },
  {
   "cell_type": "code",
   "execution_count": null,
   "metadata": {},
   "outputs": [],
   "source": [
    "def return_venue_by_goals_desc():\n",
    "    return session.query(Game.venue, func.sum(Statistics.goals)).join(Statistics).group_by(Game.venue).order_by(func.sum(Statistics.goals).desc()).all()\n",
    "\n",
    "return_venue_by_goals_desc()"
   ]
  },
  {
   "cell_type": "code",
   "execution_count": null,
   "metadata": {},
   "outputs": [],
   "source": [
    "# #work on this later\n",
    "# def return_game_winners_by_goals_desc():\n",
    "#     return session.query(Game.winner, func.sum(Statistics.goals)).join(Statistics).group_by(Game.winner).order_by(func.sum(Statistics.goals).desc()).all()\n",
    "\n",
    "# return_game_winners_by_goals_desc"
   ]
  },
  {
   "cell_type": "code",
   "execution_count": null,
   "metadata": {},
   "outputs": [],
   "source": [
    "all_game_objects[0].teams[1].country "
   ]
  },
  {
   "cell_type": "code",
   "execution_count": null,
   "metadata": {},
   "outputs": [],
   "source": [
    "session.query(Statistics,func.max(Statistics.ball_possession)).join(Team)[0].Statistics.name"
   ]
  },
  {
   "cell_type": "code",
   "execution_count": null,
   "metadata": {},
   "outputs": [],
   "source": [
    "def count_user_ids(session):\n",
    "    count_userids = session.query(func.count(User.id)).one()\n",
    "    return count_userids"
   ]
  },
  {
   "cell_type": "code",
   "execution_count": null,
   "metadata": {},
   "outputs": [],
   "source": [
    "session.query(Statistics,func.max(Statistics.distance_covered)).join(Game)[0].Game.venue"
   ]
  },
  {
   "cell_type": "code",
   "execution_count": null,
   "metadata": {},
   "outputs": [],
   "source": [
    "Team.country.query.all()"
   ]
  },
  {
   "cell_type": "code",
   "execution_count": null,
   "metadata": {},
   "outputs": [],
   "source": [
    "def country_name_by_obj(country_object):\n",
    "    for team in Team.query.all():\n",
    "        if country_object == team:\n",
    "            country = artist.name\n",
    "            return name"
   ]
  },
  {
   "cell_type": "code",
   "execution_count": null,
   "metadata": {},
   "outputs": [],
   "source": [
    "\n",
    "def list_of_countries_for_dropdown():\n",
    "    options = [{'label': 'Country', 'value': 'all_countries'}]\n",
    "    country_list = [country.name for country in Artist.query.all()]\n",
    "    for artist in artist_list:\n",
    "        options.append({'label': artist, 'value': artist})\n",
    "    return options\n"
   ]
  }
 ],
 "metadata": {
  "kernelspec": {
   "display_name": "Python 3",
   "language": "python",
   "name": "python3"
  },
  "language_info": {
   "codemirror_mode": {
    "name": "ipython",
    "version": 3
   },
   "file_extension": ".py",
   "mimetype": "text/x-python",
   "name": "python",
   "nbconvert_exporter": "python",
   "pygments_lexer": "ipython3",
   "version": "3.7.0"
  }
 },
 "nbformat": 4,
 "nbformat_minor": 2
}

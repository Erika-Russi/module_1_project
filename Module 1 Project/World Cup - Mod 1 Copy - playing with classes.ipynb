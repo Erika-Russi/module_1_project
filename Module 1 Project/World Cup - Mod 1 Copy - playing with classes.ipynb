{
 "cells": [
  {
   "cell_type": "code",
   "execution_count": 1,
   "metadata": {},
   "outputs": [],
   "source": [
    "import requests\n",
    "url = 'https://worldcup.sfg.io/matches'\n",
    "r = requests.get(url)\n",
    "all_games = r.json()"
   ]
  },
  {
   "cell_type": "code",
   "execution_count": 2,
   "metadata": {},
   "outputs": [
    {
     "data": {
      "text/plain": [
       "{'venue': 'Moscow',\n",
       " 'location': 'Luzhniki Stadium',\n",
       " 'status': 'completed',\n",
       " 'time': 'full-time',\n",
       " 'fifa_id': '300331503',\n",
       " 'weather': {'humidity': '43',\n",
       "  'temp_celsius': '17',\n",
       "  'temp_farenheit': '49',\n",
       "  'wind_speed': '6',\n",
       "  'description': 'Partly Cloudy'},\n",
       " 'attendance': '78011',\n",
       " 'officials': ['Nestor PITANA',\n",
       "  'Hernan MAIDANA',\n",
       "  'Juan Pablo BELATTI',\n",
       "  'Sandro RICCI',\n",
       "  'Massimiliano IRRATI',\n",
       "  'Carlos ASTROZA',\n",
       "  'Mauro VIGLIANO',\n",
       "  'Daniele ORSATO',\n",
       "  'Emerson DE CARVALHO'],\n",
       " 'stage_name': 'First stage',\n",
       " 'home_team_country': 'Russia',\n",
       " 'away_team_country': 'Saudi Arabia',\n",
       " 'datetime': '2018-06-14T15:00:00Z',\n",
       " 'winner': 'Russia',\n",
       " 'winner_code': 'RUS',\n",
       " 'home_team': {'country': 'Russia', 'code': 'RUS', 'goals': 5, 'penalties': 0},\n",
       " 'away_team': {'country': 'Saudi Arabia',\n",
       "  'code': 'KSA',\n",
       "  'goals': 0,\n",
       "  'penalties': 0},\n",
       " 'home_team_events': [{'id': 5,\n",
       "   'type_of_event': 'goal',\n",
       "   'player': 'Iury GAZINSKY',\n",
       "   'time': \"12'\"},\n",
       "  {'id': 1,\n",
       "   'type_of_event': 'substitution-in',\n",
       "   'player': 'Denis CHERYSHEV',\n",
       "   'time': \"24'\"},\n",
       "  {'id': 320,\n",
       "   'type_of_event': 'substitution-out',\n",
       "   'player': 'Alan DZAGOEV',\n",
       "   'time': \"24'\"},\n",
       "  {'id': 2,\n",
       "   'type_of_event': 'goal',\n",
       "   'player': 'Denis CHERYSHEV',\n",
       "   'time': \"43'\"},\n",
       "  {'id': 4,\n",
       "   'type_of_event': 'substitution-in',\n",
       "   'player': 'Daler KUZIAEV',\n",
       "   'time': \"64'\"},\n",
       "  {'id': 322,\n",
       "   'type_of_event': 'substitution-out',\n",
       "   'player': 'Alexander SAMEDOV',\n",
       "   'time': \"64'\"},\n",
       "  {'id': 8,\n",
       "   'type_of_event': 'substitution-in',\n",
       "   'player': 'Artem DZYUBA',\n",
       "   'time': \"70'\"},\n",
       "  {'id': 321,\n",
       "   'type_of_event': 'substitution-out',\n",
       "   'player': 'Fedor SMOLOV',\n",
       "   'time': \"70'\"},\n",
       "  {'id': 9, 'type_of_event': 'goal', 'player': 'Artem DZYUBA', 'time': \"71'\"},\n",
       "  {'id': 6,\n",
       "   'type_of_event': 'yellow-card',\n",
       "   'player': 'Aleksandr GOLOVIN',\n",
       "   'time': \"88'\"},\n",
       "  {'id': 3,\n",
       "   'type_of_event': 'goal',\n",
       "   'player': 'Denis CHERYSHEV',\n",
       "   'time': \"90'+1'\"},\n",
       "  {'id': 7,\n",
       "   'type_of_event': 'goal',\n",
       "   'player': 'Aleksandr GOLOVIN',\n",
       "   'time': \"90'+4'\"}],\n",
       " 'away_team_events': [{'id': 12,\n",
       "   'type_of_event': 'substitution-in',\n",
       "   'player': 'FAHAD ALMUWALLAD',\n",
       "   'time': \"64'\"},\n",
       "  {'id': 325,\n",
       "   'type_of_event': 'substitution-out',\n",
       "   'player': 'ABDULLAH OTAYF',\n",
       "   'time': \"64'\"},\n",
       "  {'id': 10,\n",
       "   'type_of_event': 'substitution-in',\n",
       "   'player': 'HATAN BAHBIR',\n",
       "   'time': \"72'\"},\n",
       "  {'id': 323,\n",
       "   'type_of_event': 'substitution-out',\n",
       "   'player': 'YAHIA ALSHEHRI',\n",
       "   'time': \"72'\"},\n",
       "  {'id': 326,\n",
       "   'type_of_event': 'substitution-in',\n",
       "   'player': 'HATAN BAHBRI',\n",
       "   'time': \"72'\"},\n",
       "  {'id': 13,\n",
       "   'type_of_event': 'substitution-in',\n",
       "   'player': 'MUHANNAD ASIRI',\n",
       "   'time': \"85'\"},\n",
       "  {'id': 324,\n",
       "   'type_of_event': 'substitution-out',\n",
       "   'player': 'MOHAMMED ALSAHLAWI',\n",
       "   'time': \"85'\"},\n",
       "  {'id': 11,\n",
       "   'type_of_event': 'yellow-card',\n",
       "   'player': 'TAISEER ALJASSAM',\n",
       "   'time': \"90'+3'\"}],\n",
       " 'home_team_statistics': {'country': 'Russia',\n",
       "  'attempts_on_goal': 13,\n",
       "  'on_target': 7,\n",
       "  'off_target': 3,\n",
       "  'blocked': 3,\n",
       "  'woodwork': 0,\n",
       "  'corners': 6,\n",
       "  'offsides': 3,\n",
       "  'ball_possession': 40,\n",
       "  'pass_accuracy': 78,\n",
       "  'num_passes': 306,\n",
       "  'passes_completed': 240,\n",
       "  'distance_covered': 118,\n",
       "  'balls_recovered': 53,\n",
       "  'tackles': 9,\n",
       "  'clearances': 19,\n",
       "  'yellow_cards': 1,\n",
       "  'red_cards': 0,\n",
       "  'fouls_committed': 22,\n",
       "  'tactics': '4-2-3-1',\n",
       "  'starting_eleven': [{'name': 'Igor AKINFEEV',\n",
       "    'captain': True,\n",
       "    'shirt_number': 1,\n",
       "    'position': 'Goalie'},\n",
       "   {'name': 'MARIO FERNANDES',\n",
       "    'captain': False,\n",
       "    'shirt_number': 2,\n",
       "    'position': 'Defender'},\n",
       "   {'name': 'Ilya KUTEPOV',\n",
       "    'captain': False,\n",
       "    'shirt_number': 3,\n",
       "    'position': 'Defender'},\n",
       "   {'name': 'Sergey IGNASHEVICH',\n",
       "    'captain': False,\n",
       "    'shirt_number': 4,\n",
       "    'position': 'Defender'},\n",
       "   {'name': 'Iury GAZINSKY',\n",
       "    'captain': False,\n",
       "    'shirt_number': 8,\n",
       "    'position': 'Midfield'},\n",
       "   {'name': 'Alan DZAGOEV',\n",
       "    'captain': False,\n",
       "    'shirt_number': 9,\n",
       "    'position': 'Midfield'},\n",
       "   {'name': 'Fedor SMOLOV',\n",
       "    'captain': False,\n",
       "    'shirt_number': 10,\n",
       "    'position': 'Forward'},\n",
       "   {'name': 'Roman ZOBNIN',\n",
       "    'captain': False,\n",
       "    'shirt_number': 11,\n",
       "    'position': 'Midfield'},\n",
       "   {'name': 'Aleksandr GOLOVIN',\n",
       "    'captain': False,\n",
       "    'shirt_number': 17,\n",
       "    'position': 'Midfield'},\n",
       "   {'name': 'Yury ZHIRKOV',\n",
       "    'captain': False,\n",
       "    'shirt_number': 18,\n",
       "    'position': 'Midfield'},\n",
       "   {'name': 'Alexander SAMEDOV',\n",
       "    'captain': False,\n",
       "    'shirt_number': 19,\n",
       "    'position': 'Midfield'}],\n",
       "  'substitutes': [{'name': 'Andrey SEMENOV',\n",
       "    'captain': False,\n",
       "    'shirt_number': 5,\n",
       "    'position': 'Defender'},\n",
       "   {'name': 'Denis CHERYSHEV',\n",
       "    'captain': False,\n",
       "    'shirt_number': 6,\n",
       "    'position': 'Midfield'},\n",
       "   {'name': 'Daler KUZIAEV',\n",
       "    'captain': False,\n",
       "    'shirt_number': 7,\n",
       "    'position': 'Midfield'},\n",
       "   {'name': 'Andrei LUNEV',\n",
       "    'captain': False,\n",
       "    'shirt_number': 12,\n",
       "    'position': 'Goalie'},\n",
       "   {'name': 'Fedor KUDRIASHOV',\n",
       "    'captain': False,\n",
       "    'shirt_number': 13,\n",
       "    'position': 'Defender'},\n",
       "   {'name': 'Vladimir GRANAT',\n",
       "    'captain': False,\n",
       "    'shirt_number': 14,\n",
       "    'position': 'Defender'},\n",
       "   {'name': 'Alexey MIRANCHUK',\n",
       "    'captain': False,\n",
       "    'shirt_number': 15,\n",
       "    'position': 'Midfield'},\n",
       "   {'name': 'Anton MIRANCHUK',\n",
       "    'captain': False,\n",
       "    'shirt_number': 16,\n",
       "    'position': 'Midfield'},\n",
       "   {'name': 'Vladimir GABULOV',\n",
       "    'captain': False,\n",
       "    'shirt_number': 20,\n",
       "    'position': 'Goalie'},\n",
       "   {'name': 'Aleksandr EROKHIN',\n",
       "    'captain': False,\n",
       "    'shirt_number': 21,\n",
       "    'position': 'Midfield'},\n",
       "   {'name': 'Artem DZYUBA',\n",
       "    'captain': False,\n",
       "    'shirt_number': 22,\n",
       "    'position': 'Forward'},\n",
       "   {'name': 'Igor SMOLNIKOV',\n",
       "    'captain': False,\n",
       "    'shirt_number': 23,\n",
       "    'position': 'Defender'}]},\n",
       " 'away_team_statistics': {'country': 'Saudi Arabia',\n",
       "  'attempts_on_goal': 6,\n",
       "  'on_target': 0,\n",
       "  'off_target': 3,\n",
       "  'blocked': 3,\n",
       "  'woodwork': 0,\n",
       "  'corners': 2,\n",
       "  'offsides': 1,\n",
       "  'ball_possession': 60,\n",
       "  'pass_accuracy': 86,\n",
       "  'num_passes': 511,\n",
       "  'passes_completed': 442,\n",
       "  'distance_covered': 105,\n",
       "  'balls_recovered': 48,\n",
       "  'tackles': 16,\n",
       "  'clearances': 31,\n",
       "  'yellow_cards': 1,\n",
       "  'red_cards': 0,\n",
       "  'fouls_committed': 10,\n",
       "  'tactics': '4-5-1',\n",
       "  'starting_eleven': [{'name': 'ABDULLAH ALMUAIOUF',\n",
       "    'captain': False,\n",
       "    'shirt_number': 1,\n",
       "    'position': 'Goalie'},\n",
       "   {'name': 'OSAMA HAWSAWI',\n",
       "    'captain': True,\n",
       "    'shirt_number': 3,\n",
       "    'position': 'Defender'},\n",
       "   {'name': 'OMAR HAWSAWI',\n",
       "    'captain': False,\n",
       "    'shirt_number': 5,\n",
       "    'position': 'Defender'},\n",
       "   {'name': 'MOHAMMED ALBURAYK',\n",
       "    'captain': False,\n",
       "    'shirt_number': 6,\n",
       "    'position': 'Defender'},\n",
       "   {'name': 'SALMAN ALFARAJ',\n",
       "    'captain': False,\n",
       "    'shirt_number': 7,\n",
       "    'position': 'Midfield'},\n",
       "   {'name': 'YAHIA ALSHEHRI',\n",
       "    'captain': False,\n",
       "    'shirt_number': 8,\n",
       "    'position': 'Midfield'},\n",
       "   {'name': 'MOHAMMED ALSAHLAWI',\n",
       "    'captain': False,\n",
       "    'shirt_number': 10,\n",
       "    'position': 'Forward'},\n",
       "   {'name': 'YASSER ALSHAHRANI',\n",
       "    'captain': False,\n",
       "    'shirt_number': 13,\n",
       "    'position': 'Defender'},\n",
       "   {'name': 'ABDULLAH OTAYF',\n",
       "    'captain': False,\n",
       "    'shirt_number': 14,\n",
       "    'position': 'Midfield'},\n",
       "   {'name': 'TAISEER ALJASSAM',\n",
       "    'captain': False,\n",
       "    'shirt_number': 17,\n",
       "    'position': 'Midfield'},\n",
       "   {'name': 'SALEM ALDAWSARI',\n",
       "    'captain': False,\n",
       "    'shirt_number': 18,\n",
       "    'position': 'Midfield'}],\n",
       "  'substitutes': [{'name': 'MANSOUR ALHARBI',\n",
       "    'captain': False,\n",
       "    'shirt_number': 2,\n",
       "    'position': 'Defender'},\n",
       "   {'name': 'ALI ALBULAYHI',\n",
       "    'captain': False,\n",
       "    'shirt_number': 4,\n",
       "    'position': 'Defender'},\n",
       "   {'name': 'HATAN BAHBRI',\n",
       "    'captain': False,\n",
       "    'shirt_number': 9,\n",
       "    'position': 'Midfield'},\n",
       "   {'name': 'ABDULMALEK ALKHAIBRI',\n",
       "    'captain': False,\n",
       "    'shirt_number': 11,\n",
       "    'position': 'Midfield'},\n",
       "   {'name': 'MOHAMED KANNO',\n",
       "    'captain': False,\n",
       "    'shirt_number': 12,\n",
       "    'position': 'Midfield'},\n",
       "   {'name': 'ABDULLAH ALKHAIBARI',\n",
       "    'captain': False,\n",
       "    'shirt_number': 15,\n",
       "    'position': 'Midfield'},\n",
       "   {'name': 'HUSSAIN ALMOQAHWI',\n",
       "    'captain': False,\n",
       "    'shirt_number': 16,\n",
       "    'position': 'Midfield'},\n",
       "   {'name': 'FAHAD ALMUWALLAD',\n",
       "    'captain': False,\n",
       "    'shirt_number': 19,\n",
       "    'position': 'Forward'},\n",
       "   {'name': 'MUHANNAD ASIRI',\n",
       "    'captain': False,\n",
       "    'shirt_number': 20,\n",
       "    'position': 'Forward'},\n",
       "   {'name': 'YASSER ALMOSAILEM',\n",
       "    'captain': False,\n",
       "    'shirt_number': 21,\n",
       "    'position': 'Goalie'},\n",
       "   {'name': 'MOHAMMED ALOWAIS',\n",
       "    'captain': False,\n",
       "    'shirt_number': 22,\n",
       "    'position': 'Goalie'},\n",
       "   {'name': 'MOTAZ HAWSAWI',\n",
       "    'captain': False,\n",
       "    'shirt_number': 23,\n",
       "    'position': 'Defender'}]},\n",
       " 'last_event_update_at': '2018-06-21T02:36:44Z',\n",
       " 'last_score_update_at': None}"
      ]
     },
     "execution_count": 2,
     "metadata": {},
     "output_type": "execute_result"
    }
   ],
   "source": [
    "game_one = all_games[0]\n",
    "game_one"
   ]
  },
  {
   "cell_type": "code",
   "execution_count": 3,
   "metadata": {},
   "outputs": [
    {
     "data": {
      "text/plain": [
       "'Moscow'"
      ]
     },
     "execution_count": 3,
     "metadata": {},
     "output_type": "execute_result"
    }
   ],
   "source": [
    "game_one['venue']"
   ]
  },
  {
   "cell_type": "code",
   "execution_count": 6,
   "metadata": {},
   "outputs": [],
   "source": [
    "from datetime import datetime as dt\n",
    "import sqlalchemy\n",
    "from sqlalchemy.ext.declarative import declarative_base\n",
    "from sqlalchemy import Column, Integer, Text, ForeignKey, DateTime, create_engine\n",
    "from sqlalchemy.orm import sessionmaker, relationship\n",
    "Base = declarative_base()\n",
    "\n",
    "class Game(Base): #child\n",
    "    __tablename__ = 'games'\n",
    "    id = Column(Integer, primary_key = True)\n",
    "    venue = Column(Text)\n",
    "    date = Column(DateTime)     \n",
    "    home_team_id = Column(Integer,ForeignKey('teams.id'))\n",
    "    home_team = relationship('Team', back_populates='games')\n",
    "#     away_team_id = Column(Integer,ForeignKey('teams.id'))\n",
    "# #     away_team = relationship('Team', back_populates='games')\n",
    "# #     winner = Column(Text) #Kyle's suggestion is to make winner an argument of the Game class instead of tied to a winner\n",
    "# # #    class\n",
    "#     winner_id = Column(Integer,ForeignKey('teams.id'))\n",
    "# #     winner = relationship('Team', back_populates='games')\n",
    "\n",
    "# originally tried to make the Team the only class with relationship to game. tried it as both the parent and child,\n",
    "# but the duplication of names and objects was throwing ev off:\n",
    "class Team(Base): #parent\n",
    "    __tablename__ = 'teams'\n",
    "    id = Column(Integer, primary_key = True)\n",
    "    country = Column(Text)\n",
    "    games = relationship('Game', back_populates='team')"
   ]
  },
  {
   "cell_type": "code",
   "execution_count": 7,
   "metadata": {},
   "outputs": [
    {
     "ename": "InvalidRequestError",
     "evalue": "One or more mappers failed to initialize - can't proceed with initialization of other mappers. Triggering mapper: 'Mapper|Team|teams'. Original exception was: Mapper 'Mapper|Game|games' has no property 'teams'",
     "output_type": "error",
     "traceback": [
      "\u001b[0;31m---------------------------------------------------------------------------\u001b[0m",
      "\u001b[0;31mInvalidRequestError\u001b[0m                       Traceback (most recent call last)",
      "\u001b[0;32m<ipython-input-7-c1568c5a92c4>\u001b[0m in \u001b[0;36m<module>\u001b[0;34m()\u001b[0m\n\u001b[0;32m----> 1\u001b[0;31m \u001b[0mrussia\u001b[0m \u001b[0;34m=\u001b[0m \u001b[0mTeam\u001b[0m\u001b[0;34m(\u001b[0m\u001b[0mcountry\u001b[0m\u001b[0;34m=\u001b[0m\u001b[0;34m'Russia'\u001b[0m\u001b[0;34m)\u001b[0m\u001b[0;34m\u001b[0m\u001b[0m\n\u001b[0m",
      "\u001b[0;32m<string>\u001b[0m in \u001b[0;36m__init__\u001b[0;34m(self, **kwargs)\u001b[0m\n",
      "\u001b[0;32m/anaconda3/lib/python3.7/site-packages/sqlalchemy/orm/instrumentation.py\u001b[0m in \u001b[0;36m_new_state_if_none\u001b[0;34m(self, instance)\u001b[0m\n\u001b[1;32m    389\u001b[0m                 \u001b[0m_new_state_if_none\u001b[0m\u001b[0;34m(\u001b[0m\u001b[0minstance\u001b[0m\u001b[0;34m)\u001b[0m\u001b[0;34m\u001b[0m\u001b[0m\n\u001b[1;32m    390\u001b[0m         \u001b[0;32melse\u001b[0m\u001b[0;34m:\u001b[0m\u001b[0;34m\u001b[0m\u001b[0m\n\u001b[0;32m--> 391\u001b[0;31m             \u001b[0mstate\u001b[0m \u001b[0;34m=\u001b[0m \u001b[0mself\u001b[0m\u001b[0;34m.\u001b[0m\u001b[0m_state_constructor\u001b[0m\u001b[0;34m(\u001b[0m\u001b[0minstance\u001b[0m\u001b[0;34m,\u001b[0m \u001b[0mself\u001b[0m\u001b[0;34m)\u001b[0m\u001b[0;34m\u001b[0m\u001b[0m\n\u001b[0m\u001b[1;32m    392\u001b[0m             \u001b[0mself\u001b[0m\u001b[0;34m.\u001b[0m\u001b[0m_state_setter\u001b[0m\u001b[0;34m(\u001b[0m\u001b[0minstance\u001b[0m\u001b[0;34m,\u001b[0m \u001b[0mstate\u001b[0m\u001b[0;34m)\u001b[0m\u001b[0;34m\u001b[0m\u001b[0m\n\u001b[1;32m    393\u001b[0m             \u001b[0;32mreturn\u001b[0m \u001b[0mstate\u001b[0m\u001b[0;34m\u001b[0m\u001b[0m\n",
      "\u001b[0;32m/anaconda3/lib/python3.7/site-packages/sqlalchemy/util/langhelpers.py\u001b[0m in \u001b[0;36m__get__\u001b[0;34m(self, obj, cls)\u001b[0m\n\u001b[1;32m    765\u001b[0m         \u001b[0;32mif\u001b[0m \u001b[0mobj\u001b[0m \u001b[0;32mis\u001b[0m \u001b[0;32mNone\u001b[0m\u001b[0;34m:\u001b[0m\u001b[0;34m\u001b[0m\u001b[0m\n\u001b[1;32m    766\u001b[0m             \u001b[0;32mreturn\u001b[0m \u001b[0mself\u001b[0m\u001b[0;34m\u001b[0m\u001b[0m\n\u001b[0;32m--> 767\u001b[0;31m         \u001b[0mobj\u001b[0m\u001b[0;34m.\u001b[0m\u001b[0m__dict__\u001b[0m\u001b[0;34m[\u001b[0m\u001b[0mself\u001b[0m\u001b[0;34m.\u001b[0m\u001b[0m__name__\u001b[0m\u001b[0;34m]\u001b[0m \u001b[0;34m=\u001b[0m \u001b[0mresult\u001b[0m \u001b[0;34m=\u001b[0m \u001b[0mself\u001b[0m\u001b[0;34m.\u001b[0m\u001b[0mfget\u001b[0m\u001b[0;34m(\u001b[0m\u001b[0mobj\u001b[0m\u001b[0;34m)\u001b[0m\u001b[0;34m\u001b[0m\u001b[0m\n\u001b[0m\u001b[1;32m    768\u001b[0m         \u001b[0;32mreturn\u001b[0m \u001b[0mresult\u001b[0m\u001b[0;34m\u001b[0m\u001b[0m\n\u001b[1;32m    769\u001b[0m \u001b[0;34m\u001b[0m\u001b[0m\n",
      "\u001b[0;32m/anaconda3/lib/python3.7/site-packages/sqlalchemy/orm/instrumentation.py\u001b[0m in \u001b[0;36m_state_constructor\u001b[0;34m(self)\u001b[0m\n\u001b[1;32m    219\u001b[0m     \u001b[0;34m@\u001b[0m\u001b[0mutil\u001b[0m\u001b[0;34m.\u001b[0m\u001b[0mmemoized_property\u001b[0m\u001b[0;34m\u001b[0m\u001b[0m\n\u001b[1;32m    220\u001b[0m     \u001b[0;32mdef\u001b[0m \u001b[0m_state_constructor\u001b[0m\u001b[0;34m(\u001b[0m\u001b[0mself\u001b[0m\u001b[0;34m)\u001b[0m\u001b[0;34m:\u001b[0m\u001b[0;34m\u001b[0m\u001b[0m\n\u001b[0;32m--> 221\u001b[0;31m         \u001b[0mself\u001b[0m\u001b[0;34m.\u001b[0m\u001b[0mdispatch\u001b[0m\u001b[0;34m.\u001b[0m\u001b[0mfirst_init\u001b[0m\u001b[0;34m(\u001b[0m\u001b[0mself\u001b[0m\u001b[0;34m,\u001b[0m \u001b[0mself\u001b[0m\u001b[0;34m.\u001b[0m\u001b[0mclass_\u001b[0m\u001b[0;34m)\u001b[0m\u001b[0;34m\u001b[0m\u001b[0m\n\u001b[0m\u001b[1;32m    222\u001b[0m         \u001b[0;32mreturn\u001b[0m \u001b[0mstate\u001b[0m\u001b[0;34m.\u001b[0m\u001b[0mInstanceState\u001b[0m\u001b[0;34m\u001b[0m\u001b[0m\n\u001b[1;32m    223\u001b[0m \u001b[0;34m\u001b[0m\u001b[0m\n",
      "\u001b[0;32m/anaconda3/lib/python3.7/site-packages/sqlalchemy/event/attr.py\u001b[0m in \u001b[0;36m__call__\u001b[0;34m(self, *args, **kw)\u001b[0m\n\u001b[1;32m    282\u001b[0m             \u001b[0mfn\u001b[0m\u001b[0;34m(\u001b[0m\u001b[0;34m*\u001b[0m\u001b[0margs\u001b[0m\u001b[0;34m,\u001b[0m \u001b[0;34m**\u001b[0m\u001b[0mkw\u001b[0m\u001b[0;34m)\u001b[0m\u001b[0;34m\u001b[0m\u001b[0m\n\u001b[1;32m    283\u001b[0m         \u001b[0;32mfor\u001b[0m \u001b[0mfn\u001b[0m \u001b[0;32min\u001b[0m \u001b[0mself\u001b[0m\u001b[0;34m.\u001b[0m\u001b[0mlisteners\u001b[0m\u001b[0;34m:\u001b[0m\u001b[0;34m\u001b[0m\u001b[0m\n\u001b[0;32m--> 284\u001b[0;31m             \u001b[0mfn\u001b[0m\u001b[0;34m(\u001b[0m\u001b[0;34m*\u001b[0m\u001b[0margs\u001b[0m\u001b[0;34m,\u001b[0m \u001b[0;34m**\u001b[0m\u001b[0mkw\u001b[0m\u001b[0;34m)\u001b[0m\u001b[0;34m\u001b[0m\u001b[0m\n\u001b[0m\u001b[1;32m    285\u001b[0m \u001b[0;34m\u001b[0m\u001b[0m\n\u001b[1;32m    286\u001b[0m     \u001b[0;32mdef\u001b[0m \u001b[0m__len__\u001b[0m\u001b[0;34m(\u001b[0m\u001b[0mself\u001b[0m\u001b[0;34m)\u001b[0m\u001b[0;34m:\u001b[0m\u001b[0;34m\u001b[0m\u001b[0m\n",
      "\u001b[0;32m/anaconda3/lib/python3.7/site-packages/sqlalchemy/orm/mapper.py\u001b[0m in \u001b[0;36m_event_on_first_init\u001b[0;34m(manager, cls)\u001b[0m\n\u001b[1;32m   3141\u001b[0m     \u001b[0;32mif\u001b[0m \u001b[0minstrumenting_mapper\u001b[0m\u001b[0;34m:\u001b[0m\u001b[0;34m\u001b[0m\u001b[0m\n\u001b[1;32m   3142\u001b[0m         \u001b[0;32mif\u001b[0m \u001b[0mMapper\u001b[0m\u001b[0;34m.\u001b[0m\u001b[0m_new_mappers\u001b[0m\u001b[0;34m:\u001b[0m\u001b[0;34m\u001b[0m\u001b[0m\n\u001b[0;32m-> 3143\u001b[0;31m             \u001b[0mconfigure_mappers\u001b[0m\u001b[0;34m(\u001b[0m\u001b[0;34m)\u001b[0m\u001b[0;34m\u001b[0m\u001b[0m\n\u001b[0m\u001b[1;32m   3144\u001b[0m \u001b[0;34m\u001b[0m\u001b[0m\n\u001b[1;32m   3145\u001b[0m \u001b[0;34m\u001b[0m\u001b[0m\n",
      "\u001b[0;32m/anaconda3/lib/python3.7/site-packages/sqlalchemy/orm/mapper.py\u001b[0m in \u001b[0;36mconfigure_mappers\u001b[0;34m()\u001b[0m\n\u001b[1;32m   3028\u001b[0m                         % (mapper, mapper._configure_failed))\n\u001b[1;32m   3029\u001b[0m                     \u001b[0me\u001b[0m\u001b[0;34m.\u001b[0m\u001b[0m_configure_failed\u001b[0m \u001b[0;34m=\u001b[0m \u001b[0mmapper\u001b[0m\u001b[0;34m.\u001b[0m\u001b[0m_configure_failed\u001b[0m\u001b[0;34m\u001b[0m\u001b[0m\n\u001b[0;32m-> 3030\u001b[0;31m                     \u001b[0;32mraise\u001b[0m \u001b[0me\u001b[0m\u001b[0;34m\u001b[0m\u001b[0m\n\u001b[0m\u001b[1;32m   3031\u001b[0m                 \u001b[0;32mif\u001b[0m \u001b[0;32mnot\u001b[0m \u001b[0mmapper\u001b[0m\u001b[0;34m.\u001b[0m\u001b[0mconfigured\u001b[0m\u001b[0;34m:\u001b[0m\u001b[0;34m\u001b[0m\u001b[0m\n\u001b[1;32m   3032\u001b[0m                     \u001b[0;32mtry\u001b[0m\u001b[0;34m:\u001b[0m\u001b[0;34m\u001b[0m\u001b[0m\n",
      "\u001b[0;31mInvalidRequestError\u001b[0m: One or more mappers failed to initialize - can't proceed with initialization of other mappers. Triggering mapper: 'Mapper|Team|teams'. Original exception was: Mapper 'Mapper|Game|games' has no property 'teams'"
     ]
    }
   ],
   "source": [
    "russia = Team(country='Russia')"
   ]
  },
  {
   "cell_type": "code",
   "execution_count": null,
   "metadata": {},
   "outputs": [],
   "source": [
    "# russia = HomeTeam(country='Russia')\n",
    "# w_russia = Winner(country='Russia')\n",
    "# saudi_arabia = AwayTeam(country='Saudi Arabia'\n",
    "\n",
    "game_one"
   ]
  },
  {
   "cell_type": "code",
   "execution_count": null,
   "metadata": {},
   "outputs": [],
   "source": []
  },
  {
   "cell_type": "code",
   "execution_count": null,
   "metadata": {},
   "outputs": [],
   "source": [
    "game_one.winner.country"
   ]
  },
  {
   "cell_type": "code",
   "execution_count": null,
   "metadata": {},
   "outputs": [],
   "source": [
    "# for g in all_games:\n",
    "#     print(g['venue'])\n",
    "all_venues = [g['venue'] for g in all_games]\n"
   ]
  },
  {
   "cell_type": "code",
   "execution_count": null,
   "metadata": {},
   "outputs": [],
   "source": [
    "\n",
    "all_games_tuples= [(game['venue'],dt(2018, 6, 14, 0, 0), game['home_team_country'], game['away_team_country'], game['winner']) for game in all_games]"
   ]
  },
  {
   "cell_type": "code",
   "execution_count": null,
   "metadata": {},
   "outputs": [],
   "source": [
    "all_games_tuples"
   ]
  },
  {
   "cell_type": "code",
   "execution_count": null,
   "metadata": {},
   "outputs": [],
   "source": [
    "all_games_objects= [Game(venue=t[0],date= t[1], home_team=HomeTeam(country=t[2]), away_team=AwayTeam(country = t[3]), winner =Winner(country = t[4])) for t in all_games_tuples]"
   ]
  },
  {
   "cell_type": "code",
   "execution_count": null,
   "metadata": {},
   "outputs": [],
   "source": [
    "all_games_objects"
   ]
  },
  {
   "cell_type": "code",
   "execution_count": null,
   "metadata": {},
   "outputs": [],
   "source": [
    "all_games_objects[63].winner.country"
   ]
  },
  {
   "cell_type": "code",
   "execution_count": null,
   "metadata": {},
   "outputs": [],
   "source": [
    "engine = create_engine('sqlite:///worldcup.db')\n",
    "\n",
    "Session = sessionmaker(bind=engine)\n",
    "session = Session()"
   ]
  },
  {
   "cell_type": "code",
   "execution_count": null,
   "metadata": {},
   "outputs": [],
   "source": [
    "session.add_all(all_games_objects)\n",
    "session.commit()"
   ]
  },
  {
   "cell_type": "code",
   "execution_count": null,
   "metadata": {},
   "outputs": [],
   "source": []
  },
  {
   "cell_type": "code",
   "execution_count": null,
   "metadata": {},
   "outputs": [],
   "source": [
    "game_one.date.strftime('%Y-%m-%d')"
   ]
  },
  {
   "cell_type": "code",
   "execution_count": null,
   "metadata": {},
   "outputs": [],
   "source": [
    "game_one.winner"
   ]
  },
  {
   "cell_type": "code",
   "execution_count": null,
   "metadata": {},
   "outputs": [],
   "source": [
    "game_one.winner.country"
   ]
  },
  {
   "cell_type": "code",
   "execution_count": null,
   "metadata": {},
   "outputs": [],
   "source": [
    "type(saudi_arabia)"
   ]
  },
  {
   "cell_type": "code",
   "execution_count": null,
   "metadata": {},
   "outputs": [],
   "source": [
    "saudi_arabia.country"
   ]
  },
  {
   "cell_type": "code",
   "execution_count": null,
   "metadata": {},
   "outputs": [],
   "source": [
    "game_one.home_team.country"
   ]
  },
  {
   "cell_type": "code",
   "execution_count": null,
   "metadata": {},
   "outputs": [],
   "source": [
    "game_one.venue"
   ]
  },
  {
   "cell_type": "code",
   "execution_count": null,
   "metadata": {
    "scrolled": true
   },
   "outputs": [],
   "source": [
    "\n",
    "\n",
    "# 'datetime': '2018-06-14T15:00:00Z',\n",
    "datetime_object = dt.strptime('Jun 1 2005  1:33PM', '%b %d %Y %I:%M%p')\n",
    "datetime_object"
   ]
  },
  {
   "cell_type": "code",
   "execution_count": null,
   "metadata": {},
   "outputs": [],
   "source": [
    "dt.strptime('2018-06-14','%Y-%m-%d') #for function later only extract the first 10 positions of the datetime string\n",
    "#in dictionary"
   ]
  },
  {
   "cell_type": "code",
   "execution_count": null,
   "metadata": {},
   "outputs": [],
   "source": [
    "print(dt(2018, 6, 14, 0, 0))"
   ]
  },
  {
   "cell_type": "code",
   "execution_count": null,
   "metadata": {},
   "outputs": [],
   "source": []
  },
  {
   "cell_type": "code",
   "execution_count": null,
   "metadata": {},
   "outputs": [],
   "source": []
  }
 ],
 "metadata": {
  "kernelspec": {
   "display_name": "Python 3",
   "language": "python",
   "name": "python3"
  },
  "language_info": {
   "codemirror_mode": {
    "name": "ipython",
    "version": 3
   },
   "file_extension": ".py",
   "mimetype": "text/x-python",
   "name": "python",
   "nbconvert_exporter": "python",
   "pygments_lexer": "ipython3",
   "version": "3.7.0"
  }
 },
 "nbformat": 4,
 "nbformat_minor": 2
}

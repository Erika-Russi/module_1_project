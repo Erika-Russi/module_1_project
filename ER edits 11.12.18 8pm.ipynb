{
 "cells": [
  {
   "cell_type": "code",
   "execution_count": 1,
   "metadata": {},
   "outputs": [],
   "source": [
    "import requests\n",
    "url = 'https://worldcup.sfg.io/matches'\n",
    "r = requests.get(url)\n",
    "all_games = r.json()"
   ]
  },
  {
   "cell_type": "code",
   "execution_count": 2,
   "metadata": {},
   "outputs": [],
   "source": [
    "from datetime import datetime as dt\n",
    "from sqlalchemy import Column, Integer, String, ForeignKey, DateTime, create_engine\n",
    "from sqlalchemy.ext.declarative import declarative_base\n",
    "from sqlalchemy.orm import sessionmaker, relationship, backref\n",
    "\n",
    "Base = declarative_base()\n",
    "\n",
    "class Game(Base):\n",
    "    __tablename__ = 'games'\n",
    "    id = Column(Integer, primary_key=True)\n",
    "    venue = Column(String)\n",
    "    winner = Column(String)\n",
    "    statistics = relationship('Statistics', back_populates=\"game\")\n",
    "    teams = relationship(\n",
    "        'Team',\n",
    "        secondary='statistics',\n",
    "        back_populates='games'\n",
    "    )\n",
    "\n",
    "class Team(Base):\n",
    "    __tablename__ = 'teams'\n",
    "    id = Column(Integer, primary_key=True)\n",
    "    country = Column(String)\n",
    "    statistics = relationship('Statistics', back_populates=\"team\")\n",
    "    games = relationship(\n",
    "        'Game',\n",
    "        secondary='statistics',\n",
    "        back_populates='teams'\n",
    "    )\n",
    "\n",
    "class Statistics(Base):\n",
    "    __tablename__ = 'statistics'\n",
    "    id = Column(Integer, primary_key=True)\n",
    "    game_id = Column(Integer, ForeignKey('games.id'))\n",
    "    team_id = Column(Integer, ForeignKey('teams.id'))\n",
    "    goals = Column(Integer)\n",
    "    game = relationship('Game', back_populates='statistics')\n",
    "    team = relationship('Team', back_populates='statistics')\n",
    "    ball_possession=Column(Integer)\n",
    "    distance_covered=Column(Integer)\n",
    "    on_target=Column(Integer)\n",
    "    pass_accuracy=Column(Integer)\n",
    "\n",
    "engine = create_engine('sqlite:///worldcup.db')\n",
    "Base.metadata.create_all(engine)\n",
    "Session = sessionmaker(bind=engine)\n",
    "session = Session()"
   ]
  },
  {
   "cell_type": "code",
   "execution_count": 3,
   "metadata": {},
   "outputs": [],
   "source": [
    "all_games_tuples= [(game['venue'], game['home_team_country'], game['away_team_country']) for game in all_games]"
   ]
  },
  {
   "cell_type": "code",
   "execution_count": 4,
   "metadata": {},
   "outputs": [],
   "source": [
    "all_games_tuples= [(game['venue'], game['home_team_country'], game['away_team_country']) for game in all_games]\n",
    "h_teams = set([t[1] for t in all_games_tuples])\n",
    "a_teams = set([t[2] for t in all_games_tuples])\n",
    "teams = h_teams.union(a_teams)"
   ]
  },
  {
   "cell_type": "code",
   "execution_count": 5,
   "metadata": {},
   "outputs": [
    {
     "data": {
      "text/plain": [
       "32"
      ]
     },
     "execution_count": 5,
     "metadata": {},
     "output_type": "execute_result"
    }
   ],
   "source": [
    "team_objects = [Team(country = t) for t in teams]\n",
    "len(team_objects)"
   ]
  },
  {
   "cell_type": "code",
   "execution_count": 6,
   "metadata": {},
   "outputs": [],
   "source": [
    "session.add_all(team_objects)\n",
    "session.commit()"
   ]
  },
  {
   "cell_type": "code",
   "execution_count": 7,
   "metadata": {},
   "outputs": [
    {
     "data": {
      "text/plain": [
       "<__main__.Team at 0x10f458f28>"
      ]
     },
     "execution_count": 7,
     "metadata": {},
     "output_type": "execute_result"
    }
   ],
   "source": [
    "session.query(Team).filter(Team.country == 'Russia').one()"
   ]
  },
  {
   "cell_type": "code",
   "execution_count": 8,
   "metadata": {},
   "outputs": [],
   "source": [
    "all_game_objects = []\n",
    "all_stats = []\n",
    "for game in all_games:\n",
    "    h_team = session.query(Team).filter(Team.country == game['home_team_statistics']['country']).one()\n",
    "    a_team = session.query(Team).filter(Team.country == game['away_team_statistics']['country']).one()\n",
    "    game_object = Game(venue= game['venue'],\n",
    "                       teams = [h_team, a_team])\n",
    "    all_game_objects.append(game_object)\n",
    "    \n",
    "    \n",
    "    h_goals = game['home_team']['goals']\n",
    "    \n",
    "    h_ball_possession = game['home_team_statistics']['ball_possession']\n",
    "    a_goals = game['away_team']['goals']\n",
    "    a_ball_possession = game['away_team_statistics']['ball_possession']\n",
    "    h_distance_covered = game['home_team_statistics']['distance_covered']\n",
    "    a_distance_covered = game['away_team_statistics']['distance_covered']\n",
    "    h_pass_accuracy = game['home_team_statistics']['pass_accuracy']\n",
    "    a_pass_accuracy = game['away_team_statistics']['pass_accuracy']\n",
    "    h_on_target = game['home_team_statistics']['on_target']\n",
    "    a_on_target = game['away_team_statistics']['on_target']\n",
    "\n",
    "#     game = session.query(Game).filter(Game.teams[0].country == stat[1]['country']).filter(Game.team[1].country == stat[3]['country']).one()\n",
    "#     this was a test. still need to get the correct game ; game = session.query(Game).filter(Game.venue == 'Moscow').all()[0]\n",
    "   \n",
    "    h_stats = Statistics(game = game_object,\n",
    "                         team = h_team, \n",
    "                        ball_possession =h_ball_possession,\n",
    "                        goals = h_goals,\n",
    "                        distance_covered = h_distance_covered,\n",
    "                        pass_accuracy = h_pass_accuracy,\n",
    "                        on_target = h_on_target)\n",
    "    a_stats = Statistics(game = game_object,\n",
    "                        team = a_team,\n",
    "                        ball_possession =a_ball_possession,\n",
    "                        goals = a_goals,\n",
    "                        distance_covered = a_distance_covered,\n",
    "                        pass_accuracy = a_pass_accuracy,\n",
    "                        on_target = a_on_target)\n",
    "    all_stats.append(h_stats)\n",
    "    all_stats.append(a_stats) "
   ]
  },
  {
   "cell_type": "code",
   "execution_count": 10,
   "metadata": {},
   "outputs": [
    {
     "data": {
      "text/plain": [
       "128"
      ]
     },
     "execution_count": 10,
     "metadata": {},
     "output_type": "execute_result"
    }
   ],
   "source": [
    "len(all_stats)"
   ]
  },
  {
   "cell_type": "code",
   "execution_count": 10,
   "metadata": {},
   "outputs": [],
   "source": [
    "assert(len(all_game_objects)==64)"
   ]
  },
  {
   "cell_type": "code",
   "execution_count": 11,
   "metadata": {},
   "outputs": [],
   "source": [
    "session.add_all(all_game_objects)\n",
    "session.add_all(all_stats)\n",
    "session.commit()"
   ]
  },
  {
   "cell_type": "code",
   "execution_count": 12,
   "metadata": {},
   "outputs": [
    {
     "data": {
      "text/plain": [
       "'Morocco'"
      ]
     },
     "execution_count": 12,
     "metadata": {},
     "output_type": "execute_result"
    }
   ],
   "source": [
    "session.query(Game).filter(Game.venue == 'St. Petersburg').all()[0].teams[0].country"
   ]
  },
  {
   "cell_type": "code",
   "execution_count": 13,
   "metadata": {},
   "outputs": [
    {
     "data": {
      "text/plain": [
       "5"
      ]
     },
     "execution_count": 13,
     "metadata": {},
     "output_type": "execute_result"
    }
   ],
   "source": [
    "all_games[0]['home_team']['goals']"
   ]
  },
  {
   "cell_type": "code",
   "execution_count": 14,
   "metadata": {},
   "outputs": [
    {
     "data": {
      "text/plain": [
       "'Saransk'"
      ]
     },
     "execution_count": 14,
     "metadata": {},
     "output_type": "execute_result"
    }
   ],
   "source": [
    "all_stats[29].game.venue"
   ]
  },
  {
   "cell_type": "code",
   "execution_count": 17,
   "metadata": {},
   "outputs": [
    {
     "ename": "SyntaxError",
     "evalue": "unexpected EOF while parsing (<ipython-input-17-4926ae262127>, line 1)",
     "output_type": "error",
     "traceback": [
      "\u001b[0;36m  File \u001b[0;32m\"<ipython-input-17-4926ae262127>\"\u001b[0;36m, line \u001b[0;32m1\u001b[0m\n\u001b[0;31m    len(session.query(Game).join(Statistics).filter_by(Team.country == 'Colombia').first()\u001b[0m\n\u001b[0m                                                                                          ^\u001b[0m\n\u001b[0;31mSyntaxError\u001b[0m\u001b[0;31m:\u001b[0m unexpected EOF while parsing\n"
     ]
    }
   ],
   "source": [
    "len(session.query(Game).join(Statistics).filter_by(Team.country == 'Colombia').first()"
   ]
  },
  {
   "cell_type": "code",
   "execution_count": null,
   "metadata": {},
   "outputs": [],
   "source": [
    "\n",
    "\n",
    "#1. Just statistics objects\n",
    "#2. Go through all of the stats objects\n",
    "    all_stats = session.query(Stat).all()\n",
    "    for stat in all_stats:\n",
    "        name = stat.country_name\n",
    "        team = session.query(Team).filter_by(name=name)\n",
    "#         stat.team_id = team.id\n",
    "        stat.team = team\n",
    "        session.commit()\n",
    "        \n",
    "        \n",
    "\n",
    "for stat in all_statistics:\n",
    "    name = find_country_name(stat)\n",
    "    team = session.query(Team).filter_by(name=name)\n",
    "    stat.team_id = team.id\n",
    "    "
   ]
  }
 ],
 "metadata": {
  "kernelspec": {
   "display_name": "Python 3",
   "language": "python",
   "name": "python3"
  },
  "language_info": {
   "codemirror_mode": {
    "name": "ipython",
    "version": 3
   },
   "file_extension": ".py",
   "mimetype": "text/x-python",
   "name": "python",
   "nbconvert_exporter": "python",
   "pygments_lexer": "ipython3",
   "version": "3.7.0"
  }
 },
 "nbformat": 4,
 "nbformat_minor": 2
}
